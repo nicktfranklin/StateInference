{
 "cells": [
  {
   "cell_type": "code",
   "execution_count": 1,
   "id": "febf9fc3",
   "metadata": {},
   "outputs": [],
   "source": [
    "%load_ext autoreload\n",
    "%autoreload 2\n",
    "\n",
    "%matplotlib inline\n",
    "\n",
    "import numpy as np\n",
    "import matplotlib.pyplot as plt\n",
    "import seaborn as sns\n",
    "import pandas as pd\n",
    "from tqdm import tqdm\n",
    "from models import ValueIterationNetwork, softmax, GridWorldNode\n",
    "\n",
    "from simulation_utils import get_optimal_sr_from_transitions\n",
    "from environments import make_thread_the_needle, make_thread_the_needle_walls_moved_door\n",
    "import environments as e\n"
   ]
  },
  {
   "cell_type": "markdown",
   "id": "b3aa8ad2",
   "metadata": {},
   "source": [
    "# Simulation 1: Change in transition matrix\n",
    "Idea here is to calculate the computational cost, in resampling uniformly the transitions"
   ]
  },
  {
   "cell_type": "code",
   "execution_count": 2,
   "id": "a86203d3",
   "metadata": {},
   "outputs": [
    {
     "data": {
      "image/png": "[encoded data removed]",
      "text/plain": [
       "<Figure size 576x288 with 2 Axes>"
      ]
     },
     "metadata": {},
     "output_type": "display_data"
    }
   ],
   "source": [
    "# define the enviornment\n",
    "n_rows, n_columns = 20, 20\n",
    "\n",
    "\n",
    "gamma = 0.95\n",
    "\n",
    "\n",
    "sr_kwargs = dict(n_rows=n_rows, n_columns=n_columns, gamma=gamma)\n",
    "\n",
    "\n",
    "\n",
    "fig, axes = plt.subplots(1, 2, figsize=(8, 4))    \n",
    "\n",
    "\n",
    "\n",
    "transition_functions, reward_functions, optimal_policy = make_thread_the_needle(\n",
    "    n_rows=n_rows,\n",
    "    n_columns=n_columns,\n",
    "    movement_penalty=0.01,\n",
    "    slip_probability=0.05,\n",
    "    random_movement_on_error=False,\n",
    "    sparse=False,\n",
    ")\n",
    "\n",
    "M = get_optimal_sr_from_transitions(transition_functions, optimal_policy, **sr_kwargs)\n",
    "    \n",
    "axes[0].imshow(M[-1,].reshape(20 ,20), origin='upper',  cmap='magma_r')\n",
    "e.clean_up_thread_the_needle_plot(axes[0], n_rows, n_columns)\n",
    "axes[0].annotate('G', (0, 0), ha='center', va='center', c='w')\n",
    "axes[0].annotate('S', (n_rows-1, n_columns-1), ha='center', va='center', c='w')\n",
    "\n",
    "\n",
    "transition_functions, _, _ = make_thread_the_needle(\n",
    "    n_rows=n_rows,\n",
    "    n_columns=n_columns,\n",
    "    movement_penalty=0.01,\n",
    "    slip_probability=0.05,\n",
    "    random_movement_on_error=False,\n",
    "    list_walls = make_thread_the_needle_walls_moved_door(n_columns),\n",
    "    sparse=False,\n",
    ")\n",
    "optimal_policy = e.make_thread_the_needle_with_doors_optimal_policy(n_rows, n_columns)\n",
    "M_post = get_optimal_sr_from_transitions(transition_functions, optimal_policy, **sr_kwargs)\n",
    "\n",
    "\n",
    "axes[1].imshow(M_post[-1,].reshape(20 ,20), origin='upper', cmap='magma_r')\n",
    "walls = e.make_thread_the_needle_walls_moved_door(n_columns)\n",
    "e.clean_up_thread_the_needle_plot(axes[1], n_rows, n_columns, walls=walls)\n",
    "axes[1].annotate('G', (0, 0), ha='center', va='center', c='k')\n",
    "axes[1].annotate('S', (n_rows-1, n_columns-1), ha='center', va='center', c='w')\n",
    "\n",
    "axes[0].set_title('Before Door Open+Close')\n",
    "axes[1].set_title('After Door Open+Close')\n",
    "\n",
    "plt.savefig('SuccessorRepresentation_transition_change.pdf', dpi=300)"
   ]
  },
  {
   "cell_type": "code",
   "execution_count": null,
   "id": "5f69f9da",
   "metadata": {},
   "outputs": [],
   "source": []
  },
  {
   "cell_type": "code",
   "execution_count": 3,
   "id": "536120e5",
   "metadata": {},
   "outputs": [
    {
     "data": {
      "text/plain": [
       "0.3740397891989125"
      ]
     },
     "execution_count": 3,
     "metadata": {},
     "output_type": "execute_result"
    }
   ],
   "source": [
    "np.dot(M.reshape(-1), M_post.reshape(-1)) / (np.linalg.norm(M.reshape(-1)) * np.linalg.norm(M_post.reshape(-1)))"
   ]
  },
  {
   "cell_type": "code",
   "execution_count": 4,
   "id": "a09e6102",
   "metadata": {},
   "outputs": [
    {
     "data": {
      "text/plain": [
       "0.8045461905504755"
      ]
     },
     "execution_count": 4,
     "metadata": {},
     "output_type": "execute_result"
    }
   ],
   "source": [
    "np.dot(M.dot(reward_functions), M_post.dot(reward_functions)) / (\n",
    "    np.linalg.norm(M.dot(reward_functions)) *\n",
    "    np.linalg.norm(M_post.dot(reward_functions))\n",
    ")"
   ]
  },
  {
   "cell_type": "code",
   "execution_count": 5,
   "id": "f75017f6",
   "metadata": {},
   "outputs": [
    {
     "data": {
      "text/plain": [
       "<matplotlib.image.AxesImage at 0x7f7ccde05a90>"
      ]
     },
     "execution_count": 5,
     "metadata": {},
     "output_type": "execute_result"
    },
    {
     "data": {
      "image/png": "[encoded data removed]",
      "text/plain": [
       "<Figure size 432x288 with 1 Axes>"
      ]
     },
     "metadata": {
      "needs_background": "light"
     },
     "output_type": "display_data"
    }
   ],
   "source": [
    "plt.imshow(M.dot(reward_functions).reshape(20, 20))"
   ]
  },
  {
   "cell_type": "code",
   "execution_count": 6,
   "id": "8e2c7aef",
   "metadata": {},
   "outputs": [
    {
     "data": {
      "text/plain": [
       "<matplotlib.image.AxesImage at 0x7f7ccded6a00>"
      ]
     },
     "execution_count": 6,
     "metadata": {},
     "output_type": "execute_result"
    },
    {
     "data": {
      "image/png": "[encoded data removed]",
      "text/plain": [
       "<Figure size 432x288 with 1 Axes>"
      ]
     },
     "metadata": {
      "needs_background": "light"
     },
     "output_type": "display_data"
    }
   ],
   "source": [
    "plt.imshow(M_post.dot(reward_functions).reshape(20, 20))"
   ]
  },
  {
   "cell_type": "markdown",
   "id": "5a9895ef",
   "metadata": {},
   "source": [
    "## MCTS simulations\n",
    "These simulations are meant to show that the diffusion policy (a proxy for the stochastic simulation step) are not great for directed search. Has nothing to do with the SR -- and should be moved to a different notebook"
   ]
  },
  {
   "cell_type": "code",
   "execution_count": 7,
   "id": "f3a80a3b",
   "metadata": {},
   "outputs": [
    {
     "ename": "NameError",
     "evalue": "name 'environments' is not defined",
     "output_type": "error",
     "traceback": [
      "\u001b[0;31m---------------------------------------------------------------------------\u001b[0m",
      "\u001b[0;31mNameError\u001b[0m                                 Traceback (most recent call last)",
      "\u001b[0;32m<ipython-input-7-fb145e351408>\u001b[0m in \u001b[0;36m<module>\u001b[0;34m\u001b[0m\n\u001b[1;32m      7\u001b[0m \u001b[0;34m\u001b[0m\u001b[0m\n\u001b[1;32m      8\u001b[0m \u001b[0;34m\u001b[0m\u001b[0m\n\u001b[0;32m----> 9\u001b[0;31m transition_functions, reward_functions, optimal_policy = environments.make_thread_the_needle(\n\u001b[0m\u001b[1;32m     10\u001b[0m     \u001b[0mn_rows\u001b[0m\u001b[0;34m=\u001b[0m\u001b[0mn_rows\u001b[0m\u001b[0;34m,\u001b[0m\u001b[0;34m\u001b[0m\u001b[0;34m\u001b[0m\u001b[0m\n\u001b[1;32m     11\u001b[0m     \u001b[0mn_columns\u001b[0m\u001b[0;34m=\u001b[0m\u001b[0mn_columns\u001b[0m\u001b[0;34m,\u001b[0m\u001b[0;34m\u001b[0m\u001b[0;34m\u001b[0m\u001b[0m\n",
      "\u001b[0;31mNameError\u001b[0m: name 'environments' is not defined"
     ]
    }
   ],
   "source": [
    "n_rows, n_columns = 8, 8\n",
    "\n",
    "import environments as e\n",
    "\n",
    "gamma = 0.95\n",
    "\n",
    "\n",
    "\n",
    "transition_functions, reward_functions, optimal_policy = environments.make_thread_the_needle(\n",
    "    n_rows=n_rows,\n",
    "    n_columns=n_columns,\n",
    "    movement_penalty=0.01,\n",
    "    slip_probability=0.05,\n",
    "    random_movement_on_error=False,\n",
    "    sparse=False,\n",
    ")\n",
    "M = get_optimal_sr_from_transitions(transition_functions, optimal_policy, n_rows, n_columns)\n",
    "\n",
    "\n",
    "transition_functions_diffusion = [np.mean(transition_functions, axis=0) for _ in range(4)]\n",
    "\n",
    "M_diff = get_optimal_sr_from_transitions(transition_functions_diffusion, optimal_policy)\n",
    "\n",
    "plt.imshow(M_diff.dot(reward_functions).reshape(20, 20))"
   ]
  },
  {
   "cell_type": "code",
   "execution_count": null,
   "id": "ff7d0116",
   "metadata": {},
   "outputs": [],
   "source": [
    "# plot the value function as a function of path distance to goal.\n",
    "v_optimal = M.dot(reward_functions)\n",
    "v_diffus = M_diff.dot(reward_functions)"
   ]
  },
  {
   "cell_type": "code",
   "execution_count": null,
   "id": "213ada77",
   "metadata": {},
   "outputs": [],
   "source": [
    "plt.imshow(v_optimal.reshape(n_rows, n_columns))"
   ]
  },
  {
   "cell_type": "code",
   "execution_count": null,
   "id": "0357eb09",
   "metadata": {},
   "outputs": [],
   "source": [
    "# \n",
    "from simulation_utils import find_sortest_path_length, _get_neighbors\n",
    "f = lambda s: find_sortest_path_length(v_optimal, 0, s, n_rows, n_columns)\n",
    "distances_to_goal = np.array([\n",
    "    f(s) for s in range(n_rows * n_columns)\n",
    "])\n",
    "plt.imshow(distances_to_goal.reshape(n_rows, n_columns))"
   ]
  },
  {
   "cell_type": "code",
   "execution_count": null,
   "id": "5510963e",
   "metadata": {},
   "outputs": [],
   "source": [
    "_get_neighbors(10, n_columns, n_rows)"
   ]
  },
  {
   "cell_type": "code",
   "execution_count": null,
   "id": "fee48f77",
   "metadata": {},
   "outputs": [],
   "source": [
    "transition_functions[0][10].reshape(20, 20)"
   ]
  },
  {
   "cell_type": "markdown",
   "id": "ecccbb4c",
   "metadata": {},
   "source": [
    "back to the SR!"
   ]
  },
  {
   "cell_type": "code",
   "execution_count": null,
   "id": "f643ba77",
   "metadata": {},
   "outputs": [],
   "source": [
    "gamma = 0.99\n",
    "\n",
    "transition_functions, _, optimal_policy = environments.make_thread_the_needle(\n",
    "    n_rows=n_rows,\n",
    "    n_columns=n_columns,\n",
    "    movement_penalty=0.01,\n",
    "    slip_probability=0.05,\n",
    "    random_movement_on_error=False,\n",
    "    sparse=False,\n",
    "    list_walls=e.make_thread_the_needle_walls_moved_door(n_columns)\n",
    ")\n",
    "\n",
    "# turn optimal policy in to pmf\n",
    "pi = optimal_policy * np.tile(1/ optimal_policy.sum(axis=1), (4, 1)).T\n",
    "\n",
    "# marginalize out the optimal policy\n",
    "T_sas = np.transpose(transition_functions, (1, 0, 2))\n",
    "T_ss = np.array([T_sas[ii ,:].T.dot(pi[ii]) for ii in range(pi.shape[0])])\n",
    "\n",
    "# calculate the SR\n",
    "M =  np.linalg.inv(np.eye(400) - gamma * T_ss)\n",
    "\n",
    "\n",
    "\n",
    "plt.imshow(M[-1,].reshape(20 ,20))"
   ]
  },
  {
   "cell_type": "markdown",
   "id": "d699950c",
   "metadata": {},
   "source": [
    "# Simulation 2: Policy Re-evaluation \n"
   ]
  },
  {
   "cell_type": "code",
   "execution_count": null,
   "id": "40bdd23c",
   "metadata": {},
   "outputs": [],
   "source": [
    "# 1-D state-space with 20 states.  Start at state 4, goal at 0 (+1), loss at 8, (-1)\n",
    "# optimal policy: left with 100%\n",
    "# assume epsilon slip probability, so\n",
    "# T(s, s') = s-1 with probability 1-epsilon\n",
    "\n",
    "\n",
    "n_states = 20\n",
    "start_state = n_states // 2 + 1\n",
    "epsilon = 0.05\n",
    "\n",
    "\n",
    "\n",
    "T_left = np.diag(np.ones(n_states-1), k=-1) * (1 - epsilon) \\\n",
    "    + np.diag(np.ones(n_states-1), k=1) * epsilon\n",
    "# make the goal states terminal\n",
    "T_left[0,0] = 1\n",
    "T_left[0, 1:] = 0\n",
    "T_left[-1, -1] = 1\n",
    "T_left[-1, :-1] = 0\n",
    "\n",
    "T_right = np.diag(np.ones(n_states-1), k=1) * (1 - epsilon) \\\n",
    "    + np.diag(np.ones(n_states-1), k=-1) * epsilon\n",
    "# make the goal states terminal\n",
    "T_right[0,0] = 1\n",
    "T_right[0, 1:] = 0\n",
    "T_right[-1, -1] = 1\n",
    "T_right[-1, :-1] = 0\n",
    "\n",
    "\n",
    "# optimal policy is always to go left\n",
    "T_pi = np.copy(T_left)\n",
    "T_df = np.copy(T_left + T_right) / 2"
   ]
  },
  {
   "cell_type": "code",
   "execution_count": null,
   "id": "53732689",
   "metadata": {},
   "outputs": [],
   "source": [
    "# eqn 12 in Russek 2017\n",
    "\n",
    "gamma = 0.8\n",
    "\n",
    "M = np.linalg.inv(np.eye(n_states) - gamma * T_pi)\n",
    "plt.imshow(M)\n",
    "plt.xticks([ii for ii in range(4, 21, 5)], labels=[ii for ii in range(5, 21, 5)])\n",
    "plt.yticks([ii for ii in range(4, 21, 5)], labels=[ii for ii in range(5, 21, 5)])\n"
   ]
  },
  {
   "cell_type": "code",
   "execution_count": null,
   "id": "cc0eee72",
   "metadata": {},
   "outputs": [],
   "source": [
    "R = np.zeros(n_states)\n",
    "R[0] = 1\n",
    "R[-1] = 0\n",
    "\n",
    "# equation 6, Gershman J Neuro 2018\n",
    "V = M.dot(R.reshape(-1, 1))\n",
    "plt.bar(x=np.arange(1, n_states + 1), height=V.reshape(-1))\n",
    "sns.despine()\n",
    "# plt.xticks(np.arange(1, n_states + 1))\n",
    "plt.xlabel('State')\n",
    "plt.ylabel('State-Values')"
   ]
  },
  {
   "cell_type": "code",
   "execution_count": null,
   "id": "a8c91cc4",
   "metadata": {},
   "outputs": [],
   "source": [
    "# This model is my own.  One step look-ahead Q-values where\n",
    "# Q(s, a) = T(s, a, s')V(s')\n",
    "# with a policy\n",
    "# pi(s) ~ softmax[Q(s, a)]\n",
    "\n",
    "beta = 10.\n",
    "\n",
    "V = M.dot(R.reshape(-1, 1))\n",
    "Q_left = T_left.dot(V).reshape(-1)\n",
    "Q_right = T_right.dot(V).reshape(-1)\n",
    "pi_correct_pre = np.exp(Q_left*beta) / (np.exp(Q_left*beta) + np.exp(Q_right*beta))\n",
    "plt.plot(np.arange(2, n_states ), pi_correct_pre[1:-1], label='Optimal SR')\n",
    "\n",
    "# plot the diffusion SR\n",
    "M_df = np.linalg.inv(np.eye(n_states) - gamma * T_df)\n",
    "V_df = M_df.dot(R.reshape(-1, 1))\n",
    "Q_left_df = T_left.dot(V_df).reshape(-1)\n",
    "Q_right_df = T_right.dot(V_df).reshape(-1)\n",
    "pi_diff_pre = np.exp(Q_left_df*beta) / (np.exp(Q_left_df*beta) + np.exp(Q_right_df*beta))\n",
    "plt.plot(np.arange(2, n_states ), pi_diff_pre[1:-1], label='Diffusion SR')\n",
    "\n",
    "plt.plot(np.arange(2, n_states), np.ones(n_states-2) * 0.5, 'k:', label='chance')\n",
    "\n",
    "plt.legend()\n",
    "sns.despine()"
   ]
  },
  {
   "cell_type": "code",
   "execution_count": null,
   "id": "a41f0aaa",
   "metadata": {},
   "outputs": [],
   "source": [
    "plt.plot(V)\n",
    "plt.plot(V_df)"
   ]
  },
  {
   "cell_type": "code",
   "execution_count": null,
   "id": "1b42e5df",
   "metadata": {},
   "outputs": [],
   "source": [
    "# policy\n",
    "# pi(s, a) = softmax(Q(s,a))\n",
    "\n",
    "pi_correct_pre = np.exp(Q_left*beta) / (np.exp(Q_left*beta) + np.exp(Q_right*beta))\n",
    "plt.plot(np.arange(2, n_states ), pi_correct_pre[1:-1], label='Optimal SR')\n",
    "\n",
    "# plot the same thing but with the diffusion SR\n",
    "M_df = np.linalg.inv(np.eye(n_states) - gamma * T_df)\n",
    "V = M_df.dot(R.reshape(-1, 1))\n",
    "Q_left = T_left.dot(V).reshape(-1)\n",
    "Q_right = T_right.dot(V).reshape(-1)\n",
    "pi_diff_pre = np.exp(Q_left*beta) / (np.exp(Q_left*beta) + np.exp(Q_right*beta))\n",
    "plt.plot(np.arange(2, n_states ), pi_diff_pre[1:-1], label='Diffusion SR')\n",
    "\n",
    "plt.legend()\n",
    "sns.despine()"
   ]
  },
  {
   "cell_type": "code",
   "execution_count": null,
   "id": "3cb3be75",
   "metadata": {},
   "outputs": [],
   "source": [
    "M_df.shape"
   ]
  },
  {
   "cell_type": "code",
   "execution_count": null,
   "id": "cb4997e2",
   "metadata": {},
   "outputs": [],
   "source": [
    "\n",
    "R = np.zeros(9)\n",
    "R[0] = 1\n",
    "R[-1] = 2\n",
    "\n",
    "# equation 6, Gershman J Neuro 2018\n",
    "V = M.dot(R.reshape(-1, 1))\n",
    "plt.bar(x=np.arange(1, 10), height=V.reshape(-1))\n",
    "sns.despine()\n",
    "plt.xticks(np.arange(1, 10))\n",
    "plt.xlabel('State')\n",
    "plt.ylabel('State-Values')"
   ]
  },
  {
   "cell_type": "code",
   "execution_count": null,
   "id": "ee3bfa93",
   "metadata": {},
   "outputs": [],
   "source": [
    "V = M.dot(R.reshape(-1, 1))\n",
    "\n",
    "# This model is my own.  One step look-ahead Q-values where\n",
    "# Q(s, a) = T(s, a, s')V(s')\n",
    "\n",
    "Q_left = T_left.dot(V).reshape(-1)\n",
    "Q_right = T_right.dot(V).reshape(-1)\n",
    "\n",
    "df = {\n",
    "    'State': np.concatenate([np.arange(1, 10), np.arange(1, 10)]),\n",
    "    'Q-value': np.concatenate([Q_left, Q_right]),\n",
    "    'Action': ['Left'] * 9 + ['Right'] * 9\n",
    "}\n",
    "\n",
    "\n",
    "sns.barplot(x='State',y='Q-value', data=pd.DataFrame(df), hue='Action', palette='Set2')\n",
    "sns.despine()"
   ]
  },
  {
   "cell_type": "code",
   "execution_count": null,
   "id": "775b8a24",
   "metadata": {},
   "outputs": [],
   "source": [
    "# policy\n",
    "# pi(s, a) = softmax(Q(s,a))\n",
    "pi_correct_post = np.exp(Q_left) / (np.exp(Q_left) + np.exp(Q_right))\n",
    "plt.bar(np.arange(2, 9), pi_correct_pre[1:-1])\n",
    "plt.bar(np.arange(2, 9), pi_correct_post[1:-1])\n",
    "plt.xlabel('Probablity of Left')\n",
    "plt.ylabel('State')\n",
    "sns.despine()"
   ]
  },
  {
   "cell_type": "code",
   "execution_count": null,
   "id": "cc12f74c",
   "metadata": {},
   "outputs": [],
   "source": [
    "# V = M.dot(R.reshape(-1, 1))\n",
    "T_left.dot(V)\n",
    "\n",
    "df = {\n",
    "    'State': np.concatenate([np.arange(1, 10), np.arange(1, 10)]),\n",
    "    'Q-value': np.concatenate([T_left.dot(V).reshape(-1), T_right.dot(V).reshape(-1)]),\n",
    "    'Action': ['Left'] * 9 + ['Right'] * 9\n",
    "}\n",
    "\n",
    "\n",
    "sns.barplot(x='State',y='Q-value', data=pd.DataFrame(df), hue='Action', palette='Set2')\n",
    "sns.despine()"
   ]
  },
  {
   "cell_type": "code",
   "execution_count": null,
   "id": "1e6263c3",
   "metadata": {},
   "outputs": [],
   "source": [
    "plt.plot((T_right + T_left).dot(V)\n",
    ")\n"
   ]
  },
  {
   "cell_type": "code",
   "execution_count": null,
   "id": "d106f4b5",
   "metadata": {},
   "outputs": [],
   "source": [
    "M_df = np.linalg.inv(np.eye(9) - gamma * T_df)\n",
    "V = M_df.dot(R.reshape(-1, 1))\n",
    "\n",
    "\n",
    "plt.bar(x=np.arange(1, 10), height=V.reshape(-1))\n",
    "sns.despine()\n",
    "plt.xticks(np.arange(1, 10))\n",
    "plt.xlabel('State')\n",
    "plt.ylabel('State-Values')\n",
    "plt.title('Diffusion policy')"
   ]
  },
  {
   "cell_type": "code",
   "execution_count": null,
   "id": "f28f5488",
   "metadata": {},
   "outputs": [],
   "source": [
    "state_action_reward_functions = environments.get_state_action_reward_from_sucessor_rewards(\n",
    "    R, [T_left, T_right]\n",
    ")\n",
    "\n",
    "sa_values, s_values = ValueIterationNetwork.value_iteration(\n",
    "    [T_left, T_right], state_action_reward_functions, n_rows=1, n_columns=n_states, gamma=gamma)\n",
    "s_values"
   ]
  },
  {
   "cell_type": "code",
   "execution_count": null,
   "id": "cc7d9f0a",
   "metadata": {},
   "outputs": [],
   "source": [
    "s_values"
   ]
  },
  {
   "cell_type": "code",
   "execution_count": null,
   "id": "4c97b15a",
   "metadata": {},
   "outputs": [],
   "source": [
    "plt.plot(V.reshape(-1))\n",
    "plt.plot(s_values, )"
   ]
  },
  {
   "cell_type": "code",
   "execution_count": null,
   "id": "3ab85c07",
   "metadata": {},
   "outputs": [],
   "source": [
    "sa_values"
   ]
  },
  {
   "cell_type": "code",
   "execution_count": null,
   "id": "2387cf51",
   "metadata": {},
   "outputs": [],
   "source": []
  }
 ],
 "metadata": {
  "kernelspec": {
   "display_name": "Python 3",
   "language": "python",
   "name": "python3"
  },
  "language_info": {
   "codemirror_mode": {
    "name": "ipython",
    "version": 3
   },
   "file_extension": ".py",
   "mimetype": "text/x-python",
   "name": "python",
   "nbconvert_exporter": "python",
   "pygments_lexer": "ipython3",
   "version": "3.8.8"
  }
 },
 "nbformat": 4,
 "nbformat_minor": 5
}
