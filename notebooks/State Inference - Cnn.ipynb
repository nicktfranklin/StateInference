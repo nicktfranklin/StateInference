{
 "cells": [
  {
   "cell_type": "markdown",
   "metadata": {
    "id": "8T5ES6DvlYhb"
   },
   "source": [
    "<!-- # Unsupervised State-Inference\n",
    "In reinforcement learning, it's often useful to assume that we can describe a problem in a discrete and finite set of states. For example, we might have an known number of independent bandits, or a grid-world with defined locations of objects. One reason this representation is useful is that it can dramtically simplify the problem of planning: given a known set of states $S$, a transition function $T(s,a,s') = p(s'|s,a)$ that defines the conditional probability of arriving in state $s'$ having taken action $a$ in state $s'$, and reward function $R(s, a, s')$ that defines the values over our state-action space, there are known polynomial time planning algorithms. \n",
    "\n",
    "In naturalistic enviornments, however, it can be difficult to translate raw perceptual stimuli into discrete states. Typically, states are an assumption of an enviornment and we often lack a principaled way to discover them from observation alone.  \n",
    "\n",
    "Here, the goal is to discover states using an unsupervised learning algorithm.  We'll assume states are discrete, independent latent variables and use variational inference to learn conditional probability distribution over states. More formally, given a real-valued observation vector $x\\in R^d$, we want to learn a paramterized function $f_\\theta(x)$ that defines a probability distribution over states $s$. We'll assume that we don't have access to the states, but only have the observation tuples $(x, x')$ that define transitions an agent makes in an enviornment. We will use a discrete variaitional autoencoder (VAE) for our unsupervised algorithm.\n",
    "\n",
    " -->\n"
   ]
  },
  {
   "cell_type": "code",
   "execution_count": null,
   "metadata": {},
   "outputs": [],
   "source": [
    "%load_ext autoreload\n",
    "%autoreload 2\n",
    "%matplotlib inline\n",
    "\n",
    "import sys\n",
    "sys.path.append(\"..\")\n",
    "\n",
    "import warnings\n",
    "warnings.filterwarnings('ignore', category=DeprecationWarning)"
   ]
  },
  {
   "cell_type": "code",
   "execution_count": null,
   "metadata": {
    "id": "baJCnxholTZ9"
   },
   "outputs": [],
   "source": [
    "import matplotlib.pyplot as plt\n",
    "import numpy as np\n",
    "import seaborn as sns\n",
    "import torch\n",
    "import torch.nn.functional as F\n",
    "import torch.utils.data as data\n",
    "from sklearn.metrics import pairwise_distances\n",
    "\n",
    "from src.model.agents.utils.tabular_agents import (\n",
    "    TabularRewardEstimator,\n",
    "    TabularTransitionEstimator,\n",
    "    value_iteration,\n",
    "    # StateReconstruction,\n",
    ")\n",
    "from src.model.state_inference.vae import DEVICE, StateVae\n",
    "from src.task.gridworld import OpenEnv\n",
    "from src.task.transition_model import TransitionModel\n",
    "from src.utils.sampling_functions import sample_random_walk_states, sample_states\n",
    "from src.utils.config_utils import parse_task_config, parse_model_config\n",
    "from src.utils.data import ObservationDataset\n",
    "from src.utils.pytorch_utils import (\n",
    "    convert_float_to_8bit,\n",
    "    make_tensor,\n",
    "    convert_8bit_array_to_float_tensor,\n",
    "    convert_8bit_to_float,\n",
    ")\n",
    "from src.utils.utils import BayesianFilter\n",
    "from src.task.thread_the_needle import make_thread_the_needle_walls"
   ]
  },
  {
   "cell_type": "code",
   "execution_count": null,
   "metadata": {
    "colab": {
     "base_uri": "https://localhost:8080/"
    },
    "executionInfo": {
     "elapsed": 5,
     "status": "ok",
     "timestamp": 1680813498579,
     "user": {
      "displayName": "Nicholas Franklin",
      "userId": "12504197633357716328"
     },
     "user_tz": 240
    },
    "id": "zgUf_YAB_m7U",
    "outputId": "ac8ac592-44bd-4407-98cd-9a57f888786c"
   },
   "outputs": [],
   "source": [
    "import sys\n",
    "\n",
    "print(f\"python {sys.version}\")\n",
    "print(f\"torch {torch.__version__}\")\n",
    "print(f\"device = {DEVICE}\")"
   ]
  },
  {
   "cell_type": "markdown",
   "metadata": {
    "id": "I9XZrwfQogtv"
   },
   "source": [
    "## Toy World\n",
    "First, it's useful to construct a toy world and the stimuli we'll need for the model. I'm making the assumption that the underlying MDP is a $n\\times n$ grid-world that's embedded in much higher dimensional observational space. To do so, I'll construct a much larger grid with dimensions $m\\times m$, where $m > n$, and evenly space the states in the grid. I then add a couple of sources of noise and convole the observations with a Gaussian kernel to generate the observations.  This increases the dimensionality substantially (going from $n^2$ to $m^2$) and adds significant overlap between the observations.\n",
    "\n",
    "We can think of these observations as a toy model for soemthing like a robot's estimate of it's position, or a perhaps as a model of hippocampal grid cells.  Importantly, this doesn't have to be exclusively a spatial model -- none of the subsequent modeling uses visual inductive biases and I'm hopeful this is more general toy model."
   ]
  },
  {
   "cell_type": "code",
   "execution_count": null,
   "metadata": {},
   "outputs": [],
   "source": [
    "TASK_CONFIG_FILE = \"../configs/env_config.yml\"\n",
    "TASK_NAME = \"thread_the_needle\"\n",
    "TASK_CLASS = OpenEnv\n",
    "\n",
    "MODEL_NAME = \"cnn_vae\"\n",
    "MODEL_CONFIG_FILE = \"../configs/vae_config.yml\"\n",
    "\n",
    "env_kwargs = parse_task_config(TASK_NAME, TASK_CONFIG_FILE)\n",
    "model_config = parse_model_config(MODEL_NAME, MODEL_CONFIG_FILE)\n",
    "\n",
    "task = TASK_CLASS.create_env(**env_kwargs)\n",
    "observation_model = task.observation_model\n",
    "\n",
    "# Discritized states: a 20x20 grid of states, which we embed by spacing\n",
    "# evenly in a nXn space\n",
    "\n",
    "# show an example location\n",
    "s = 17\n",
    "observation_model.display_state(s)"
   ]
  },
  {
   "cell_type": "code",
   "execution_count": null,
   "metadata": {
    "colab": {
     "base_uri": "https://localhost:8080/",
     "height": 472
    },
    "executionInfo": {
     "elapsed": 989,
     "status": "ok",
     "timestamp": 1680813500625,
     "user": {
      "displayName": "Nicholas Franklin",
      "userId": "12504197633357716328"
     },
     "user_tz": 240
    },
    "id": "bRJ-YAoq_m7W",
    "outputId": "4a6006e1-322a-414f-936f-bf86f720f0c5"
   },
   "outputs": [],
   "source": [
    "## show the 1-d overlap of neighboring states\n",
    "x, _ = observation_model.get_obs_coords(26)\n",
    "\n",
    "for s in range(20, 40):\n",
    "    obs = torch.mean(\n",
    "        torch.stack(\n",
    "            [\n",
    "                make_tensor(observation_model.embed_state_corrupted(s))[x, :]\n",
    "                for _ in range(100)\n",
    "            ]\n",
    "        ),\n",
    "        axis=0,\n",
    "    )\n",
    "    plt.plot(obs)\n",
    "\n",
    "plt.xlabel(\"Row Coordinate\")\n",
    "plt.ylabel(\"Average Pixel Intensity\")\n",
    "plt.title(\"1-d Subsection of the distribution of neighboring states\")\n",
    "plt.show()"
   ]
  },
  {
   "cell_type": "markdown",
   "metadata": {
    "id": "I8rlat-UeAIP"
   },
   "source": [
    "Notably, there is a overlap in our observation space. We can control this overlap parametrically by changing the length scale of our convolution kernel (this is akin to a wider belief distribution)"
   ]
  },
  {
   "cell_type": "code",
   "execution_count": null,
   "metadata": {
    "colab": {
     "base_uri": "https://localhost:8080/",
     "height": 529
    },
    "executionInfo": {
     "elapsed": 1041,
     "status": "ok",
     "timestamp": 1680813501661,
     "user": {
      "displayName": "Nicholas Franklin",
      "userId": "12504197633357716328"
     },
     "user_tz": 240
    },
    "id": "dpKXSGcEb6qi",
    "outputId": "66c79264-9fc5-4ba8-f942-c1e708f1ea5f"
   },
   "outputs": [],
   "source": [
    "def embed_dist(observation_model, corrupt=False):\n",
    "    def embed(s):\n",
    "        if corrupt:\n",
    "            return observation_model.embed_state_corrupted(s).reshape(-1)\n",
    "        return observation_model.embed_state(s).reshape(-1)\n",
    "\n",
    "    sample_embeddings = {s: embed(s) for s in observation_model.states.keys()}\n",
    "\n",
    "    distances = pairwise_distances(\n",
    "        np.array(list(sample_embeddings.values())), metric=\"cosine\"\n",
    "    )\n",
    "\n",
    "    mask = np.tril(np.ones_like(distances, dtype=bool), k=-1)\n",
    "    return distances.reshape(-1)[mask.reshape(-1)]\n",
    "\n",
    "\n",
    "sns.displot(\n",
    "    {\n",
    "        \"Noise-free Observations\": embed_dist(observation_model, corrupt=False),\n",
    "        \"Noisy Observations\": embed_dist(observation_model, corrupt=True),\n",
    "    },\n",
    "    bins=100,\n",
    ")\n",
    "\n",
    "plt.title(\"Distribution of Cosine Distance between observations\")\n",
    "plt.xlim([0, 1])\n",
    "plt.show()"
   ]
  },
  {
   "cell_type": "code",
   "execution_count": null,
   "metadata": {
    "colab": {
     "base_uri": "https://localhost:8080/",
     "height": 450
    },
    "executionInfo": {
     "elapsed": 237,
     "status": "ok",
     "timestamp": 1680813501894,
     "user": {
      "displayName": "Nicholas Franklin",
      "userId": "12504197633357716328"
     },
     "user_tz": 240
    },
    "id": "_U1vc4TN1tP8",
    "outputId": "853770ac-3229-44c6-aa64-50fd0eec9318"
   },
   "outputs": [],
   "source": [
    "def sample_embedding_distances():\n",
    "    sample_embeddings = {}\n",
    "    for s in observation_model.states.keys():\n",
    "        sample_embeddings[s] = observation_model(s).reshape(-1)\n",
    "\n",
    "    embedding_distances = 1 - pairwise_distances(\n",
    "        np.array(list(sample_embeddings.values())), metric=\"cosine\"\n",
    "    )\n",
    "    return embedding_distances\n",
    "\n",
    "\n",
    "embedding_distances = sample_embedding_distances()\n",
    "plt.title(\"Similarity between observations\")\n",
    "plt.imshow(embedding_distances)"
   ]
  },
  {
   "cell_type": "code",
   "execution_count": null,
   "metadata": {},
   "outputs": [],
   "source": [
    "mask = np.triu(np.ones((400, 400)), k=1).reshape(-1)\n",
    "np.mean(embedding_distances.reshape(-1)[mask == 1])"
   ]
  },
  {
   "cell_type": "code",
   "execution_count": null,
   "metadata": {},
   "outputs": [],
   "source": [
    "def sample_embedding_distances():\n",
    "    sample_embeddings = {}\n",
    "    for s in observation_model.states.keys():\n",
    "        sample_embeddings[s] = observation_model(s).reshape(-1)\n",
    "\n",
    "    sample_embeddings_2 = {}\n",
    "    for s in observation_model.states.keys():\n",
    "        sample_embeddings_2[s] = observation_model(s).reshape(-1)\n",
    "    # print(sample_embeddings)\n",
    "\n",
    "    embedding_distances = 1 - pairwise_distances(\n",
    "        np.array(list(sample_embeddings_2.values())),\n",
    "        np.array(list(sample_embeddings.values())),\n",
    "        metric=\"cosine\",\n",
    "    )\n",
    "    return embedding_distances\n",
    "\n",
    "\n",
    "embedding_distances_self = sample_embedding_distances()\n",
    "# plt.title(\"Similarity between observations\")\n",
    "# plt.imshow(embedding_distances)\n",
    "np.diag(embedding_distances_self).mean()"
   ]
  },
  {
   "cell_type": "code",
   "execution_count": null,
   "metadata": {},
   "outputs": [],
   "source": []
  },
  {
   "cell_type": "markdown",
   "metadata": {},
   "source": [
    "# State-values\n",
    "Show ground truth state values for a fixed discount factor"
   ]
  },
  {
   "cell_type": "code",
   "execution_count": null,
   "metadata": {},
   "outputs": [],
   "source": [
    "gamma = 0.95    \n",
    "q, v = task.get_state_values(gamma=gamma)\n",
    "plt.imshow(v[:-1].reshape(20, 20))\n",
    "plt.colorbar(label=\"Value\")\n",
    "plt.title(f\"Value function for gamma = {gamma}\")"
   ]
  },
  {
   "cell_type": "markdown",
   "metadata": {
    "id": "WSqB4U-NrIsp"
   },
   "source": [
    "## Discrete State-VAE\n",
    "The core idea is to use a discrete Variational Autoencoder, where states are represented as one-hot vector embeddings. The VAE is an encoder/decoder model, where the encoder learns a parameterized probability distribution over embeddings and the decoder reconstructs the original input vector from the vector embedding. \n",
    "\n",
    "The model has three key components:\n",
    "* An encoder model: $f_\\theta(x) = \\omega$\n",
    "* A Gumbel-Sofmax probability distribution over states $p_\\omega(z) \\propto exp(\\omega + \\epsilon)$, where $ \\epsilon$ is an external source of noise drawn from the Gumbel distribution.\n",
    "* A decoder model: $d_\\theta(z) = x$\n",
    "\n",
    "The model is trained with stochastic variational gradient descent: an input is passed through the decoder, a state is sampled from the Gumbel-softmax distribution, and the input is reconstructed by the decoder. This forward pass is used to calculate the ELBO loss function:\n",
    "$$ELBO(x) = \\log q(x|z) - KL(q(z|x)||p(z))$$\n",
    "where $\\log q(x|z)$ is the reconstruction loss of the network and $KL(q(z|x)||p(z))$ is the KL diveregence of the learned embedding distribution and a prior over states. Under gentle assumptions, $-\\log q(x|z)$ is the mean squared error of the reconstructed output relative to the input and the $KL(q(z|x)||p(z))$ becomes the entropy of the embedding distribution.\n",
    "\n",
    "\n"
   ]
  },
  {
   "cell_type": "markdown",
   "metadata": {
    "id": "MSlwgRQKsUUj"
   },
   "source": [
    "### Generate Dataset\n",
    "Sample states from a Random walk on the grid-world and then generate noisy observations"
   ]
  },
  {
   "cell_type": "code",
   "execution_count": null,
   "metadata": {
    "id": "qEppyd4v7VLj"
   },
   "outputs": [],
   "source": [
    "## Simulation Parameters\n",
    "N_TRAINING_EXAMPLES = 30000\n",
    "BATCH_SIZE = 64\n",
    "\n",
    "transition_model = TransitionModel(task.observation_model.h, task.observation_model.w)\n",
    "\n",
    "# Create the dataloaders from the dataset\n",
    "args = [transition_model, observation_model]\n",
    "train_obs = ObservationDataset(*args, N_TRAINING_EXAMPLES)\n",
    "test_obs = ObservationDataset(*args, train=False)\n",
    "\n",
    "train_loader = data.DataLoader(\n",
    "    train_obs,\n",
    "    batch_size=BATCH_SIZE,\n",
    "    shuffle=True,\n",
    ")\n",
    "test_loader = data.DataLoader(test_obs, batch_size=len(test_obs))"
   ]
  },
  {
   "cell_type": "markdown",
   "metadata": {
    "id": "_xQ6zi33doxa"
   },
   "source": [
    "### Train the Model"
   ]
  },
  {
   "cell_type": "code",
   "execution_count": null,
   "metadata": {
    "colab": {
     "base_uri": "https://localhost:8080/"
    },
    "executionInfo": {
     "elapsed": 5364,
     "status": "ok",
     "timestamp": 1680813514687,
     "user": {
      "displayName": "Nicholas Franklin",
      "userId": "12504197633357716328"
     },
     "user_tz": 240
    },
    "id": "bAoEmd1y7Rhk",
    "outputId": "beb7c9fd-ae99-4d59-cd49-c34a0a030800"
   },
   "outputs": [],
   "source": [
    "# ### Model + Training Parameters\n",
    "model_config = parse_model_config(MODEL_NAME, MODEL_CONFIG_FILE)\n",
    "\n",
    "vae_model = StateVae.make_from_configs(model_config, env_kwargs).to(DEVICE)\n",
    "print(vae_model)\n",
    "total_params = sum(p.numel() for p in vae_model.parameters())\n",
    "print(f\"Number of parameters: {total_params}\")\n",
    "# agent.learn(1000, estimate_batch=False, progress_bar=False)"
   ]
  },
  {
   "cell_type": "code",
   "execution_count": null,
   "metadata": {},
   "outputs": [],
   "source": [
    "from collections import Counter\n",
    "\n",
    "model_config = parse_model_config(MODEL_NAME, MODEL_CONFIG_FILE)\n",
    "\n",
    "# check the untrained loss\n",
    "vae_model = StateVae.make_from_configs(model_config, env_kwargs).to(DEVICE)\n",
    "vae_model.diagnose_loss(next(iter(train_loader)))\n",
    "\n",
    "n_states = []\n",
    "for ii in range(10):\n",
    "    vae_model = StateVae.make_from_configs(model_config, env_kwargs).to(DEVICE)\n",
    "\n",
    "    with torch.no_grad():\n",
    "        (logits, z), x_hat = vae_model(next(iter(test_loader)).to(DEVICE).float())\n",
    "\n",
    "        # convert to integers\n",
    "        z = torch.argmax(z, 2).detach().cpu().numpy()\n",
    "\n",
    "        # make into a state tuple\n",
    "        states = [tuple(z0) for z0 in z]\n",
    "    n_states.append(len(Counter(states)))\n",
    "\n",
    "print(f\"Number of Unique states in test set {np.mean(n_states)}\")"
   ]
  },
  {
   "cell_type": "code",
   "execution_count": null,
   "metadata": {
    "colab": {
     "base_uri": "https://localhost:8080/"
    },
    "executionInfo": {
     "elapsed": 21351,
     "status": "ok",
     "timestamp": 1680813536032,
     "user": {
      "displayName": "Nicholas Franklin",
      "userId": "12504197633357716328"
     },
     "user_tz": 240
    },
    "id": "UsFSEnldwVeQ",
    "outputId": "374980b9-9211-42f8-fc19-6e6edd77baaa"
   },
   "outputs": [],
   "source": [
    "# Train the the model\n",
    "N_EPOCHS = 20\n",
    "LR = 1e-3\n",
    "\n",
    "model_config = parse_model_config(MODEL_NAME, MODEL_CONFIG_FILE)\n",
    "vae_model = StateVae.make_from_configs(model_config, env_kwargs).to(DEVICE)\n",
    "\n",
    "optim = torch.optim.Adam(vae_model.parameters(), lr=LR)\n",
    "\n",
    "vae_model.fit(N_EPOCHS, train_loader, optim=optim, test_dataloader=test_loader, verbose=True, grad_clip=1.0)"
   ]
  },
  {
   "cell_type": "code",
   "execution_count": null,
   "metadata": {},
   "outputs": [],
   "source": [
    "vae_model.diagnose_loss(next(iter(train_loader)))"
   ]
  },
  {
   "cell_type": "code",
   "execution_count": null,
   "metadata": {
    "colab": {
     "base_uri": "https://localhost:8080/",
     "height": 1000
    },
    "executionInfo": {
     "elapsed": 2383,
     "status": "ok",
     "timestamp": 1680813538399,
     "user": {
      "displayName": "Nicholas Franklin",
      "userId": "12504197633357716328"
     },
     "user_tz": 240
    },
    "id": "CPvegjp3HdFB",
    "outputId": "5bf236af-fb63-4085-9ace-fd42aa6b3767"
   },
   "outputs": [],
   "source": [
    "vae_model.eval()\n",
    "s = np.random.randint(0, vae_model.z_dim * vae_model.z_layers)\n",
    "ii = 0\n",
    "fig, axes = plt.subplots(5, 2, figsize=(6, 16))\n",
    "for s in range(5):\n",
    "    s = np.random.randint(400)\n",
    "    _, X_hat = vae_model(test_obs[s, :].to(DEVICE))\n",
    "\n",
    "    axes[ii][0].imshow(convert_float_to_8bit(test_obs[s, :].squeeze()))\n",
    "    axes[ii][1].imshow(convert_float_to_8bit(X_hat.squeeze().detach().cpu()).numpy())\n",
    "    axes[ii][0].set_title(f\"State {s}\")\n",
    "    axes[ii][1].set_title(f\"State {s}, reconstructed\")\n",
    "\n",
    "    ii += 1"
   ]
  },
  {
   "cell_type": "code",
   "execution_count": null,
   "metadata": {},
   "outputs": [],
   "source": [
    "import torch.nn.functional as F\n",
    "\n",
    "# Sample generatively\n",
    "\n",
    "z_layers = model_config[\"vae_kwargs\"][\"z_layers\"]\n",
    "z_dim = model_config[\"vae_kwargs\"][\"z_dim\"]\n",
    "\n",
    "N = 4\n",
    "\n",
    "\n",
    "def sample_random_state():\n",
    "    z = torch.randint(high=z_dim, size=tuple([z_layers]))\n",
    "    return F.one_hot(z, num_classes=z_dim).to(DEVICE)\n",
    "\n",
    "\n",
    "fig, axes = plt.subplots(N, N, figsize=(9, 9))\n",
    "\n",
    "vae_model.eval()\n",
    "for t in range(N**2):\n",
    "    with torch.no_grad():\n",
    "        z = sample_random_state()\n",
    "    X_hat = vae_model.decode(z).detach().cpu()\n",
    "\n",
    "    r, c = t // N, t % N\n",
    "    plt.sca(axes[r][c])\n",
    "    plt.imshow(convert_float_to_8bit(X_hat.squeeze()))\n",
    "    plt.axis(\"off\")\n",
    "\n",
    "plt.show()"
   ]
  },
  {
   "cell_type": "markdown",
   "metadata": {},
   "source": [
    "### Evaluate the consistency of the inferred states"
   ]
  },
  {
   "cell_type": "code",
   "execution_count": null,
   "metadata": {},
   "outputs": [],
   "source": [
    "n_batch = 25\n",
    "n_states = transition_model.n_states\n",
    "\n",
    "obs = convert_8bit_to_float(\n",
    "    torch.stack(\n",
    "        [\n",
    "            make_tensor(observation_model(s))\n",
    "            for s in range(n_states)\n",
    "            for _ in range(n_batch)\n",
    "        ]\n",
    "    )\n",
    ")[:, None, ...].to(DEVICE)\n",
    "\n",
    "z = vae_model.get_state(obs)\n",
    "\n",
    "hash_vector = np.array([vae_model.z_dim**ii for ii in range(vae_model.z_layers)])\n",
    "\n",
    "z = z.dot(hash_vector)\n",
    "# d = pairwise_distances(z.reshape(-1, 1), metric=lambda x, y: x == y)\n",
    "# d = d.astype(np.float32)"
   ]
  },
  {
   "cell_type": "code",
   "execution_count": null,
   "metadata": {},
   "outputs": [],
   "source": [
    "unique_counts = np.array([np.unique(row).size for row in z.reshape(n_states, n_batch)])\n",
    "# convert to a distance metric\n",
    "d = 1 - (unique_counts.reshape(20, 20) - 1) / (25 - 1)\n",
    "\n",
    "plt.imshow(d, vmin=0, vmax=1)\n",
    "plt.colorbar()"
   ]
  },
  {
   "cell_type": "code",
   "execution_count": null,
   "metadata": {},
   "outputs": [],
   "source": [
    "unique_counts"
   ]
  },
  {
   "cell_type": "code",
   "execution_count": null,
   "metadata": {},
   "outputs": [],
   "source": [
    "sns.displot(d.reshape(-1))"
   ]
  },
  {
   "cell_type": "code",
   "execution_count": null,
   "metadata": {},
   "outputs": [],
   "source": [
    "# # calculate how similar each state's representation is to itself\n",
    "# mask = np.tril(np.ones((n_batch, n_batch)), k =-1)\n",
    "# ii = 25\n",
    "\n",
    "# self_sim = [\n",
    "#     np.sum(d[n_batch*ii:n_batch*(ii+1),n_batch*ii:n_batch*(ii+1)] * mask)  / mask.sum()\n",
    "#     for ii in range(n_states)\n",
    "# ]\n",
    "# plt.imshow(np.reshape(self_sim, (20, 20)))\n",
    "# task.display_gridworld(plt.gca(), wall_color=\"w\")"
   ]
  },
  {
   "cell_type": "code",
   "execution_count": null,
   "metadata": {},
   "outputs": [],
   "source": [
    "obs = convert_8bit_to_float(\n",
    "    torch.stack(\n",
    "        [\n",
    "            make_tensor(observation_model(s))\n",
    "            for s in range(transition_model.n_states)\n",
    "            for _ in range(1)\n",
    "        ]\n",
    "    )\n",
    ")[:, None, ...].to(DEVICE)\n",
    "z = vae_model.get_state(obs)\n",
    "\n",
    "hash_vector = np.array([vae_model.z_dim**ii for ii in range(vae_model.z_layers)])\n",
    "\n",
    "z = z.dot(hash_vector)\n",
    "d = pairwise_distances(z.reshape(-1, 1), metric=lambda x, y: x == y)\n",
    "plt.title(\"Similarity between recovered states\")\n",
    "plt.imshow(d)"
   ]
  },
  {
   "cell_type": "code",
   "execution_count": null,
   "metadata": {},
   "outputs": [],
   "source": [
    "# plot the overlap of different states\n",
    "# number the states and plot them\n",
    "clusters = {}\n",
    "k = 0\n",
    "for z0 in sorted(z):\n",
    "    if z0 not in clusters.keys():\n",
    "        clusters[z0] = k\n",
    "        k += 1\n",
    "clustered_states = np.array([clusters[z0] for z0 in z])\n",
    "plt.imshow(clustered_states.reshape(-1, 20))\n",
    "task.display_gridworld(plt.gca(), wall_color=\"w\")"
   ]
  },
  {
   "cell_type": "code",
   "execution_count": null,
   "metadata": {},
   "outputs": [],
   "source": [
    "sorted(clustered_states.reshape(-1))"
   ]
  },
  {
   "cell_type": "code",
   "execution_count": null,
   "metadata": {},
   "outputs": [],
   "source": [
    "obs_a = convert_8bit_to_float(\n",
    "    torch.stack(\n",
    "        [\n",
    "            make_tensor(observation_model(s))\n",
    "            for s in range(transition_model.n_states)\n",
    "            for _ in range(1)\n",
    "        ]\n",
    "    )\n",
    ")[:, None, ...].to(DEVICE)\n",
    "\n",
    "obs_b = convert_8bit_to_float(\n",
    "    torch.stack(\n",
    "        [\n",
    "            make_tensor(observation_model(s))\n",
    "            for s in range(transition_model.n_states)\n",
    "            for _ in range(1)\n",
    "        ]\n",
    "    )\n",
    ")[:, None, ...].to(DEVICE)\n",
    "\n",
    "z_a = vae_model.get_state(obs_a)\n",
    "z_b = vae_model.get_state(obs_a)\n",
    "\n",
    "d_emb = pairwise_distances(\n",
    "    obs_a.view(400, -1).cpu().detach().numpy(),\n",
    "    obs_b.view(400, -1).cpu().detach().numpy(),\n",
    ")\n",
    "\n",
    "d_latent = pairwise_distances(\n",
    "    z_a, z_b, metric=lambda x, y: np.sum(x0 != y0 for x0, y0 in zip(x, y))\n",
    ")"
   ]
  },
  {
   "cell_type": "code",
   "execution_count": null,
   "metadata": {},
   "outputs": [],
   "source": [
    "import pandas as pd\n",
    "\n",
    "# plt.scatter(d_emb.reshape(-1), d_latent.reshape(-1))\n",
    "sns.relplot(\n",
    "    data=pd.DataFrame(\n",
    "        {\"latent_dist\": d_latent.reshape(-1), \"embedding_dist\": d_emb.reshape(-1)}\n",
    "    ),\n",
    "    x=\"embedding_dist\",\n",
    "    y=\"latent_dist\",\n",
    ")"
   ]
  },
  {
   "cell_type": "code",
   "execution_count": null,
   "metadata": {},
   "outputs": [],
   "source": [
    "# pd.DataFrame(\n",
    "#     {\n",
    "#         \"latent_dist\": d_latent.reshape(-1),\n",
    "#         \"embedding_dist\": d_emb.reshape(-1),\n",
    "#         \"same_state\": np.eye(400 * 400).reshape(-1) == 1,\n",
    "#     },\n",
    "# )"
   ]
  },
  {
   "cell_type": "code",
   "execution_count": null,
   "metadata": {},
   "outputs": [],
   "source": [
    "euc = pairwise_distances(\n",
    "    [(x, y) for x in range(20) for y in range(20)],\n",
    "    # metric=lambda x, y: np.sqrt((x[0] - y[0]) ** 2 + (x[1] - y[1]) ** 2),\n",
    "    metric=lambda x, y: np.abs(x[0] - y[0]) + np.abs(x[1] - y[1]),\n",
    ")\n",
    "euc"
   ]
  },
  {
   "cell_type": "code",
   "execution_count": null,
   "metadata": {},
   "outputs": [],
   "source": [
    "import pandas as pd\n",
    "\n",
    "_df = pd.concat(\n",
    "    [\n",
    "        pd.DataFrame(\n",
    "            {\n",
    "                \"Space\": [\"Latent\"] * 160000,\n",
    "                \"Vector Similarity\": d.reshape(-1) == 1,\n",
    "                \"GridDistance\": euc.reshape(-1),\n",
    "            }\n",
    "        ),\n",
    "        pd.DataFrame(\n",
    "            {\n",
    "                \"Space\": [\"Embedding\"] * 160000,\n",
    "                \"Vector Similarity\": embedding_distances.reshape(-1),\n",
    "                \"GridDistance\": euc.reshape(-1),\n",
    "            }\n",
    "        ),\n",
    "    ]\n",
    ")\n",
    "\n",
    "\n",
    "sns.relplot(\n",
    "    _df[_df.GridDistance > 0],\n",
    "    x=\"GridDistance\",\n",
    "    y=\"Vector Similarity\",\n",
    "    hue=\"Space\",\n",
    "    kind=\"line\",\n",
    ")"
   ]
  },
  {
   "cell_type": "code",
   "execution_count": null,
   "metadata": {},
   "outputs": [],
   "source": [
    "# noise free\n",
    "obs = convert_8bit_to_float(\n",
    "    torch.stack(\n",
    "        [\n",
    "            make_tensor(observation_model(s))\n",
    "            for s in range(transition_model.n_states)\n",
    "            for _ in range(1)\n",
    "        ]\n",
    "    )\n",
    ")[:, None, ...].to(DEVICE)\n",
    "z = vae_model.get_state(obs)\n",
    "z\n",
    "# hash_vector = np.array(\n",
    "#             [\n",
    "#                 vae_model.z_dim**ii\n",
    "#                 for ii in range(vae_model.z_layers)\n",
    "#             ]\n",
    "#         )\n",
    "\n",
    "# z = z.dot(hash_vector)\n",
    "d = pairwise_distances(z, metric=lambda x, y: np.sum(x0 == y0 for x0, y0 in zip(x, y)))\n",
    "plt.title(\"Similarity between inferred states\")\n",
    "plt.imshow(d)"
   ]
  },
  {
   "cell_type": "code",
   "execution_count": null,
   "metadata": {},
   "outputs": [],
   "source": [
    "d.mean()"
   ]
  },
  {
   "cell_type": "code",
   "execution_count": null,
   "metadata": {},
   "outputs": [],
   "source": [
    "sns.displot(\n",
    "    {\n",
    "        \"Embedding distances\": embedding_distances.reshape(-1),\n",
    "        \"Latent Distances\": d.reshape(-1),\n",
    "    },\n",
    "    bins=100,\n",
    ")\n",
    "\n",
    "plt.title(\"Distribution of Distance between observations\")\n",
    "plt.xlim([0, 1])\n",
    "# plt.yscale('log')\n",
    "plt.show()"
   ]
  },
  {
   "cell_type": "markdown",
   "metadata": {},
   "source": [
    "# Transition Model\n",
    "The idea here is to uses Bayesian filtering to smooth the observations model. Formally, if the observation model is \n",
    "$p_\\omega(z|o)$, we want some model $p_\\theta(z'|z)$\n",
    "\n"
   ]
  },
  {
   "cell_type": "markdown",
   "metadata": {},
   "source": [
    "### Evaluate State-Inference\n"
   ]
  },
  {
   "cell_type": "code",
   "execution_count": null,
   "metadata": {},
   "outputs": [],
   "source": [
    "n = HEIGHT * WIDTH * 100\n",
    "\n",
    "# generate a new set of observations for training\n",
    "y_train = sample_states(transition_model, n)\n",
    "\n",
    "# Use a trained classifier to determine states from latent representation\n",
    "recon_model = StateReconstruction(vae_model, observation_model, y_train)"
   ]
  },
  {
   "cell_type": "code",
   "execution_count": null,
   "metadata": {},
   "outputs": [],
   "source": [
    "# from state_inference.tabular_models import StateReconstruction\n",
    "\n",
    "n = 500\n",
    "epsilon = 1e-10  # for numerical stability\n",
    "y_test = sample_random_walk_states(transition_model, n, 0)\n",
    "y_hat_logprob = np.log(recon_model.predict_prob(y_test) * (1 - epsilon) + epsilon)\n",
    "\n",
    "acc_obs_model = recon_model.accuracy(y_hat_logprob, y_test)\n",
    "print(f\"State Inference Accuracy (observation model)      : {acc_obs_model.mean():.4f}\")\n",
    "\n",
    "epsilon = 0.0001  # epsilon smoothing helps with numerical stability\n",
    "\n",
    "filtered_state_prob = BayesianFilter(\n",
    "    y_hat_logprob,\n",
    "    np.log(transition_model.random_transitions * (1 - epsilon) + epsilon),\n",
    ")\n",
    "acc_smooth_model = recon_model.accuracy(filtered_state_prob, y_test)\n",
    "print(\n",
    "    f\"State Inference Accuracy (w/ transition smoothing): {acc_smooth_model.mean():.4f}\"\n",
    ")"
   ]
  },
  {
   "cell_type": "code",
   "execution_count": null,
   "metadata": {},
   "outputs": [],
   "source": [
    "idx = 50\n",
    "fig, axes = plt.subplots(1, 3)\n",
    "axes[0].imshow(np.exp(y_hat_logprob[idx].reshape(20, 20)))\n",
    "axes[1].imshow(np.exp(filtered_state_prob[idx].reshape(20, 20)))\n",
    "axes[2].imshow(\n",
    "    np.exp(filtered_state_prob[idx].reshape(20, 20))\n",
    "    - np.exp(y_hat_logprob[idx].reshape(20, 20))\n",
    ")\n",
    "axes[0].set_title(\"Observation Model\")\n",
    "axes[1].set_title(\"Pomdp Filtering\")\n",
    "axes[2].set_title(\"difference\")"
   ]
  },
  {
   "cell_type": "markdown",
   "metadata": {
    "id": "8EzvJ2kBqWaz"
   },
   "source": [
    "# Value Iteration\n",
    "Now that we have a state-inference model, we want to take the model to do a planning task.  The first step is to generate a new random walk, where rewards are observed (ideally a much shorter walk) and use these to estimate a transition and reward function.  We can then use value iteration, and re-projecte the value function into the original space for visualization.  "
   ]
  },
  {
   "cell_type": "markdown",
   "metadata": {
    "id": "TvwGbt245kW9"
   },
   "source": [
    "Ultimately, we'd like to use a task.  We could implment DYNA-Q on the state space, and then recreate figure 8.2 from Sutton and Barto (second edition, page 165 below) ![Screenshot 2023-03-06 at 4.45.47 PM.png](data:image/png;base64,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)"
   ]
  },
  {
   "cell_type": "markdown",
   "metadata": {
    "id": "X-r4rSogL1JE"
   },
   "source": [
    "### Transition Function"
   ]
  },
  {
   "cell_type": "code",
   "execution_count": null,
   "metadata": {},
   "outputs": [],
   "source": [
    "thread_the_needle_task = TransitionModel(\n",
    "    HEIGHT, WIDTH, make_thread_the_needle_walls(20)\n",
    ")\n",
    "ax = thread_the_needle_task.display_gridworld()\n",
    "\n",
    "ax.annotate(\"G\", (0, 0), ha=\"center\", va=\"center\", c=\"k\")\n",
    "ax.annotate(\"S\", (19, 19), ha=\"center\", va=\"center\", c=\"k\")"
   ]
  },
  {
   "cell_type": "markdown",
   "metadata": {
    "id": "JmnZahb1hPYe"
   },
   "source": [
    "## Reward functions"
   ]
  },
  {
   "cell_type": "code",
   "execution_count": null,
   "metadata": {
    "colab": {
     "base_uri": "https://localhost:8080/",
     "height": 452
    },
    "executionInfo": {
     "elapsed": 397,
     "status": "ok",
     "timestamp": 1680813538954,
     "user": {
      "displayName": "Nicholas Franklin",
      "userId": "12504197633357716328"
     },
     "user_tz": 240
    },
    "id": "DGe1p_5h4qPb",
    "outputId": "3efaaaac-5b2c-4b27-c400-8e0f8cfcc5fc"
   },
   "outputs": [],
   "source": [
    "# Thread the needle reward function\n",
    "rewards = {ii: 1 for ii in range(0, 10)}\n",
    "rewards.update({20 * ii: 1 for ii in range(0, 10)})\n",
    "rewards.update({20 * ii: -1 for ii in range(10, 20)})\n",
    "\n",
    "\n",
    "# for Display purposes, we can show the reward function embedded in the original\n",
    "# space.  This doesn't have a clean interpretation, but it shows us\n",
    "# roughly where pixels are associated with positive or negative reward\n",
    "\n",
    "reward_map = (\n",
    "    torch.stack(\n",
    "        [\n",
    "            convert_8bit_array_to_float_tensor(observation_model.embed_state(s))[\n",
    "                None, ...\n",
    "            ]\n",
    "            * r\n",
    "            for s, r in rewards.items()\n",
    "        ]\n",
    "    )\n",
    "    .mean(dim=0)\n",
    "    .reshape(MAP_HEIGHT, -1)\n",
    ")\n",
    "\n",
    "_max = max([abs(reward_map.min()), abs(reward_map.max())])\n",
    "plt.imshow(reward_map, cmap=\"bwr\", vmin=-_max, vmax=_max)\n",
    "plt.title(\"Reward * Embedding\")\n",
    "plt.colorbar()\n",
    "plt.show()"
   ]
  },
  {
   "cell_type": "code",
   "execution_count": null,
   "metadata": {
    "colab": {
     "base_uri": "https://localhost:8080/",
     "height": 473
    },
    "executionInfo": {
     "elapsed": 3931,
     "status": "ok",
     "timestamp": 1680813542880,
     "user": {
      "displayName": "Nicholas Franklin",
      "userId": "12504197633357716328"
     },
     "user_tz": 240
    },
    "id": "rD_WQlsm4qMW",
    "outputId": "08936631-99fa-441f-b663-20f81b37db56"
   },
   "outputs": [],
   "source": [
    "from collections import Counter\n",
    "\n",
    "n = 100000\n",
    "\n",
    "walk = sample_random_walk_states(transition_model, n, 0)\n",
    "state_counts = Counter(walk)\n",
    "state_counts = np.array([state_counts[ii] for ii in range(transition_model.n_states)])\n",
    "\n",
    "# state_counts, walk = thread_the_needle_task.generate_random_walk(n, 0)\n",
    "ax = thread_the_needle_task.display_gridworld()\n",
    "plt.imshow(1 - state_counts.reshape(HEIGHT, WIDTH), cmap=\"gray\")\n",
    "plt.title(f\"State visitations \\n in random walk of {n} steps\")\n",
    "plt.show()\n",
    "\n",
    "# observation_model()\n",
    "walk_observations = torch.stack(\n",
    "    [convert_8bit_array_to_float_tensor(observation_model(s)).view(-1) for s in walk]\n",
    ")\n",
    "walk_rewards = [rewards.get(s, 0) for s in walk]"
   ]
  },
  {
   "cell_type": "markdown",
   "metadata": {
    "id": "5chzwjirzmn-"
   },
   "source": [
    "## Value iteration"
   ]
  },
  {
   "cell_type": "code",
   "execution_count": null,
   "metadata": {
    "id": "rhUzmanoJZXP"
   },
   "outputs": [],
   "source": [
    "walk_states = vae_model.get_state(walk_observations.to(DEVICE))\n",
    "walk_states = [tuple(s) for s in walk_states]\n",
    "\n",
    "transition_model_tab = TabularTransitionEstimator()\n",
    "transition_model_tab.batch_update(walk_states)\n",
    "\n",
    "reward_model = TabularRewardEstimator()\n",
    "reward_model.batch_update(walk_states, walk_rewards)"
   ]
  },
  {
   "cell_type": "code",
   "execution_count": null,
   "metadata": {
    "id": "SoKSZuSRJ4mg"
   },
   "outputs": [],
   "source": [
    "q, v = value_iteration(\n",
    "    {\"N\": transition_model_tab}, reward_model, gamma=0.80, iterations=100\n",
    ")"
   ]
  },
  {
   "cell_type": "code",
   "execution_count": null,
   "metadata": {},
   "outputs": [],
   "source": [
    "v_s = np.zeros((1, HEIGHT * WIDTH))\n",
    "for z, vz in v.items():\n",
    "    ps = recon_model.predict_state_prob_from_z([z])\n",
    "    v_s += ps * vz\n",
    "\n",
    "# plt.imshow(v_s.reshape(HEIGHT, WIDTH))\n",
    "\n",
    "ax = thread_the_needle_task.display_gridworld()\n",
    "plt.imshow(v_s.reshape(HEIGHT, WIDTH), cmap=\"bwr\")\n",
    "plt.title(f\"Reward Value \\n in random walk of {n} steps\")\n",
    "plt.colorbar()\n",
    "plt.show()"
   ]
  },
  {
   "cell_type": "code",
   "execution_count": null,
   "metadata": {
    "colab": {
     "base_uri": "https://localhost:8080/",
     "height": 452
    },
    "executionInfo": {
     "elapsed": 509,
     "status": "ok",
     "timestamp": 1680813543539,
     "user": {
      "displayName": "Nicholas Franklin",
      "userId": "12504197633357716328"
     },
     "user_tz": 240
    },
    "id": "ARnLuroRtNPL",
    "outputId": "43a1e13d-c308-4e20-ce7b-2f5f074add50"
   },
   "outputs": [],
   "source": [
    "value_function = []\n",
    "for s, vs in v.items():\n",
    "    x = vae_model.decode_state(s)\n",
    "    value_function.append(x * vs)\n",
    "\n",
    "plt.imshow(\n",
    "    np.array(value_function).squeeze().mean(axis=0).reshape(MAP_HEIGHT, -1), cmap=\"bwr\"\n",
    ")\n",
    "\n",
    "# plt.imshow(reward_map, cmap=\"bwr\")\n",
    "plt.title(\"Value Function\")\n",
    "plt.colorbar()\n",
    "plt.show()"
   ]
  },
  {
   "cell_type": "code",
   "execution_count": null,
   "metadata": {},
   "outputs": [],
   "source": [
    "fig, axes = plt.subplots(1, 3, figsize=(15, 5))\n",
    "axes[0].imshow(1 - state_counts.reshape(HEIGHT, WIDTH), cmap=\"gray\")\n",
    "axes[0].set_title(f\"State visitations \\n in random walk of {n} steps\")\n",
    "thread_the_needle_task.display_gridworld(ax=axes[0])\n",
    "\n",
    "mappable = axes[1].imshow(v_s.reshape(HEIGHT, WIDTH), cmap=\"viridis\")\n",
    "axes[1].set_title(f\"Reward Value \\n over grid-states\")\n",
    "thread_the_needle_task.display_gridworld(ax=axes[1])\n",
    "# fig.colorbar(ax=axes[1])\n",
    "\n",
    "axes[2].imshow(\n",
    "    np.array(value_function).squeeze().mean(axis=0).reshape(MAP_HEIGHT, -1),\n",
    "    cmap=\"viridis\",\n",
    ")\n",
    "axes[2].set_title(\"Value Function \\n over the observation space\")\n",
    "\n",
    "plt.show()"
   ]
  },
  {
   "cell_type": "code",
   "execution_count": null,
   "metadata": {},
   "outputs": [],
   "source": []
  },
  {
   "cell_type": "code",
   "execution_count": null,
   "metadata": {},
   "outputs": [],
   "source": []
  },
  {
   "cell_type": "code",
   "execution_count": null,
   "metadata": {},
   "outputs": [],
   "source": []
  },
  {
   "cell_type": "code",
   "execution_count": null,
   "metadata": {},
   "outputs": [],
   "source": []
  }
 ],
 "metadata": {
  "accelerator": "GPU",
  "colab": {
   "provenance": [],
   "toc_visible": true
  },
  "gpuClass": "standard",
  "kernelspec": {
   "display_name": "state_inference_new",
   "language": "python",
   "name": "python3"
  },
  "language_info": {
   "codemirror_mode": {
    "name": "ipython",
    "version": 3
   },
   "file_extension": ".py",
   "mimetype": "text/x-python",
   "name": "python",
   "nbconvert_exporter": "python",
   "pygments_lexer": "ipython3",
   "version": "3.10.13"
  }
 },
 "nbformat": 4,
 "nbformat_minor": 4
}
