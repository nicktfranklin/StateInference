{
 "cells": [
  {
   "cell_type": "code",
   "execution_count": 1,
   "id": "febf9fc3",
   "metadata": {},
   "outputs": [],
   "source": [
    "%load_ext autoreload\n",
    "%autoreload 2\n",
    "\n",
    "%matplotlib inline\n",
    "\n",
    "import numpy as np\n",
    "import matplotlib.pyplot as plt\n",
    "import seaborn as sns\n",
    "import pandas as pd\n",
    "from tqdm import tqdm\n",
    "from models import ValueIterationNetwork, softmax, GridWorldNode\n",
    "\n",
    "from simulation_utils import get_optimal_sr_from_transitions\n",
    "from environments import make_thread_the_needle, make_thread_the_needle_walls_moved_door\n",
    "import environments as e\n"
   ]
  },
  {
   "cell_type": "markdown",
   "id": "b3aa8ad2",
   "metadata": {},
   "source": [
    "# Simulation 1: Change in transition matrix\n",
    "Idea here is to calculate the computational cost, in resampling uniformly the transitions"
   ]
  },
  {
   "cell_type": "code",
   "execution_count": 49,
   "id": "a86203d3",
   "metadata": {},
   "outputs": [
    {
     "data": {
      "image/png": "[encoded data removed]",
      "text/plain": [
       "<Figure size 576x288 with 2 Axes>"
      ]
     },
     "metadata": {},
     "output_type": "display_data"
    }
   ],
   "source": [
    "# define the enviornment\n",
    "n_rows, n_columns = 20, 20\n",
    "start_state = n_rows * n_columns - n_columns//2 + n_columns//4  - n_columns*(n_rows//4)\n",
    "\n",
    "\n",
    "\n",
    "gamma = 0.95\n",
    "\n",
    "\n",
    "\n",
    "\n",
    "sr_kwargs = dict(n_rows=n_rows, n_columns=n_columns, gamma=gamma)\n",
    "\n",
    "\n",
    "\n",
    "fig, axes = plt.subplots(1, 2, figsize=(8, 4))    \n",
    "\n",
    "\n",
    "\n",
    "transition_functions, reward_functions, optimal_policy = make_thread_the_needle(\n",
    "    n_rows=n_rows,\n",
    "    n_columns=n_columns,\n",
    "    movement_penalty=0.01,\n",
    "    slip_probability=0.05,\n",
    "    random_movement_on_error=False,\n",
    "    sparse=False,\n",
    ")\n",
    "\n",
    "M = get_optimal_sr_from_transitions(transition_functions, optimal_policy, **sr_kwargs)\n",
    "    \n",
    "axes[0].imshow(M[start_state,].reshape(20 ,20), origin='upper',  cmap='magma_r')\n",
    "e.clean_up_thread_the_needle_plot(axes[0], n_rows, n_columns)\n",
    "axes[0].annotate('G', (0, 0), ha='center', va='center', c='w')\n",
    "axes[0].annotate('S', (n_rows-5, n_columns-6), ha='center', va='center', c='w')\n",
    "\n",
    "\n",
    "transition_functions, _, _ = make_thread_the_needle(\n",
    "    n_rows=n_rows,\n",
    "    n_columns=n_columns,\n",
    "    movement_penalty=0.01,\n",
    "    slip_probability=0.05,\n",
    "    random_movement_on_error=False,\n",
    "    list_walls = make_thread_the_needle_walls_moved_door(n_columns),\n",
    "    sparse=False,\n",
    ")\n",
    "optimal_policy = e.make_thread_the_needle_with_doors_optimal_policy(n_rows, n_columns)\n",
    "M_post = get_optimal_sr_from_transitions(transition_functions, optimal_policy, **sr_kwargs)\n",
    "\n",
    "\n",
    "\n",
    "axes[1].imshow(M_post[start_state,].reshape(20 ,20), origin='upper', cmap='magma_r')\n",
    "walls = e.make_thread_the_needle_walls_moved_door(n_columns)\n",
    "e.clean_up_thread_the_needle_plot(axes[1], n_rows, n_columns, walls=walls)\n",
    "axes[1].annotate('G', (0, 0), ha='center', va='center', c='k')\n",
    "axes[1].annotate('S', (n_rows-5, n_columns-6), ha='center', va='center', c='w')\n",
    "\n",
    "axes[0].set_title('Before Door Open+Close')\n",
    "axes[1].set_title('After Door Open+Close')\n",
    "\n",
    "plt.savefig('images/SuccessorRepresentation_transition_change.pdf', dpi=300)"
   ]
  },
  {
   "cell_type": "code",
   "execution_count": 48,
   "id": "536120e5",
   "metadata": {},
   "outputs": [
    {
     "data": {
      "text/plain": [
       "0.373843790302339"
      ]
     },
     "execution_count": 48,
     "metadata": {},
     "output_type": "execute_result"
    }
   ],
   "source": [
    "np.dot(M.reshape(-1), M_post.reshape(-1)) / (np.linalg.norm(M.reshape(-1)) * np.linalg.norm(M_post.reshape(-1)))"
   ]
  },
  {
   "cell_type": "code",
   "execution_count": 36,
   "id": "a09e6102",
   "metadata": {},
   "outputs": [
    {
     "data": {
      "text/plain": [
       "0.8045534541811789"
      ]
     },
     "execution_count": 36,
     "metadata": {},
     "output_type": "execute_result"
    }
   ],
   "source": [
    "np.dot(M.dot(reward_functions), M_post.dot(reward_functions)) / (\n",
    "    np.linalg.norm(M.dot(reward_functions)) *\n",
    "    np.linalg.norm(M_post.dot(reward_functions))\n",
    ")"
   ]
  },
  {
   "cell_type": "code",
   "execution_count": 37,
   "id": "f75017f6",
   "metadata": {},
   "outputs": [
    {
     "data": {
      "text/plain": [
       "<matplotlib.image.AxesImage at 0x7f7cd1d5c070>"
      ]
     },
     "execution_count": 37,
     "metadata": {},
     "output_type": "execute_result"
    },
    {
     "data": {
      "image/png": "[encoded data removed]",
      "text/plain": [
       "<Figure size 432x288 with 1 Axes>"
      ]
     },
     "metadata": {
      "needs_background": "light"
     },
     "output_type": "display_data"
    }
   ],
   "source": [
    "plt.imshow(M.dot(reward_functions).reshape(20, 20))"
   ]
  },
  {
   "cell_type": "code",
   "execution_count": 38,
   "id": "8e2c7aef",
   "metadata": {},
   "outputs": [
    {
     "data": {
      "text/plain": [
       "<matplotlib.image.AxesImage at 0x7f7ccd4e4be0>"
      ]
     },
     "execution_count": 38,
     "metadata": {},
     "output_type": "execute_result"
    },
    {
     "data": {
      "image/png": "[encoded data removed]",
      "text/plain": [
       "<Figure size 432x288 with 1 Axes>"
      ]
     },
     "metadata": {
      "needs_background": "light"
     },
     "output_type": "display_data"
    }
   ],
   "source": [
    "plt.imshow(M_post.dot(reward_functions).reshape(20, 20))"
   ]
  },
  {
   "cell_type": "markdown",
   "id": "2ccd2de6",
   "metadata": {},
   "source": [
    "# change to reward function"
   ]
  },
  {
   "cell_type": "code",
   "execution_count": 39,
   "id": "63929bb7",
   "metadata": {},
   "outputs": [
    {
     "data": {
      "text/plain": [
       "<matplotlib.image.AxesImage at 0x7f7cd1fd3b80>"
      ]
     },
     "execution_count": 39,
     "metadata": {},
     "output_type": "execute_result"
    },
    {
     "data": {
      "image/png": "[encoded data removed]",
      "text/plain": [
       "<Figure size 432x288 with 1 Axes>"
      ]
     },
     "metadata": {
      "needs_background": "light"
     },
     "output_type": "display_data"
    }
   ],
   "source": [
    "rew_2 = reward_functions.copy()\n",
    "rew_2[0] = 1\n",
    "rew_2[20 - 1] = 10\n",
    "\n",
    "plt.imshow(M.dot(rew_2).reshape(20, 20))"
   ]
  },
  {
   "cell_type": "markdown",
   "id": "d699950c",
   "metadata": {},
   "source": [
    "# Simulation 2: Policy Re-evaluation \n"
   ]
  },
  {
   "cell_type": "code",
   "execution_count": 50,
   "id": "40bdd23c",
   "metadata": {},
   "outputs": [],
   "source": [
    "# 1-D state-space with 20 states.  Start at state 4, goal at 0 (+1), loss at 8, (-1)\n",
    "# optimal policy: left with 100%\n",
    "# assume epsilon slip probability, so\n",
    "# T(s, s') = s-1 with probability 1-epsilon\n",
    "\n",
    "\n",
    "n_states = 20\n",
    "start_state = n_states // 2 + 1\n",
    "epsilon = 0.05\n",
    "\n",
    "\n",
    "\n",
    "T_left = np.diag(np.ones(n_states-1), k=-1) * (1 - epsilon) \\\n",
    "    + np.diag(np.ones(n_states-1), k=1) * epsilon\n",
    "# make the goal states terminal\n",
    "T_left[0,0] = 1\n",
    "T_left[0, 1:] = 0\n",
    "T_left[-1, -1] = 1\n",
    "T_left[-1, :-1] = 0\n",
    "\n",
    "T_right = np.diag(np.ones(n_states-1), k=1) * (1 - epsilon) \\\n",
    "    + np.diag(np.ones(n_states-1), k=-1) * epsilon\n",
    "# make the goal states terminal\n",
    "T_right[0,0] = 1\n",
    "T_right[0, 1:] = 0\n",
    "T_right[-1, -1] = 1\n",
    "T_right[-1, :-1] = 0\n",
    "\n",
    "\n",
    "# optimal policy is always to go left\n",
    "T_pi = np.copy(T_left)\n",
    "T_df = np.copy(T_left + T_right) / 2"
   ]
  },
  {
   "cell_type": "code",
   "execution_count": 51,
   "id": "53732689",
   "metadata": {},
   "outputs": [
    {
     "data": {
      "text/plain": [
       "([<matplotlib.axis.YTick at 0x7f7cd1431730>,\n",
       "  <matplotlib.axis.YTick at 0x7f7cd12cfe50>,\n",
       "  <matplotlib.axis.YTick at 0x7f7cd12cf310>,\n",
       "  <matplotlib.axis.YTick at 0x7f7cd180be80>],\n",
       " [Text(0, 4, '5'), Text(0, 9, '10'), Text(0, 14, '15'), Text(0, 19, '20')])"
      ]
     },
     "execution_count": 51,
     "metadata": {},
     "output_type": "execute_result"
    },
    {
     "data": {
      "image/png": "[encoded data removed]",
      "text/plain": [
       "<Figure size 432x288 with 1 Axes>"
      ]
     },
     "metadata": {
      "needs_background": "light"
     },
     "output_type": "display_data"
    }
   ],
   "source": [
    "# eqn 12 in Russek 2017\n",
    "\n",
    "gamma = 0.8\n",
    "\n",
    "M = np.linalg.inv(np.eye(n_states) - gamma * T_pi)\n",
    "plt.imshow(M)\n",
    "plt.xticks([ii for ii in range(4, 21, 5)], labels=[ii for ii in range(5, 21, 5)])\n",
    "plt.yticks([ii for ii in range(4, 21, 5)], labels=[ii for ii in range(5, 21, 5)])\n"
   ]
  },
  {
   "cell_type": "code",
   "execution_count": 52,
   "id": "cc0eee72",
   "metadata": {},
   "outputs": [
    {
     "data": {
      "text/plain": [
       "Text(0, 0.5, 'State-Values')"
      ]
     },
     "execution_count": 52,
     "metadata": {},
     "output_type": "execute_result"
    },
    {
     "data": {
      "image/png": "[encoded data removed]",
      "text/plain": [
       "<Figure size 432x288 with 1 Axes>"
      ]
     },
     "metadata": {
      "needs_background": "light"
     },
     "output_type": "display_data"
    }
   ],
   "source": [
    "R = np.zeros(n_states)\n",
    "R[0] = 1\n",
    "R[-1] = 0\n",
    "\n",
    "# equation 6, Gershman J Neuro 2018\n",
    "V = M.dot(R.reshape(-1, 1))\n",
    "plt.bar(x=np.arange(1, n_states + 1), height=V.reshape(-1))\n",
    "sns.despine()\n",
    "# plt.xticks(np.arange(1, n_states + 1))\n",
    "plt.xlabel('State')\n",
    "plt.ylabel('State-Values')"
   ]
  },
  {
   "cell_type": "code",
   "execution_count": 53,
   "id": "a8c91cc4",
   "metadata": {},
   "outputs": [
    {
     "data": {
      "image/png": "[encoded data removed]",
      "text/plain": [
       "<Figure size 432x288 with 1 Axes>"
      ]
     },
     "metadata": {
      "needs_background": "light"
     },
     "output_type": "display_data"
    }
   ],
   "source": [
    "# This model is my own.  One step look-ahead Q-values where\n",
    "# Q(s, a) = T(s, a, s')V(s')\n",
    "# with a policy\n",
    "# pi(s) ~ softmax[Q(s, a)]\n",
    "\n",
    "beta = 10.\n",
    "\n",
    "V = M.dot(R.reshape(-1, 1))\n",
    "Q_left = T_left.dot(V).reshape(-1)\n",
    "Q_right = T_right.dot(V).reshape(-1)\n",
    "pi_correct_pre = np.exp(Q_left*beta) / (np.exp(Q_left*beta) + np.exp(Q_right*beta))\n",
    "plt.plot(np.arange(2, n_states ), pi_correct_pre[1:-1], label='Optimal SR')\n",
    "\n",
    "# plot the diffusion SR\n",
    "M_df = np.linalg.inv(np.eye(n_states) - gamma * T_df)\n",
    "V_df = M_df.dot(R.reshape(-1, 1))\n",
    "Q_left_df = T_left.dot(V_df).reshape(-1)\n",
    "Q_right_df = T_right.dot(V_df).reshape(-1)\n",
    "pi_diff_pre = np.exp(Q_left_df*beta) / (np.exp(Q_left_df*beta) + np.exp(Q_right_df*beta))\n",
    "plt.plot(np.arange(2, n_states ), pi_diff_pre[1:-1], label='Diffusion SR')\n",
    "\n",
    "plt.plot(np.arange(2, n_states), np.ones(n_states-2) * 0.5, 'k:', label='chance')\n",
    "\n",
    "plt.legend()\n",
    "sns.despine()"
   ]
  },
  {
   "cell_type": "code",
   "execution_count": 54,
   "id": "a41f0aaa",
   "metadata": {},
   "outputs": [
    {
     "data": {
      "text/plain": [
       "[<matplotlib.lines.Line2D at 0x7f7ccf726d60>]"
      ]
     },
     "execution_count": 54,
     "metadata": {},
     "output_type": "execute_result"
    },
    {
     "data": {
      "image/png": "[encoded data removed]",
      "text/plain": [
       "<Figure size 432x288 with 1 Axes>"
      ]
     },
     "metadata": {
      "needs_background": "light"
     },
     "output_type": "display_data"
    }
   ],
   "source": [
    "plt.plot(V)\n",
    "plt.plot(V_df)"
   ]
  },
  {
   "cell_type": "code",
   "execution_count": 55,
   "id": "1b42e5df",
   "metadata": {},
   "outputs": [
    {
     "data": {
      "image/png": "[encoded data removed]",
      "text/plain": [
       "<Figure size 432x288 with 1 Axes>"
      ]
     },
     "metadata": {
      "needs_background": "light"
     },
     "output_type": "display_data"
    }
   ],
   "source": [
    "# policy\n",
    "# pi(s, a) = softmax(Q(s,a))\n",
    "\n",
    "pi_correct_pre = np.exp(Q_left*beta) / (np.exp(Q_left*beta) + np.exp(Q_right*beta))\n",
    "plt.plot(np.arange(2, n_states ), pi_correct_pre[1:-1], label='Optimal SR')\n",
    "\n",
    "# plot the same thing but with the diffusion SR\n",
    "M_df = np.linalg.inv(np.eye(n_states) - gamma * T_df)\n",
    "V = M_df.dot(R.reshape(-1, 1))\n",
    "Q_left = T_left.dot(V).reshape(-1)\n",
    "Q_right = T_right.dot(V).reshape(-1)\n",
    "pi_diff_pre = np.exp(Q_left*beta) / (np.exp(Q_left*beta) + np.exp(Q_right*beta))\n",
    "plt.plot(np.arange(2, n_states ), pi_diff_pre[1:-1], label='Diffusion SR')\n",
    "\n",
    "plt.legend()\n",
    "sns.despine()"
   ]
  },
  {
   "cell_type": "code",
   "execution_count": 56,
   "id": "3cb3be75",
   "metadata": {},
   "outputs": [
    {
     "data": {
      "text/plain": [
       "(20, 20)"
      ]
     },
     "execution_count": 56,
     "metadata": {},
     "output_type": "execute_result"
    }
   ],
   "source": [
    "M_df.shape"
   ]
  },
  {
   "cell_type": "code",
   "execution_count": 57,
   "id": "cb4997e2",
   "metadata": {},
   "outputs": [
    {
     "ename": "ValueError",
     "evalue": "shapes (20,20) and (9,1) not aligned: 20 (dim 1) != 9 (dim 0)",
     "output_type": "error",
     "traceback": [
      "\u001b[0;31m---------------------------------------------------------------------------\u001b[0m",
      "\u001b[0;31mValueError\u001b[0m                                Traceback (most recent call last)",
      "\u001b[0;32m<ipython-input-57-da0bc7236d43>\u001b[0m in \u001b[0;36m<module>\u001b[0;34m\u001b[0m\n\u001b[1;32m      4\u001b[0m \u001b[0;34m\u001b[0m\u001b[0m\n\u001b[1;32m      5\u001b[0m \u001b[0;31m# equation 6, Gershman J Neuro 2018\u001b[0m\u001b[0;34m\u001b[0m\u001b[0;34m\u001b[0m\u001b[0;34m\u001b[0m\u001b[0m\n\u001b[0;32m----> 6\u001b[0;31m \u001b[0mV\u001b[0m \u001b[0;34m=\u001b[0m \u001b[0mM\u001b[0m\u001b[0;34m.\u001b[0m\u001b[0mdot\u001b[0m\u001b[0;34m(\u001b[0m\u001b[0mR\u001b[0m\u001b[0;34m.\u001b[0m\u001b[0mreshape\u001b[0m\u001b[0;34m(\u001b[0m\u001b[0;34m-\u001b[0m\u001b[0;36m1\u001b[0m\u001b[0;34m,\u001b[0m \u001b[0;36m1\u001b[0m\u001b[0;34m)\u001b[0m\u001b[0;34m)\u001b[0m\u001b[0;34m\u001b[0m\u001b[0;34m\u001b[0m\u001b[0m\n\u001b[0m\u001b[1;32m      7\u001b[0m \u001b[0mplt\u001b[0m\u001b[0;34m.\u001b[0m\u001b[0mbar\u001b[0m\u001b[0;34m(\u001b[0m\u001b[0mx\u001b[0m\u001b[0;34m=\u001b[0m\u001b[0mnp\u001b[0m\u001b[0;34m.\u001b[0m\u001b[0marange\u001b[0m\u001b[0;34m(\u001b[0m\u001b[0;36m1\u001b[0m\u001b[0;34m,\u001b[0m \u001b[0;36m10\u001b[0m\u001b[0;34m)\u001b[0m\u001b[0;34m,\u001b[0m \u001b[0mheight\u001b[0m\u001b[0;34m=\u001b[0m\u001b[0mV\u001b[0m\u001b[0;34m.\u001b[0m\u001b[0mreshape\u001b[0m\u001b[0;34m(\u001b[0m\u001b[0;34m-\u001b[0m\u001b[0;36m1\u001b[0m\u001b[0;34m)\u001b[0m\u001b[0;34m)\u001b[0m\u001b[0;34m\u001b[0m\u001b[0;34m\u001b[0m\u001b[0m\n\u001b[1;32m      8\u001b[0m \u001b[0msns\u001b[0m\u001b[0;34m.\u001b[0m\u001b[0mdespine\u001b[0m\u001b[0;34m(\u001b[0m\u001b[0;34m)\u001b[0m\u001b[0;34m\u001b[0m\u001b[0;34m\u001b[0m\u001b[0m\n",
      "\u001b[0;31mValueError\u001b[0m: shapes (20,20) and (9,1) not aligned: 20 (dim 1) != 9 (dim 0)"
     ]
    }
   ],
   "source": [
    "\n",
    "R = np.zeros(9)\n",
    "R[0] = 1\n",
    "R[-1] = 2\n",
    "\n",
    "# equation 6, Gershman J Neuro 2018\n",
    "V = M.dot(R.reshape(-1, 1))\n",
    "plt.bar(x=np.arange(1, 10), height=V.reshape(-1))\n",
    "sns.despine()\n",
    "plt.xticks(np.arange(1, 10))\n",
    "plt.xlabel('State')\n",
    "plt.ylabel('State-Values')"
   ]
  },
  {
   "cell_type": "code",
   "execution_count": 58,
   "id": "ee3bfa93",
   "metadata": {},
   "outputs": [
    {
     "ename": "ValueError",
     "evalue": "shapes (20,20) and (9,1) not aligned: 20 (dim 1) != 9 (dim 0)",
     "output_type": "error",
     "traceback": [
      "\u001b[0;31m---------------------------------------------------------------------------\u001b[0m",
      "\u001b[0;31mValueError\u001b[0m                                Traceback (most recent call last)",
      "\u001b[0;32m<ipython-input-58-6a82f30c3e3d>\u001b[0m in \u001b[0;36m<module>\u001b[0;34m\u001b[0m\n\u001b[0;32m----> 1\u001b[0;31m \u001b[0mV\u001b[0m \u001b[0;34m=\u001b[0m \u001b[0mM\u001b[0m\u001b[0;34m.\u001b[0m\u001b[0mdot\u001b[0m\u001b[0;34m(\u001b[0m\u001b[0mR\u001b[0m\u001b[0;34m.\u001b[0m\u001b[0mreshape\u001b[0m\u001b[0;34m(\u001b[0m\u001b[0;34m-\u001b[0m\u001b[0;36m1\u001b[0m\u001b[0;34m,\u001b[0m \u001b[0;36m1\u001b[0m\u001b[0;34m)\u001b[0m\u001b[0;34m)\u001b[0m\u001b[0;34m\u001b[0m\u001b[0;34m\u001b[0m\u001b[0m\n\u001b[0m\u001b[1;32m      2\u001b[0m \u001b[0;34m\u001b[0m\u001b[0m\n\u001b[1;32m      3\u001b[0m \u001b[0;31m# This model is my own.  One step look-ahead Q-values where\u001b[0m\u001b[0;34m\u001b[0m\u001b[0;34m\u001b[0m\u001b[0;34m\u001b[0m\u001b[0m\n\u001b[1;32m      4\u001b[0m \u001b[0;31m# Q(s, a) = T(s, a, s')V(s')\u001b[0m\u001b[0;34m\u001b[0m\u001b[0;34m\u001b[0m\u001b[0;34m\u001b[0m\u001b[0m\n\u001b[1;32m      5\u001b[0m \u001b[0;34m\u001b[0m\u001b[0m\n",
      "\u001b[0;31mValueError\u001b[0m: shapes (20,20) and (9,1) not aligned: 20 (dim 1) != 9 (dim 0)"
     ]
    }
   ],
   "source": [
    "V = M.dot(R.reshape(-1, 1))\n",
    "\n",
    "# This model is my own.  One step look-ahead Q-values where\n",
    "# Q(s, a) = T(s, a, s')V(s')\n",
    "\n",
    "Q_left = T_left.dot(V).reshape(-1)\n",
    "Q_right = T_right.dot(V).reshape(-1)\n",
    "\n",
    "df = {\n",
    "    'State': np.concatenate([np.arange(1, 10), np.arange(1, 10)]),\n",
    "    'Q-value': np.concatenate([Q_left, Q_right]),\n",
    "    'Action': ['Left'] * 9 + ['Right'] * 9\n",
    "}\n",
    "\n",
    "\n",
    "sns.barplot(x='State',y='Q-value', data=pd.DataFrame(df), hue='Action', palette='Set2')\n",
    "sns.despine()"
   ]
  },
  {
   "cell_type": "code",
   "execution_count": null,
   "id": "775b8a24",
   "metadata": {},
   "outputs": [],
   "source": [
    "# policy\n",
    "# pi(s, a) = softmax(Q(s,a))\n",
    "pi_correct_post = np.exp(Q_left) / (np.exp(Q_left) + np.exp(Q_right))\n",
    "plt.bar(np.arange(2, 9), pi_correct_pre[1:-1])\n",
    "plt.bar(np.arange(2, 9), pi_correct_post[1:-1])\n",
    "plt.xlabel('Probablity of Left')\n",
    "plt.ylabel('State')\n",
    "sns.despine()"
   ]
  },
  {
   "cell_type": "code",
   "execution_count": null,
   "id": "cc12f74c",
   "metadata": {},
   "outputs": [],
   "source": [
    "# V = M.dot(R.reshape(-1, 1))\n",
    "T_left.dot(V)\n",
    "\n",
    "df = {\n",
    "    'State': np.concatenate([np.arange(1, 10), np.arange(1, 10)]),\n",
    "    'Q-value': np.concatenate([T_left.dot(V).reshape(-1), T_right.dot(V).reshape(-1)]),\n",
    "    'Action': ['Left'] * 9 + ['Right'] * 9\n",
    "}\n",
    "\n",
    "\n",
    "sns.barplot(x='State',y='Q-value', data=pd.DataFrame(df), hue='Action', palette='Set2')\n",
    "sns.despine()"
   ]
  },
  {
   "cell_type": "code",
   "execution_count": null,
   "id": "1e6263c3",
   "metadata": {},
   "outputs": [],
   "source": [
    "plt.plot((T_right + T_left).dot(V)\n",
    ")\n"
   ]
  },
  {
   "cell_type": "code",
   "execution_count": null,
   "id": "d106f4b5",
   "metadata": {},
   "outputs": [],
   "source": [
    "M_df = np.linalg.inv(np.eye(9) - gamma * T_df)\n",
    "V = M_df.dot(R.reshape(-1, 1))\n",
    "\n",
    "\n",
    "plt.bar(x=np.arange(1, 10), height=V.reshape(-1))\n",
    "sns.despine()\n",
    "plt.xticks(np.arange(1, 10))\n",
    "plt.xlabel('State')\n",
    "plt.ylabel('State-Values')\n",
    "plt.title('Diffusion policy')"
   ]
  },
  {
   "cell_type": "code",
   "execution_count": null,
   "id": "f28f5488",
   "metadata": {},
   "outputs": [],
   "source": [
    "state_action_reward_functions = environments.get_state_action_reward_from_sucessor_rewards(\n",
    "    R, [T_left, T_right]\n",
    ")\n",
    "\n",
    "sa_values, s_values = ValueIterationNetwork.value_iteration(\n",
    "    [T_left, T_right], state_action_reward_functions, n_rows=1, n_columns=n_states, gamma=gamma)\n",
    "s_values"
   ]
  },
  {
   "cell_type": "code",
   "execution_count": null,
   "id": "cc7d9f0a",
   "metadata": {},
   "outputs": [],
   "source": [
    "s_values"
   ]
  },
  {
   "cell_type": "code",
   "execution_count": null,
   "id": "4c97b15a",
   "metadata": {},
   "outputs": [],
   "source": [
    "plt.plot(V.reshape(-1))\n",
    "plt.plot(s_values, )"
   ]
  },
  {
   "cell_type": "code",
   "execution_count": null,
   "id": "3ab85c07",
   "metadata": {},
   "outputs": [],
   "source": [
    "sa_values"
   ]
  },
  {
   "cell_type": "code",
   "execution_count": null,
   "id": "2387cf51",
   "metadata": {},
   "outputs": [],
   "source": []
  }
 ],
 "metadata": {
  "kernelspec": {
   "display_name": "Python 3",
   "language": "python",
   "name": "python3"
  },
  "language_info": {
   "codemirror_mode": {
    "name": "ipython",
    "version": 3
   },
   "file_extension": ".py",
   "mimetype": "text/x-python",
   "name": "python",
   "nbconvert_exporter": "python",
   "pygments_lexer": "ipython3",
   "version": "3.8.8"
  }
 },
 "nbformat": 4,
 "nbformat_minor": 5
}
