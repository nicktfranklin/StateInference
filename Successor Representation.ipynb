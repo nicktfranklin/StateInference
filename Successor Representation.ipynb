{
 "cells": [
  {
   "cell_type": "code",
   "execution_count": 1,
   "id": "febf9fc3",
   "metadata": {},
   "outputs": [],
   "source": [
    "%load_ext autoreload\n",
    "%autoreload 2\n",
    "\n",
    "%matplotlib inline\n",
    "\n",
    "import numpy as np\n",
    "import matplotlib.pyplot as plt\n",
    "import seaborn as sns\n",
    "import pandas as pd\n",
    "from tqdm import tqdm\n",
    "from models import ValueIterationNetwork, GridWorldNode\n",
    "from models.utils import softmax\n",
    "from models.sr import get_optimal_sr_from_transitions\n",
    "from environments import make_thread_the_needle, make_thread_the_needle_walls_moved_door\n",
    "import environments as e\n"
   ]
  },
  {
   "cell_type": "code",
   "execution_count": 2,
   "id": "d29659e4",
   "metadata": {},
   "outputs": [
    {
     "data": {
      "text/plain": [
       "3"
      ]
     },
     "execution_count": 2,
     "metadata": {},
     "output_type": "execute_result"
    }
   ],
   "source": [
    "np.random.randint(10)"
   ]
  },
  {
   "cell_type": "markdown",
   "id": "b3aa8ad2",
   "metadata": {},
   "source": [
    "# Simulation 1: Change in transition matrix\n",
    "Idea here is to calculate the computational cost, in resampling uniformly the transitions"
   ]
  },
  {
   "cell_type": "code",
   "execution_count": 3,
   "id": "a86203d3",
   "metadata": {},
   "outputs": [
    {
     "ename": "TypeError",
     "evalue": "get_optimal_sr_from_transitions() got an unexpected keyword argument 'n_rows'",
     "output_type": "error",
     "traceback": [
      "\u001b[0;31m---------------------------------------------------------------------------\u001b[0m",
      "\u001b[0;31mTypeError\u001b[0m                                 Traceback (most recent call last)",
      "\u001b[0;32m<ipython-input-3-a5da669c8448>\u001b[0m in \u001b[0;36m<module>\u001b[0;34m\u001b[0m\n\u001b[1;32m     27\u001b[0m )\n\u001b[1;32m     28\u001b[0m \u001b[0;34m\u001b[0m\u001b[0m\n\u001b[0;32m---> 29\u001b[0;31m \u001b[0mM\u001b[0m \u001b[0;34m=\u001b[0m \u001b[0mget_optimal_sr_from_transitions\u001b[0m\u001b[0;34m(\u001b[0m\u001b[0mtransition_functions\u001b[0m\u001b[0;34m,\u001b[0m \u001b[0moptimal_policy_pre\u001b[0m\u001b[0;34m,\u001b[0m \u001b[0;34m**\u001b[0m\u001b[0msr_kwargs\u001b[0m\u001b[0;34m)\u001b[0m\u001b[0;34m\u001b[0m\u001b[0;34m\u001b[0m\u001b[0m\n\u001b[0m\u001b[1;32m     30\u001b[0m \u001b[0;34m\u001b[0m\u001b[0m\n\u001b[1;32m     31\u001b[0m \u001b[0maxes\u001b[0m\u001b[0;34m[\u001b[0m\u001b[0;36m0\u001b[0m\u001b[0;34m]\u001b[0m\u001b[0;34m.\u001b[0m\u001b[0mimshow\u001b[0m\u001b[0;34m(\u001b[0m\u001b[0mM\u001b[0m\u001b[0;34m[\u001b[0m\u001b[0mstart_state\u001b[0m\u001b[0;34m,\u001b[0m\u001b[0;34m]\u001b[0m\u001b[0;34m.\u001b[0m\u001b[0mreshape\u001b[0m\u001b[0;34m(\u001b[0m\u001b[0;36m20\u001b[0m \u001b[0;34m,\u001b[0m\u001b[0;36m20\u001b[0m\u001b[0;34m)\u001b[0m\u001b[0;34m,\u001b[0m \u001b[0morigin\u001b[0m\u001b[0;34m=\u001b[0m\u001b[0;34m'upper'\u001b[0m\u001b[0;34m,\u001b[0m  \u001b[0mcmap\u001b[0m\u001b[0;34m=\u001b[0m\u001b[0;34m'magma_r'\u001b[0m\u001b[0;34m)\u001b[0m\u001b[0;34m\u001b[0m\u001b[0;34m\u001b[0m\u001b[0m\n",
      "\u001b[0;31mTypeError\u001b[0m: get_optimal_sr_from_transitions() got an unexpected keyword argument 'n_rows'"
     ]
    },
    {
     "data": {
      "image/png": "[encoded data removed]",
      "text/plain": [
       "<Figure size 576x288 with 2 Axes>"
      ]
     },
     "metadata": {
      "needs_background": "light"
     },
     "output_type": "display_data"
    }
   ],
   "source": [
    "# define the enviornment\n",
    "n_rows, n_columns = 20, 20\n",
    "start_state = n_rows * n_columns - n_columns//2 + n_columns//4  - n_columns*(n_rows//4)\n",
    "\n",
    "\n",
    "\n",
    "gamma = 0.95\n",
    "\n",
    "\n",
    "\n",
    "\n",
    "sr_kwargs = dict(n_rows=n_rows, n_columns=n_columns, gamma=gamma)\n",
    "\n",
    "\n",
    "\n",
    "fig, axes = plt.subplots(1, 2, figsize=(8, 4))    \n",
    "\n",
    "\n",
    "\n",
    "transition_functions, reward_functions, optimal_policy_pre = make_thread_the_needle(\n",
    "    n_rows=n_rows,\n",
    "    n_columns=n_columns,\n",
    "    movement_penalty=0.01,\n",
    "    slip_probability=0.05,\n",
    "    random_movement_on_error=False,\n",
    "    sparse=False,\n",
    ")\n",
    "\n",
    "M = get_optimal_sr_from_transitions(transition_functions, optimal_policy_pre, **sr_kwargs)\n",
    "    \n",
    "axes[0].imshow(M[start_state,].reshape(20 ,20), origin='upper',  cmap='magma_r')\n",
    "e.clean_up_thread_the_needle_plot(axes[0], n_rows, n_columns)\n",
    "axes[0].annotate('G', (0, 0), ha='center', va='center', c='w')\n",
    "axes[0].annotate('S', (n_rows-5, n_columns-6), ha='center', va='center', c='w')\n",
    "\n",
    "\n",
    "transition_functions, _, _ = make_thread_the_needle(\n",
    "    n_rows=n_rows,\n",
    "    n_columns=n_columns,\n",
    "    movement_penalty=0.01,\n",
    "    slip_probability=0.05,\n",
    "    random_movement_on_error=False,\n",
    "    list_walls = make_thread_the_needle_walls_moved_door(n_columns),\n",
    "    sparse=False,\n",
    ")\n",
    "optimal_policy_post = e.make_thread_the_needle_with_doors_optimal_policy(n_rows, n_columns)\n",
    "M_post = get_optimal_sr_from_transitions(transition_functions, optimal_policy_post, **sr_kwargs)\n",
    "\n",
    "\n",
    "\n",
    "axes[1].imshow(M_post[start_state,].reshape(20 ,20), origin='upper', cmap='magma_r')\n",
    "walls = e.make_thread_the_needle_walls_moved_door(n_columns)\n",
    "e.clean_up_thread_the_needle_plot(axes[1], n_rows, n_columns, walls=walls)\n",
    "axes[1].annotate('G', (0, 0), ha='center', va='center', c='k')\n",
    "axes[1].annotate('S', (n_rows-5, n_columns-6), ha='center', va='center', c='w')\n",
    "\n",
    "axes[0].set_title('Before Door Open+Close')\n",
    "axes[1].set_title('After Door Open+Close')\n",
    "\n",
    "plt.savefig('images/SuccessorRepresentation_transition_change.png', dpi=300)"
   ]
  },
  {
   "cell_type": "code",
   "execution_count": null,
   "id": "dc9b6d2c",
   "metadata": {},
   "outputs": [],
   "source": [
    "# first room states\n",
    "from sklearn.metrics.pairwise import cosine_distances\n",
    "d = cosine_distances(optimal_policy_pre, optimal_policy_post)\n",
    "np.diag(d).mean()"
   ]
  },
  {
   "cell_type": "code",
   "execution_count": null,
   "id": "90a16f26",
   "metadata": {},
   "outputs": [],
   "source": []
  },
  {
   "cell_type": "code",
   "execution_count": null,
   "id": "03010836",
   "metadata": {},
   "outputs": [],
   "source": []
  },
  {
   "cell_type": "code",
   "execution_count": null,
   "id": "536120e5",
   "metadata": {},
   "outputs": [],
   "source": [
    "np.dot(M.reshape(-1), M_post.reshape(-1)) / (np.linalg.norm(M.reshape(-1)) * np.linalg.norm(M_post.reshape(-1)))"
   ]
  },
  {
   "cell_type": "code",
   "execution_count": null,
   "id": "a09e6102",
   "metadata": {},
   "outputs": [],
   "source": [
    "np.dot(M.dot(reward_functions), M_post.dot(reward_functions)) / (\n",
    "    np.linalg.norm(M.dot(reward_functions)) *\n",
    "    np.linalg.norm(M_post.dot(reward_functions))\n",
    ")"
   ]
  },
  {
   "cell_type": "code",
   "execution_count": null,
   "id": "f75017f6",
   "metadata": {},
   "outputs": [],
   "source": [
    "plt.imshow(M.dot(reward_functions).reshape(20, 20))"
   ]
  },
  {
   "cell_type": "code",
   "execution_count": null,
   "id": "8e2c7aef",
   "metadata": {},
   "outputs": [],
   "source": [
    "plt.imshow(M_post.dot(reward_functions).reshape(20, 20))"
   ]
  },
  {
   "cell_type": "markdown",
   "id": "2ccd2de6",
   "metadata": {},
   "source": [
    "# change to reward function"
   ]
  },
  {
   "cell_type": "code",
   "execution_count": null,
   "id": "63929bb7",
   "metadata": {},
   "outputs": [],
   "source": [
    "rew_2 = reward_functions.copy()\n",
    "rew_2[0] = 1\n",
    "rew_2[20 - 1] = 10\n",
    "\n",
    "plt.imshow(M.dot(rew_2).reshape(20, 20))\n",
    "e.clean_up_thread_the_needle_plot(plt.gca(), n_rows, n_columns)\n",
    "plt.colorbar(label='State-value')\n",
    "plt.savefig('images/reward_revaluation.png', dpi=300)\n",
    "\n"
   ]
  },
  {
   "cell_type": "markdown",
   "id": "d699950c",
   "metadata": {},
   "source": [
    "# Simulation 2: Policy Re-evaluation \n"
   ]
  },
  {
   "cell_type": "code",
   "execution_count": null,
   "id": "40bdd23c",
   "metadata": {},
   "outputs": [],
   "source": [
    "# 1-D state-space with 20 states.  Start at state 4, goal at 0 (+1), loss at 8, (-1)\n",
    "# optimal policy: left with 100%\n",
    "# assume epsilon slip probability, so\n",
    "# T(s, s') = s-1 with probability 1-epsilon\n",
    "\n",
    "\n",
    "n_states = 20\n",
    "start_state = n_states // 2 + 1\n",
    "epsilon = 0.05\n",
    "\n",
    "\n",
    "\n",
    "T_left = np.diag(np.ones(n_states-1), k=-1) * (1 - epsilon) \\\n",
    "    + np.diag(np.ones(n_states-1), k=1) * epsilon\n",
    "# make the goal states terminal\n",
    "T_left[0,0] = 1\n",
    "T_left[0, 1:] = 0\n",
    "T_left[-1, -1] = 1\n",
    "T_left[-1, :-1] = 0\n",
    "\n",
    "T_right = np.diag(np.ones(n_states-1), k=1) * (1 - epsilon) \\\n",
    "    + np.diag(np.ones(n_states-1), k=-1) * epsilon\n",
    "# make the goal states terminal\n",
    "T_right[0,0] = 1\n",
    "T_right[0, 1:] = 0\n",
    "T_right[-1, -1] = 1\n",
    "T_right[-1, :-1] = 0\n",
    "\n",
    "\n",
    "# optimal policy is always to go left\n",
    "T_pi = np.copy(T_left)\n",
    "T_df = np.copy(T_left + T_right) / 2"
   ]
  },
  {
   "cell_type": "code",
   "execution_count": null,
   "id": "53732689",
   "metadata": {},
   "outputs": [],
   "source": [
    "# eqn 12 in Russek 2017\n",
    "\n",
    "gamma = 0.8\n",
    "\n",
    "M = np.linalg.inv(np.eye(n_states) - gamma * T_pi)\n",
    "plt.imshow(M)\n",
    "plt.xticks([ii for ii in range(4, 21, 5)], labels=[ii for ii in range(5, 21, 5)])\n",
    "plt.yticks([ii for ii in range(4, 21, 5)], labels=[ii for ii in range(5, 21, 5)])\n"
   ]
  },
  {
   "cell_type": "code",
   "execution_count": null,
   "id": "cc0eee72",
   "metadata": {},
   "outputs": [],
   "source": [
    "R = np.zeros(n_states)\n",
    "R[0] = 1\n",
    "R[-1] = 0\n",
    "\n",
    "# equation 6, Gershman J Neuro 2018\n",
    "V = M.dot(R.reshape(-1, 1))\n",
    "plt.bar(x=np.arange(1, n_states + 1), height=V.reshape(-1))\n",
    "sns.despine()\n",
    "# plt.xticks(np.arange(1, n_states + 1))\n",
    "plt.xlabel('State')\n",
    "plt.ylabel('State-Values')"
   ]
  },
  {
   "cell_type": "code",
   "execution_count": null,
   "id": "a8c91cc4",
   "metadata": {},
   "outputs": [],
   "source": [
    "# This model is my own.  One step look-ahead Q-values where\n",
    "# Q(s, a) = T(s, a, s')V(s')\n",
    "# with a policy\n",
    "# pi(s) ~ softmax[Q(s, a)]\n",
    "\n",
    "beta = 10.\n",
    "\n",
    "V = M.dot(R.reshape(-1, 1))\n",
    "Q_left = T_left.dot(V).reshape(-1)\n",
    "Q_right = T_right.dot(V).reshape(-1)\n",
    "pi_correct_pre = np.exp(Q_left*beta) / (np.exp(Q_left*beta) + np.exp(Q_right*beta))\n",
    "plt.plot(np.arange(2, n_states ), pi_correct_pre[1:-1], label='Optimal SR')\n",
    "\n",
    "# plot the diffusion SR\n",
    "M_df = np.linalg.inv(np.eye(n_states) - gamma * T_df)\n",
    "V_df = M_df.dot(R.reshape(-1, 1))\n",
    "Q_left_df = T_left.dot(V_df).reshape(-1)\n",
    "Q_right_df = T_right.dot(V_df).reshape(-1)\n",
    "pi_diff_pre = np.exp(Q_left_df*beta) / (np.exp(Q_left_df*beta) + np.exp(Q_right_df*beta))\n",
    "plt.plot(np.arange(2, n_states ), pi_diff_pre[1:-1], label='Diffusion SR')\n",
    "\n",
    "plt.plot(np.arange(2, n_states), np.ones(n_states-2) * 0.5, 'k:', label='chance')\n",
    "\n",
    "plt.legend()\n",
    "sns.despine()"
   ]
  },
  {
   "cell_type": "code",
   "execution_count": null,
   "id": "a41f0aaa",
   "metadata": {},
   "outputs": [],
   "source": [
    "plt.plot(V)\n",
    "plt.plot(V_df)"
   ]
  },
  {
   "cell_type": "code",
   "execution_count": null,
   "id": "1b42e5df",
   "metadata": {},
   "outputs": [],
   "source": [
    "# policy\n",
    "# pi(s, a) = softmax(Q(s,a))\n",
    "\n",
    "pi_correct_pre = np.exp(Q_left*beta) / (np.exp(Q_left*beta) + np.exp(Q_right*beta))\n",
    "plt.plot(np.arange(2, n_states ), pi_correct_pre[1:-1], label='Optimal SR')\n",
    "\n",
    "# plot the same thing but with the diffusion SR\n",
    "M_df = np.linalg.inv(np.eye(n_states) - gamma * T_df)\n",
    "V = M_df.dot(R.reshape(-1, 1))\n",
    "Q_left = T_left.dot(V).reshape(-1)\n",
    "Q_right = T_right.dot(V).reshape(-1)\n",
    "pi_diff_pre = np.exp(Q_left*beta) / (np.exp(Q_left*beta) + np.exp(Q_right*beta))\n",
    "plt.plot(np.arange(2, n_states ), pi_diff_pre[1:-1], label='Diffusion SR')\n",
    "\n",
    "plt.legend()\n",
    "sns.despine()"
   ]
  },
  {
   "cell_type": "code",
   "execution_count": null,
   "id": "3cb3be75",
   "metadata": {},
   "outputs": [],
   "source": [
    "M_df.shape"
   ]
  },
  {
   "cell_type": "code",
   "execution_count": null,
   "id": "cb4997e2",
   "metadata": {},
   "outputs": [],
   "source": [
    "\n",
    "R = np.zeros(9)\n",
    "R[0] = 1\n",
    "R[-1] = 2\n",
    "\n",
    "# equation 6, Gershman J Neuro 2018\n",
    "V = M.dot(R.reshape(-1, 1))\n",
    "plt.bar(x=np.arange(1, 10), height=V.reshape(-1))\n",
    "sns.despine()\n",
    "plt.xticks(np.arange(1, 10))\n",
    "plt.xlabel('State')\n",
    "plt.ylabel('State-Values')"
   ]
  },
  {
   "cell_type": "code",
   "execution_count": null,
   "id": "ee3bfa93",
   "metadata": {},
   "outputs": [],
   "source": [
    "V = M.dot(R.reshape(-1, 1))\n",
    "\n",
    "# This model is my own.  One step look-ahead Q-values where\n",
    "# Q(s, a) = T(s, a, s')V(s')\n",
    "\n",
    "Q_left = T_left.dot(V).reshape(-1)\n",
    "Q_right = T_right.dot(V).reshape(-1)\n",
    "\n",
    "df = {\n",
    "    'State': np.concatenate([np.arange(1, 10), np.arange(1, 10)]),\n",
    "    'Q-value': np.concatenate([Q_left, Q_right]),\n",
    "    'Action': ['Left'] * 9 + ['Right'] * 9\n",
    "}\n",
    "\n",
    "\n",
    "sns.barplot(x='State',y='Q-value', data=pd.DataFrame(df), hue='Action', palette='Set2')\n",
    "sns.despine()"
   ]
  },
  {
   "cell_type": "code",
   "execution_count": null,
   "id": "775b8a24",
   "metadata": {},
   "outputs": [],
   "source": [
    "# policy\n",
    "# pi(s, a) = softmax(Q(s,a))\n",
    "pi_correct_post = np.exp(Q_left) / (np.exp(Q_left) + np.exp(Q_right))\n",
    "plt.bar(np.arange(2, 9), pi_correct_pre[1:-1])\n",
    "plt.bar(np.arange(2, 9), pi_correct_post[1:-1])\n",
    "plt.xlabel('Probablity of Left')\n",
    "plt.ylabel('State')\n",
    "sns.despine()"
   ]
  },
  {
   "cell_type": "code",
   "execution_count": null,
   "id": "cc12f74c",
   "metadata": {},
   "outputs": [],
   "source": [
    "# V = M.dot(R.reshape(-1, 1))\n",
    "T_left.dot(V)\n",
    "\n",
    "df = {\n",
    "    'State': np.concatenate([np.arange(1, 10), np.arange(1, 10)]),\n",
    "    'Q-value': np.concatenate([T_left.dot(V).reshape(-1), T_right.dot(V).reshape(-1)]),\n",
    "    'Action': ['Left'] * 9 + ['Right'] * 9\n",
    "}\n",
    "\n",
    "\n",
    "sns.barplot(x='State',y='Q-value', data=pd.DataFrame(df), hue='Action', palette='Set2')\n",
    "sns.despine()"
   ]
  },
  {
   "cell_type": "code",
   "execution_count": null,
   "id": "1e6263c3",
   "metadata": {},
   "outputs": [],
   "source": [
    "plt.plot((T_right + T_left).dot(V)\n",
    ")\n"
   ]
  },
  {
   "cell_type": "code",
   "execution_count": null,
   "id": "d106f4b5",
   "metadata": {},
   "outputs": [],
   "source": [
    "M_df = np.linalg.inv(np.eye(9) - gamma * T_df)\n",
    "V = M_df.dot(R.reshape(-1, 1))\n",
    "\n",
    "\n",
    "plt.bar(x=np.arange(1, 10), height=V.reshape(-1))\n",
    "sns.despine()\n",
    "plt.xticks(np.arange(1, 10))\n",
    "plt.xlabel('State')\n",
    "plt.ylabel('State-Values')\n",
    "plt.title('Diffusion policy')"
   ]
  },
  {
   "cell_type": "code",
   "execution_count": null,
   "id": "f28f5488",
   "metadata": {},
   "outputs": [],
   "source": [
    "state_action_reward_functions = environments.get_state_action_reward_from_sucessor_rewards(\n",
    "    R, [T_left, T_right]\n",
    ")\n",
    "\n",
    "sa_values, s_values = ValueIterationNetwork.value_iteration(\n",
    "    [T_left, T_right], state_action_reward_functions, n_rows=1, n_columns=n_states, gamma=gamma)\n",
    "s_values"
   ]
  },
  {
   "cell_type": "code",
   "execution_count": null,
   "id": "cc7d9f0a",
   "metadata": {},
   "outputs": [],
   "source": [
    "s_values"
   ]
  },
  {
   "cell_type": "code",
   "execution_count": null,
   "id": "4c97b15a",
   "metadata": {},
   "outputs": [],
   "source": [
    "plt.plot(V.reshape(-1))\n",
    "plt.plot(s_values, )"
   ]
  },
  {
   "cell_type": "code",
   "execution_count": null,
   "id": "3ab85c07",
   "metadata": {},
   "outputs": [],
   "source": [
    "sa_values"
   ]
  },
  {
   "cell_type": "code",
   "execution_count": null,
   "id": "2387cf51",
   "metadata": {},
   "outputs": [],
   "source": []
  }
 ],
 "metadata": {
  "kernelspec": {
   "display_name": "Python 3",
   "language": "python",
   "name": "python3"
  },
  "language_info": {
   "codemirror_mode": {
    "name": "ipython",
    "version": 3
   },
   "file_extension": ".py",
   "mimetype": "text/x-python",
   "name": "python",
   "nbconvert_exporter": "python",
   "pygments_lexer": "ipython3",
   "version": "3.8.8"
  }
 },
 "nbformat": 4,
 "nbformat_minor": 5
}
