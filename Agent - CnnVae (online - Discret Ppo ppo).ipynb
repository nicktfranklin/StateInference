{
 "cells": [
  {
   "cell_type": "markdown",
   "metadata": {
    "id": "t4iDMXDXCiXL"
   },
   "source": [
    "# Agents:\n",
    "These simulations evaluate several agents exploring the thread the needle enviroment"
   ]
  },
  {
   "cell_type": "code",
   "execution_count": null,
   "metadata": {
    "id": "gX_WcaJrCiXO"
   },
   "outputs": [],
   "source": [
    "%load_ext autoreload\n",
    "%autoreload 2\n",
    "# from IPython.display import display, HTML\n",
    "# display(HTML(\"<style>.container { width:90% !important; }</style>\"))\n",
    "\n",
    "import warnings\n",
    "warnings.filterwarnings('ignore', category=DeprecationWarning)"
   ]
  },
  {
   "cell_type": "code",
   "execution_count": 2,
   "metadata": {
    "colab": {
     "base_uri": "https://localhost:8080/"
    },
    "executionInfo": {
     "elapsed": 27310,
     "status": "ok",
     "timestamp": 1695324330501,
     "user": {
      "displayName": "Nicholas Franklin",
      "userId": "12504197633357716328"
     },
     "user_tz": 240
    },
    "id": "rs6RRdxzCiXP",
    "outputId": "eca04536-735a-413c-b345-20ea4c466826"
   },
   "outputs": [
    {
     "name": "stdout",
     "output_type": "stream",
     "text": [
      "python 3.10.13 (main, Sep 11 2023, 08:16:02) [Clang 14.0.6 ]\n",
      "torch 2.5.1\n",
      "device = mps\n"
     ]
    }
   ],
   "source": [
    "%matplotlib inline\n",
    "import sys\n",
    "import os\n",
    "import torch\n",
    "import numpy as np\n",
    "import pandas as pd\n",
    "import matplotlib.pyplot as plt\n",
    "from stable_baselines3.common.monitor import Monitor\n",
    "import string\n",
    "import random\n",
    "import networkx as nx\n",
    "import seaborn as sns\n",
    "\n",
    "from model.training.rollout_data import PriorityReplayBuffer as Buffer\n",
    "from task.gridworld import CnnWrapper, ThreadTheNeedleEnv, OpenEnv\n",
    "from utils.config_utils import parse_task_config, parse_model_config, load_config\n",
    "from utils.pytorch_utils import DEVICE\n",
    "from model.agents.sb_discrete_ppo import DiscretePpo as AgentClass\n",
    "\n",
    "from utils.pytorch_utils import (\n",
    "    convert_float_to_8bit\n",
    ")\n",
    "\n",
    "print(f\"python {sys.version}\")\n",
    "print(f\"torch {torch.__version__}\")\n",
    "print(f\"device = {DEVICE}\")\n"
   ]
  },
  {
   "cell_type": "code",
   "execution_count": 3,
   "metadata": {
    "colab": {
     "base_uri": "https://localhost:8080/",
     "height": 140,
     "referenced_widgets": [
      "35db648b0ccf49a898f46c7002c182ff",
      "1652455236434fd595f478f228333ade",
      "971b821eb13d4257a7c2ae73381df11e",
      "b44689589e2b4f1dbb45f61c49d4062f",
      "60ad1b1ffe8c47518fb905de5a2ba43b",
      "d1d32540b92e4e4584ac3aa628436021",
      "ce22fd1425e34878b5bf57a180e6b68a",
      "532462010a464a408a44e376dbbd6ec2",
      "f15532d5a2d84f078b135130546e00f9",
      "a8b47418ba51421396006975690322d2",
      "3a6976f1e97e4bfa9c820ae22c022177",
      "15f65c7bfcf8405c918f61372c86fc6e"
     ]
    },
    "executionInfo": {
     "elapsed": 9290,
     "status": "ok",
     "timestamp": 1695324339781,
     "user": {
      "displayName": "Nicholas Franklin",
      "userId": "12504197633357716328"
     },
     "user_tz": 240
    },
    "id": "zMjOepyHCiXQ",
    "outputId": "a392baec-a650-473f-cbf0-bc83702b2099"
   },
   "outputs": [],
   "source": [
    "CONFIG_PATH = \"configs\"\n",
    "TASK_CONFIG_FILE = \"env_config.yml\"\n",
    "VAE_CONFIG_FILE = \"vae_config.yml\"\n",
    "AGENT_CONFIG_FILE = \"discrete_ppo_config.yml\"\n",
    "\n",
    "TASK_NAME = \"thread_the_needle\"\n",
    "MODEL_NAME = \"cnn_vae\"\n",
    "\n",
    "random_id = ''.join(random.choice(string.ascii_uppercase) for _ in range(6))\n",
    "LOGGING_TAG = f'OpenEnv-ppoW1.0-detach{random_id}'\n",
    "\n",
    "\n",
    "# Create log dir\n",
    "LOG_DIR = \"tmp/\"\n",
    "os.makedirs(LOG_DIR, exist_ok=True)\n",
    "\n",
    "TASK_CLASS = ThreadTheNeedleEnv\n",
    "# AgentClass = StableBaselinesPPO\n",
    "\n",
    "## Load Configs\n",
    "task_config_file = os.path.join(CONFIG_PATH, TASK_CONFIG_FILE)\n",
    "vae_config_file = os.path.join(CONFIG_PATH, VAE_CONFIG_FILE)\n",
    "agent_config_file = os.path.join(CONFIG_PATH, AGENT_CONFIG_FILE)\n",
    "\n",
    "env_kwargs = parse_task_config(TASK_NAME, task_config_file)\n",
    "vae_config = parse_model_config(MODEL_NAME, vae_config_file)\n",
    "agent_config = load_config(agent_config_file)\n",
    "\n",
    "# create the task and get the optimal policy\n",
    "task = CnnWrapper(TASK_CLASS.create_env(**env_kwargs))\n",
    "pi, _ = task.get_optimal_policy()\n",
    "\n",
    "SAVE_FILE_NAME = f\"simulations/thread_the_needle_viagent_offline.csv\""
   ]
  },
  {
   "cell_type": "code",
   "execution_count": 4,
   "metadata": {
    "colab": {
     "referenced_widgets": [
      "a97baba4f7ad45d68e6642ec5a2c0661"
     ]
    },
    "id": "pDEaG39L87kE",
    "outputId": "e9294926-8a92-4d41-af1c-e012f0948270"
   },
   "outputs": [
    {
     "name": "stderr",
     "output_type": "stream",
     "text": [
      "/Users/nicholasfranklin/miniconda3/envs/state_inference/lib/python3.10/site-packages/gymnasium/core.py:311: UserWarning: \u001b[33mWARN: env.get_optimal_policy to get variables from other wrappers is deprecated and will be removed in v1.0, to get this variable you can do `env.unwrapped.get_optimal_policy` for environment variables or `env.get_wrapper_attr('get_optimal_policy')` that will search the reminding wrappers.\u001b[0m\n",
      "  logger.warn(\n"
     ]
    }
   ],
   "source": [
    "# create the task and get the optimal policy\n",
    "task = TASK_CLASS.create_env(**env_kwargs)\n",
    "task = CnnWrapper(task)\n",
    "\n",
    "# create the monitor\n",
    "task = Monitor(task, LOG_DIR)\n",
    "\n",
    "pi, _ = task.get_optimal_policy()\n",
    "# training_kwargs[\"optimal_policy\"] = pi"
   ]
  },
  {
   "cell_type": "code",
   "execution_count": 5,
   "metadata": {},
   "outputs": [
    {
     "data": {
      "text/plain": [
       "4"
      ]
     },
     "execution_count": 5,
     "metadata": {},
     "output_type": "execute_result"
    }
   ],
   "source": [
    "# dir(task.action_space)\n",
    "task.action_space.n\n"
   ]
  },
  {
   "cell_type": "code",
   "execution_count": 6,
   "metadata": {},
   "outputs": [
    {
     "name": "stdout",
     "output_type": "stream",
     "text": [
      "Args: ['args', 'kwargs']\n",
      "Kwargs: ['vae_coef']\n"
     ]
    }
   ],
   "source": [
    "import inspect\n",
    "\n",
    "# Get the signature of the __init__ method of DiscretePPO\n",
    "sig = inspect.signature(AgentClass.__init__)\n",
    "\n",
    "# Iterate through the parameters to separate args and kwargs\n",
    "args = []\n",
    "kwargs = []\n",
    "for param in sig.parameters.values():\n",
    "    # Skip 'self' parameter for methods\n",
    "    if param.name == 'self':\n",
    "        continue\n",
    "    if param.default == inspect.Parameter.empty:\n",
    "        args.append(param.name)\n",
    "    else:\n",
    "        kwargs.append(param.name)\n",
    "\n",
    "print(\"Args:\", args)\n",
    "print(\"Kwargs:\", kwargs)"
   ]
  },
  {
   "cell_type": "code",
   "execution_count": 7,
   "metadata": {},
   "outputs": [
    {
     "data": {
      "text/plain": [
       "{'vae_model_class': 'StateVae',\n",
       " 'n_train_steps': 30000,\n",
       " 'n_batches': 12,\n",
       " 'value_iteration_kwargs': {'gamma': 0.9,\n",
       "  'n_iter': 1000,\n",
       "  'softmax_gain': 1.0,\n",
       "  'epsilon': 0.05,\n",
       "  'batch_length': 'None'},\n",
       " 'state_inference_model': {'batch_size': 64,\n",
       "  'n_epochs': 10,\n",
       "  'grad_clip': 1.0,\n",
       "  'n_steps': 2048,\n",
       "  'persistant_optim': True}}"
      ]
     },
     "execution_count": 7,
     "metadata": {},
     "output_type": "execute_result"
    }
   ],
   "source": [
    "agent_config"
   ]
  },
  {
   "cell_type": "code",
   "execution_count": 8,
   "metadata": {
    "colab": {
     "base_uri": "https://localhost:8080/"
    },
    "executionInfo": {
     "elapsed": 397,
     "status": "ok",
     "timestamp": 1695324340489,
     "user": {
      "displayName": "Nicholas Franklin",
      "userId": "12504197633357716328"
     },
     "user_tz": 240
    },
    "id": "3ICAzJwrCiXR",
    "outputId": "9840cbf2-a1c2-4a79-cf2b-05d36b62436e"
   },
   "outputs": [
    {
     "name": "stdout",
     "output_type": "stream",
     "text": [
      "Using cpu device\n",
      "Wrapping the env in a DummyVecEnv.\n",
      "Wrapping the env in a VecTransposeImage.\n"
     ]
    }
   ],
   "source": [
    "### Model + Training Parameters\n",
    "\n",
    "vae_config = parse_model_config(MODEL_NAME, vae_config_file)\n",
    "agent_config = load_config(agent_config_file)\n",
    "\n",
    "\n",
    "def make_model():\n",
    "    ppo = AgentClass(\n",
    "        \"CnnPolicy\",\n",
    "        task,\n",
    "        verbose=1,\n",
    "        n_steps=2048,\n",
    "        batch_size=64,\n",
    "        n_epochs=10,\n",
    "        vae_coef=1.0,\n",
    "        # policy_kwargs=dict(features_extractor_kwargs=dict(tau=0.05, z_dim=8, z_layers=8)),\n",
    "        policy_kwargs=dict(features_extractor_kwargs=dict(tau=0.01, tau_annealing_rate=0.85, z_dim=8, z_layers=8)),\n",
    "        # policy_kwargs=dict(features_extractor_kwargs=dict(tau=10.0, tau_annealing_rate=0.5, z_dim=32, z_layers=16)),\n",
    "    )\n",
    "    # ppo = ppo.to(DEVICE)\n",
    "    return ppo\n",
    "\n",
    "agent = make_model()\n",
    "# total_params = sum(p.numel() for p in agent.state_inference_model.parameters())\n",
    "# print(f\"Number of parameters: {total_params}\")"
   ]
  },
  {
   "cell_type": "code",
   "execution_count": 9,
   "metadata": {},
   "outputs": [
    {
     "data": {
      "text/plain": [
       "<model.agents.sb_discrete_ppo.DiscretePpo at 0x30da03730>"
      ]
     },
     "execution_count": 9,
     "metadata": {},
     "output_type": "execute_result"
    }
   ],
   "source": [
    "agent"
   ]
  },
  {
   "cell_type": "code",
   "execution_count": 10,
   "metadata": {
    "colab": {
     "base_uri": "https://localhost:8080/"
    },
    "id": "7qmmETd4CiXR",
    "outputId": "30368cd4-7362-4888-a8bf-de0f3819fc1b"
   },
   "outputs": [
    {
     "data": {
      "application/vnd.jupyter.widget-view+json": {
       "model_id": "3ca0e6364feb49a2a1caa59356dc06b4",
       "version_major": 2,
       "version_minor": 0
      },
      "text/plain": [
       "Output()"
      ]
     },
     "metadata": {},
     "output_type": "display_data"
    },
    {
     "name": "stdout",
     "output_type": "stream",
     "text": [
      "Using cpu device\n",
      "Wrapping the env in a DummyVecEnv.\n",
      "Wrapping the env in a VecTransposeImage.\n"
     ]
    },
    {
     "name": "stdout",
     "output_type": "stream",
     "text": [
      "---------------------------------\n",
      "| rollout/           |          |\n",
      "|    ep_len_mean     | 166      |\n",
      "|    ep_rew_mean     | -15.1    |\n",
      "| time/              |          |\n",
      "|    fps             | 813      |\n",
      "|    iterations      | 1        |\n",
      "|    time_elapsed    | 2        |\n",
      "|    total_timesteps | 2048     |\n",
      "---------------------------------\n"
     ]
    },
    {
     "name": "stdout",
     "output_type": "stream",
     "text": [
      "-----------------------------------------\n",
      "| rollout/                |             |\n",
      "|    ep_len_mean          | 164         |\n",
      "|    ep_rew_mean          | -14.7       |\n",
      "| time/                   |             |\n",
      "|    fps                  | 84          |\n",
      "|    iterations           | 2           |\n",
      "|    time_elapsed         | 48          |\n",
      "|    total_timesteps      | 4096        |\n",
      "| train/                  |             |\n",
      "|    approx_kl            | 0.010248402 |\n",
      "|    clip_fraction        | 0.0884      |\n",
      "|    clip_range           | 0.2         |\n",
      "|    entropy_loss         | -1.38       |\n",
      "|    explained_variance   | -0.0316     |\n",
      "|    learning_rate        | 0.0003      |\n",
      "|    loss                 | 156         |\n",
      "|    n_updates            | 10          |\n",
      "|    policy_gradient_loss | -0.00353    |\n",
      "|    vae_elbo             | 228         |\n",
      "|    value_loss           | 0.941       |\n",
      "-----------------------------------------\n"
     ]
    },
    {
     "name": "stdout",
     "output_type": "stream",
     "text": [
      "-----------------------------------------\n",
      "| rollout/                |             |\n",
      "|    ep_len_mean          | 143         |\n",
      "|    ep_rew_mean          | -12.4       |\n",
      "| time/                   |             |\n",
      "|    fps                  | 64          |\n",
      "|    iterations           | 3           |\n",
      "|    time_elapsed         | 95          |\n",
      "|    total_timesteps      | 6144        |\n",
      "| train/                  |             |\n",
      "|    approx_kl            | 0.012806216 |\n",
      "|    clip_fraction        | 0.132       |\n",
      "|    clip_range           | 0.2         |\n",
      "|    entropy_loss         | -1.37       |\n",
      "|    explained_variance   | 0.194       |\n",
      "|    learning_rate        | 0.0003      |\n",
      "|    loss                 | 153         |\n",
      "|    n_updates            | 20          |\n",
      "|    policy_gradient_loss | -0.013      |\n",
      "|    vae_elbo             | 156         |\n",
      "|    value_loss           | 0.952       |\n",
      "-----------------------------------------\n"
     ]
    },
    {
     "name": "stdout",
     "output_type": "stream",
     "text": [
      "-----------------------------------------\n",
      "| rollout/                |             |\n",
      "|    ep_len_mean          | 114         |\n",
      "|    ep_rew_mean          | -9.4        |\n",
      "| time/                   |             |\n",
      "|    fps                  | 58          |\n",
      "|    iterations           | 4           |\n",
      "|    time_elapsed         | 140         |\n",
      "|    total_timesteps      | 8192        |\n",
      "| train/                  |             |\n",
      "|    approx_kl            | 0.023068186 |\n",
      "|    clip_fraction        | 0.251       |\n",
      "|    clip_range           | 0.2         |\n",
      "|    entropy_loss         | -1.33       |\n",
      "|    explained_variance   | 0.558       |\n",
      "|    learning_rate        | 0.0003      |\n",
      "|    loss                 | 148         |\n",
      "|    n_updates            | 30          |\n",
      "|    policy_gradient_loss | -0.0151     |\n",
      "|    vae_elbo             | 146         |\n",
      "|    value_loss           | 1.14        |\n",
      "-----------------------------------------\n"
     ]
    },
    {
     "name": "stdout",
     "output_type": "stream",
     "text": [
      "-----------------------------------------\n",
      "| rollout/                |             |\n",
      "|    ep_len_mean          | 109         |\n",
      "|    ep_rew_mean          | -8.9        |\n",
      "| time/                   |             |\n",
      "|    fps                  | 55          |\n",
      "|    iterations           | 5           |\n",
      "|    time_elapsed         | 184         |\n",
      "|    total_timesteps      | 10240       |\n",
      "| train/                  |             |\n",
      "|    approx_kl            | 0.019418232 |\n",
      "|    clip_fraction        | 0.251       |\n",
      "|    clip_range           | 0.2         |\n",
      "|    entropy_loss         | -1.29       |\n",
      "|    explained_variance   | 0.618       |\n",
      "|    learning_rate        | 0.0003      |\n",
      "|    loss                 | 146         |\n",
      "|    n_updates            | 40          |\n",
      "|    policy_gradient_loss | -0.0203     |\n",
      "|    vae_elbo             | 146         |\n",
      "|    value_loss           | 1.36        |\n",
      "-----------------------------------------\n"
     ]
    },
    {
     "name": "stdout",
     "output_type": "stream",
     "text": [
      "-----------------------------------------\n",
      "| rollout/                |             |\n",
      "|    ep_len_mean          | 73.8        |\n",
      "|    ep_rew_mean          | -5.31       |\n",
      "| time/                   |             |\n",
      "|    fps                  | 53          |\n",
      "|    iterations           | 6           |\n",
      "|    time_elapsed         | 229         |\n",
      "|    total_timesteps      | 12288       |\n",
      "| train/                  |             |\n",
      "|    approx_kl            | 0.017276641 |\n",
      "|    clip_fraction        | 0.193       |\n",
      "|    clip_range           | 0.2         |\n",
      "|    entropy_loss         | -1.23       |\n",
      "|    explained_variance   | 0.602       |\n",
      "|    learning_rate        | 0.0003      |\n",
      "|    loss                 | 137         |\n",
      "|    n_updates            | 50          |\n",
      "|    policy_gradient_loss | -0.0148     |\n",
      "|    vae_elbo             | 139         |\n",
      "|    value_loss           | 0.195       |\n",
      "-----------------------------------------\n"
     ]
    },
    {
     "name": "stdout",
     "output_type": "stream",
     "text": [
      "-----------------------------------------\n",
      "| rollout/                |             |\n",
      "|    ep_len_mean          | 44.2        |\n",
      "|    ep_rew_mean          | -2.38       |\n",
      "| time/                   |             |\n",
      "|    fps                  | 51          |\n",
      "|    iterations           | 7           |\n",
      "|    time_elapsed         | 278         |\n",
      "|    total_timesteps      | 14336       |\n",
      "| train/                  |             |\n",
      "|    approx_kl            | 0.052725222 |\n",
      "|    clip_fraction        | 0.258       |\n",
      "|    clip_range           | 0.2         |\n",
      "|    entropy_loss         | -1.07       |\n",
      "|    explained_variance   | 0.859       |\n",
      "|    learning_rate        | 0.0003      |\n",
      "|    loss                 | 22.2        |\n",
      "|    n_updates            | 60          |\n",
      "|    policy_gradient_loss | 0.0155      |\n",
      "|    vae_elbo             | 61.2        |\n",
      "|    value_loss           | 0.939       |\n",
      "-----------------------------------------\n"
     ]
    },
    {
     "name": "stdout",
     "output_type": "stream",
     "text": [
      "-----------------------------------------\n",
      "| rollout/                |             |\n",
      "|    ep_len_mean          | 35.1        |\n",
      "|    ep_rew_mean          | -0.633      |\n",
      "| time/                   |             |\n",
      "|    fps                  | 50          |\n",
      "|    iterations           | 8           |\n",
      "|    time_elapsed         | 322         |\n",
      "|    total_timesteps      | 16384       |\n",
      "| train/                  |             |\n",
      "|    approx_kl            | 0.020624738 |\n",
      "|    clip_fraction        | 0.111       |\n",
      "|    clip_range           | 0.2         |\n",
      "|    entropy_loss         | -1.07       |\n",
      "|    explained_variance   | 0.921       |\n",
      "|    learning_rate        | 0.0003      |\n",
      "|    loss                 | 21.7        |\n",
      "|    n_updates            | 70          |\n",
      "|    policy_gradient_loss | -0.00416    |\n",
      "|    vae_elbo             | 23.3        |\n",
      "|    value_loss           | 0.736       |\n",
      "-----------------------------------------\n"
     ]
    },
    {
     "name": "stdout",
     "output_type": "stream",
     "text": [
      "-----------------------------------------\n",
      "| rollout/                |             |\n",
      "|    ep_len_mean          | 26.9        |\n",
      "|    ep_rew_mean          | 0.509       |\n",
      "| time/                   |             |\n",
      "|    fps                  | 50          |\n",
      "|    iterations           | 9           |\n",
      "|    time_elapsed         | 366         |\n",
      "|    total_timesteps      | 18432       |\n",
      "| train/                  |             |\n",
      "|    approx_kl            | 0.016877078 |\n",
      "|    clip_fraction        | 0.14        |\n",
      "|    clip_range           | 0.2         |\n",
      "|    entropy_loss         | -1          |\n",
      "|    explained_variance   | 0.934       |\n",
      "|    learning_rate        | 0.0003      |\n",
      "|    loss                 | 21.5        |\n",
      "|    n_updates            | 80          |\n",
      "|    policy_gradient_loss | -0.00581    |\n",
      "|    vae_elbo             | 22.7        |\n",
      "|    value_loss           | 1.19        |\n",
      "-----------------------------------------\n"
     ]
    },
    {
     "name": "stdout",
     "output_type": "stream",
     "text": [
      "-----------------------------------------\n",
      "| rollout/                |             |\n",
      "|    ep_len_mean          | 30.5        |\n",
      "|    ep_rew_mean          | 0.804       |\n",
      "| time/                   |             |\n",
      "|    fps                  | 49          |\n",
      "|    iterations           | 10          |\n",
      "|    time_elapsed         | 415         |\n",
      "|    total_timesteps      | 20480       |\n",
      "| train/                  |             |\n",
      "|    approx_kl            | 0.015266608 |\n",
      "|    clip_fraction        | 0.167       |\n",
      "|    clip_range           | 0.2         |\n",
      "|    entropy_loss         | -1.02       |\n",
      "|    explained_variance   | 0.947       |\n",
      "|    learning_rate        | 0.0003      |\n",
      "|    loss                 | 19.9        |\n",
      "|    n_updates            | 90          |\n",
      "|    policy_gradient_loss | -0.00749    |\n",
      "|    vae_elbo             | 18.8        |\n",
      "|    value_loss           | 0.988       |\n",
      "-----------------------------------------\n"
     ]
    },
    {
     "data": {
      "text/html": [
       "<pre style=\"white-space:pre;overflow-x:auto;line-height:normal;font-family:Menlo,'DejaVu Sans Mono',consolas,'Courier New',monospace\"></pre>\n"
      ],
      "text/plain": []
     },
     "metadata": {},
     "output_type": "display_data"
    },
    {
     "data": {
      "text/html": [
       "<pre style=\"white-space:pre;overflow-x:auto;line-height:normal;font-family:Menlo,'DejaVu Sans Mono',consolas,'Courier New',monospace\">\n",
       "</pre>\n"
      ],
      "text/plain": [
       "\n"
      ]
     },
     "metadata": {},
     "output_type": "display_data"
    },
    {
     "data": {
      "text/plain": [
       "<model.agents.sb_discrete_ppo.DiscretePpo at 0x30da01300>"
      ]
     },
     "execution_count": 10,
     "metadata": {},
     "output_type": "execute_result"
    }
   ],
   "source": [
    "agent = make_model()\n",
    "\n",
    "# agent.learn(total_timesteps=10000, progress_bar=True) # previous model\n",
    "agent.learn(total_timesteps=2048*10, progress_bar=True)\n",
    "# agent.learn(total_timesteps=1000, progress_bar=True, capacity=750)"
   ]
  },
  {
   "cell_type": "code",
   "execution_count": 11,
   "metadata": {},
   "outputs": [],
   "source": [
    "from model.agents.utils.tabular_agent_pytorch import ModelBasedAgent\n",
    "\n",
    "\n",
    "buffer_data = next(agent.rollout_buffer.get())\n",
    "\n",
    "agent.reset_state_indexer()\n",
    "\n",
    "states = agent.get_states(buffer_data.observations)\n",
    "next_states = agent.get_states(buffer_data.next_observations)\n",
    "\n",
    "n_states = torch.cat([states, next_states]).max().item() + 1\n",
    "\n",
    "mdp = ModelBasedAgent(n_states, agent.get_env().action_space.n, 0.95)\n",
    "n = buffer_data.observations.shape[0]\n",
    "for ii in range(n):\n",
    "    s, a, r, sp, done = (\n",
    "        states[ii].item(),\n",
    "        buffer_data.actions[ii].long().item(),\n",
    "        buffer_data.rewards[ii].item(),\n",
    "        next_states[ii].item(),\n",
    "        bool(buffer_data.dones[ii].item()),\n",
    "    )\n",
    "    done = done if ii < n - 1 else True\n",
    "    mdp.update(s, a, r, sp, done)\n",
    "\n",
    "value_function = mdp.estimate_value_function()\n",
    "\n",
    "vi_estimates = value_function[states].view(-1, 1)\n"
   ]
  },
  {
   "cell_type": "code",
   "execution_count": 12,
   "metadata": {},
   "outputs": [
    {
     "data": {
      "text/plain": [
       "torch.Size([2048, 1])"
      ]
     },
     "execution_count": 12,
     "metadata": {},
     "output_type": "execute_result"
    }
   ],
   "source": [
    "vi_estimates.shape"
   ]
  },
  {
   "cell_type": "code",
   "execution_count": 13,
   "metadata": {},
   "outputs": [
    {
     "data": {
      "text/plain": [
       "<matplotlib.collections.PathCollection at 0x30de8e650>"
      ]
     },
     "execution_count": 13,
     "metadata": {},
     "output_type": "execute_result"
    },
    {
     "data": {
      "image/png": "[encoded data removed]",
      "text/plain": [
       "<Figure size 640x480 with 1 Axes>"
      ]
     },
     "metadata": {},
     "output_type": "display_data"
    }
   ],
   "source": [
    "plt.scatter(buffer_data.old_values, vi_estimates.flatten())"
   ]
  },
  {
   "cell_type": "code",
   "execution_count": 14,
   "metadata": {},
   "outputs": [
    {
     "data": {
      "text/plain": [
       "array([-1.4012631, -1.3697506, -1.3365796, ...,  8.829999 ,  9.4      ,\n",
       "       10.       ], dtype=float32)"
      ]
     },
     "execution_count": 14,
     "metadata": {},
     "output_type": "execute_result"
    }
   ],
   "source": [
    "# calculate the TD-lambda estimates\n",
    "v = np.zeros_like(buffer_data.rewards)\n",
    "episode = np.zeros_like(buffer_data.rewards)\n",
    "t = 0\n",
    "for step in reversed(range(len(buffer_data.rewards))):\n",
    "    episode[step] = t\n",
    "\n",
    "    if step == len(buffer_data.rewards) - 1:\n",
    "        v[step] = buffer_data.rewards[step]\n",
    "    else:\n",
    "        v[step] = buffer_data.rewards[step] + 0.95 * v[step + 1]\n",
    "    if buffer_data.dones[step]:\n",
    "        v[step] = buffer_data.rewards[step]\n",
    "        episode[step] = t\n",
    "        t += 1\n",
    "v"
   ]
  },
  {
   "cell_type": "code",
   "execution_count": 15,
   "metadata": {},
   "outputs": [
    {
     "data": {
      "text/plain": [
       "<matplotlib.collections.PathCollection at 0x31b988520>"
      ]
     },
     "execution_count": 15,
     "metadata": {},
     "output_type": "execute_result"
    },
    {
     "data": {
      "image/png": "[encoded data removed]",
      "text/plain": [
       "<Figure size 640x480 with 1 Axes>"
      ]
     },
     "metadata": {},
     "output_type": "display_data"
    }
   ],
   "source": [
    "t = 1\n",
    "plt.scatter(v[episode == t], vi_estimates.flatten()[episode == t])"
   ]
  },
  {
   "cell_type": "code",
   "execution_count": 16,
   "metadata": {},
   "outputs": [
    {
     "data": {
      "text/plain": [
       "<matplotlib.collections.PathCollection at 0x31bd53f70>"
      ]
     },
     "execution_count": 16,
     "metadata": {},
     "output_type": "execute_result"
    },
    {
     "data": {
      "image/png": "[encoded data removed]",
      "text/plain": [
       "<Figure size 640x480 with 1 Axes>"
      ]
     },
     "metadata": {},
     "output_type": "display_data"
    }
   ],
   "source": [
    "plt.scatter(buffer_data.rewards[episode == t], vi_estimates.flatten()[episode == t])"
   ]
  },
  {
   "cell_type": "code",
   "execution_count": 17,
   "metadata": {},
   "outputs": [
    {
     "name": "stderr",
     "output_type": "stream",
     "text": [
      "Collection rollouts: 100%|██████████| 2048/2048 [00:02<00:00, 1015.58it/s]\n"
     ]
    }
   ],
   "source": [
    "rollouts = Buffer()\n",
    "# rollouts = agent.collect_buffer(task, rollouts, 10000, epsilon=0.01)\n",
    "rollouts = agent.collect_buffer(task, rollouts, 2048, epsilon=0.00)\n",
    "rollouts.transpose_obs([2, 0, 1])\n"
   ]
  },
  {
   "cell_type": "code",
   "execution_count": 18,
   "metadata": {},
   "outputs": [
    {
     "data": {
      "text/plain": [
       "array([[910],\n",
       "       [977]])"
      ]
     },
     "execution_count": 18,
     "metadata": {},
     "output_type": "execute_result"
    }
   ],
   "source": [
    "np.argwhere(rollouts.get_dataset()['rewards'] > 0.0)"
   ]
  },
  {
   "cell_type": "code",
   "execution_count": 19,
   "metadata": {},
   "outputs": [
    {
     "data": {
      "text/plain": [
       "(2039, 1, 64, 64)"
      ]
     },
     "execution_count": 19,
     "metadata": {},
     "output_type": "execute_result"
    }
   ],
   "source": [
    "dataset = rollouts.get_dataset()\n",
    "dataset['observations'].shape"
   ]
  },
  {
   "cell_type": "code",
   "execution_count": 20,
   "metadata": {},
   "outputs": [],
   "source": [
    "# agent.reset_state_indexer()\n",
    "# Laplacian, state_key = agent.get_graph_laplacian(rollouts)"
   ]
  },
  {
   "cell_type": "code",
   "execution_count": 21,
   "metadata": {},
   "outputs": [],
   "source": [
    "agent.reset_state_indexer()\n",
    "mdp = agent.estimate_world_model(rollouts)\n"
   ]
  },
  {
   "cell_type": "code",
   "execution_count": 22,
   "metadata": {},
   "outputs": [
    {
     "data": {
      "text/plain": [
       "torch.Size([194])"
      ]
     },
     "execution_count": 22,
     "metadata": {},
     "output_type": "execute_result"
    }
   ],
   "source": [
    "v = mdp.estimate_value_function()\n",
    "v.shape"
   ]
  },
  {
   "cell_type": "code",
   "execution_count": 23,
   "metadata": {},
   "outputs": [
    {
     "data": {
      "text/plain": [
       "tensor([[-0.1000, -0.1000,  0.0000, -0.1000],\n",
       "        [-0.1000, -0.1000,  0.0000, -0.1000],\n",
       "        [ 0.0000,  0.0000,  0.0000, -0.1000],\n",
       "        [-0.1000, -0.1000,  0.0000, -0.1000],\n",
       "        [-0.1000, -0.1000, -0.1000, -0.1000],\n",
       "        [ 0.0000, -0.1000,  0.0000, -0.1000],\n",
       "        [-0.1000, -0.1000, -0.1000, -0.1000],\n",
       "        [ 0.0000, -0.1000,  0.0000, -0.1000],\n",
       "        [-0.1000,  0.0000,  0.0000, -0.1000],\n",
       "        [ 0.0000, -0.1000,  0.0000,  0.0000],\n",
       "        [ 0.0000, -0.1000,  0.0000,  0.0000],\n",
       "        [ 0.0000, -0.1000,  0.0000,  0.0000],\n",
       "        [ 0.0000, -0.1000,  0.0000, -0.1000],\n",
       "        [ 0.0000,  0.0000,  0.0000, -0.1000],\n",
       "        [ 0.0000, -0.1000, -0.1000, -0.1000],\n",
       "        [ 0.0000, -0.1000,  0.0000,  0.0000],\n",
       "        [-0.1000, -0.1000, -0.1000, -0.1000],\n",
       "        [ 0.0000, -0.1000,  0.0000, -0.1000],\n",
       "        [ 0.0000,  0.0000,  0.0000, -0.1000],\n",
       "        [ 0.0000, -0.1000,  0.0000,  0.0000],\n",
       "        [-0.1000, -0.1000,  0.0000, -0.1000],\n",
       "        [ 0.0000, -0.1000,  0.0000, -0.1000],\n",
       "        [-0.1000, -0.1000,  0.0000,  0.0000],\n",
       "        [ 0.0000, -0.1000,  0.0000, -0.1000],\n",
       "        [ 0.0000, -0.1000,  0.0000, -0.1000],\n",
       "        [ 0.0000,  0.0000,  0.0000, -0.1000],\n",
       "        [-0.1000, -0.1000,  0.0000, -0.1000],\n",
       "        [ 0.0000,  0.0000,  0.0000, -0.1000],\n",
       "        [ 0.0000,  0.0000, -0.1000, -0.1000],\n",
       "        [-0.1000,  0.0000,  0.0000,  0.0000],\n",
       "        [ 0.0000, -0.1000,  0.0000, -0.1000],\n",
       "        [ 0.0000, -0.1000,  0.0000, -0.1000],\n",
       "        [ 0.0000, -0.1000,  0.0000,  0.0000],\n",
       "        [ 0.0000,  0.0000,  0.0000, -0.1000],\n",
       "        [ 0.0000,  0.0000,  0.0000, -0.1000],\n",
       "        [ 0.0000,  0.0000,  0.0000, -0.1000],\n",
       "        [ 0.0000,  0.0000,  0.0000, -0.1000],\n",
       "        [ 0.0000, -0.1000,  0.0000, -0.1000],\n",
       "        [-0.1000, -0.1000,  0.0000,  0.0000],\n",
       "        [-0.1000, -0.1000, -0.1000, -0.1000],\n",
       "        [ 0.0000, -0.1000,  0.0000, -0.1000],\n",
       "        [ 0.0000, -0.1000,  0.0000, -0.1000],\n",
       "        [ 0.0000, -0.1000,  0.0000, -0.1000],\n",
       "        [-0.1000, -0.1000, -0.1000, -0.1000],\n",
       "        [ 0.0000, -0.1000,  0.0000,  0.0000],\n",
       "        [-0.1000, -0.1000, -0.1000, -0.1000],\n",
       "        [ 0.0000,  0.0000,  0.0000, -0.1000],\n",
       "        [ 0.0000, -0.1000,  0.0000, -0.1000],\n",
       "        [ 0.0000, -0.1000, -0.1000, -0.1000],\n",
       "        [ 0.0000, -0.1000,  0.0000, -0.1000],\n",
       "        [-0.1000, -0.1000,  0.0000,  0.0000],\n",
       "        [-0.1000, -0.1000,  0.0000, -0.1000],\n",
       "        [-0.1000, -0.1000,  0.0000, -0.1000],\n",
       "        [ 0.0000,  0.0000,  0.0000, -0.1000],\n",
       "        [ 0.0000, -0.1000,  0.0000, -0.1000],\n",
       "        [ 0.0000, -0.1000,  0.0000, -0.1000],\n",
       "        [ 0.0000, -0.1000, -0.1000, -0.1000],\n",
       "        [ 0.0000, -0.1000,  0.0000,  0.0000],\n",
       "        [-0.1000, -0.1000, -0.1000, -0.1000],\n",
       "        [ 0.0000, -0.1000,  0.0000, -0.1000],\n",
       "        [-0.1000,  0.0000,  0.0000, -0.1000],\n",
       "        [ 0.0000, -0.1000,  0.0000, -0.1000],\n",
       "        [ 0.0000, -0.1000,  0.0000, -0.1000],\n",
       "        [-0.1000, -0.1000,  0.0000, -0.1000],\n",
       "        [ 0.0000, -0.1000,  0.0000, -0.1000],\n",
       "        [-0.1000, -0.1000,  0.0000, -0.1000],\n",
       "        [ 0.0000, -0.1000,  0.0000, -0.1000],\n",
       "        [-0.1000, -0.1000, -0.1000, -0.1000],\n",
       "        [ 0.0000, -0.1000,  0.0000, -0.1000],\n",
       "        [-0.1000,  0.0000,  0.0000,  0.0000],\n",
       "        [-0.1000, -0.1000,  0.0000, -0.1000],\n",
       "        [ 0.0000,  0.0000,  0.0000, -0.1000],\n",
       "        [-0.1000,  0.0000,  0.0000, -0.1000],\n",
       "        [ 0.0000, -0.1000,  0.0000,  0.0000],\n",
       "        [ 0.0000, -0.1000,  0.0000,  0.0000],\n",
       "        [ 0.0000, -0.1000,  0.0000, -0.1000],\n",
       "        [ 0.0000, -0.1000,  0.0000,  0.0000],\n",
       "        [-0.1000, -0.1000,  0.0000, -0.1000],\n",
       "        [-0.1000, -0.1000,  0.0000, -0.1000],\n",
       "        [ 0.0000, -0.1000,  0.0000, -0.1000],\n",
       "        [ 0.0000,  0.0000,  0.0000, -0.1000],\n",
       "        [ 0.0000, -0.1000,  0.0000, -0.1000],\n",
       "        [-0.1000, -0.1000,  0.0000, -0.1000],\n",
       "        [ 0.0000, -0.1000,  0.0000, -0.1000],\n",
       "        [ 0.0000,  0.0000,  0.0000, -0.1000],\n",
       "        [ 0.0000, -0.1000,  0.0000, -0.1000],\n",
       "        [ 0.0000, -0.1000,  0.0000,  0.0000],\n",
       "        [ 0.0000, -0.1000,  0.0000, -0.1000],\n",
       "        [ 0.0000,  0.0000,  0.0000, -0.1000],\n",
       "        [ 0.0000, -0.1000,  0.0000,  0.0000],\n",
       "        [-0.1000, -0.1000,  0.0000,  0.0000],\n",
       "        [ 0.0000, -0.1000, -0.1000, -0.1000],\n",
       "        [ 0.0000, -0.1000,  0.0000,  0.0000],\n",
       "        [ 0.0000, -0.1000,  0.0000,  0.0000],\n",
       "        [ 0.0000, -0.1000,  0.0000, -0.1000],\n",
       "        [ 0.0000,  0.0000,  0.0000, -0.1000],\n",
       "        [ 0.0000, -0.1000,  0.0000,  0.0000],\n",
       "        [ 0.0000,  0.0000,  0.0000, -0.1000],\n",
       "        [ 0.0000, -0.1000,  0.0000,  0.0000],\n",
       "        [-0.1000,  0.0000,  0.0000,  0.0000],\n",
       "        [ 0.0000, -0.1000,  0.0000, -0.1000],\n",
       "        [ 0.0000, -0.1000,  0.0000,  0.0000],\n",
       "        [ 0.0000, -0.1000,  0.0000,  0.0000],\n",
       "        [-0.1000, -0.1000, -0.1000, -0.1000],\n",
       "        [ 0.0000, -0.1000,  0.0000,  0.0000],\n",
       "        [-0.1000, -0.1000, -0.1000, -0.1000],\n",
       "        [-0.1000, -0.1000, -0.1000, -0.1000],\n",
       "        [-0.1000, -0.1000, -0.1000, -0.1000],\n",
       "        [ 0.0000, -0.1000,  0.0000, -0.1000],\n",
       "        [ 0.0000, -0.1000,  0.0000, -0.1000],\n",
       "        [ 0.0000, -0.1000,  0.0000, -0.1000],\n",
       "        [ 0.0000, -0.1000,  0.0000, -0.1000],\n",
       "        [ 0.0000, -0.1000,  0.0000,  0.0000],\n",
       "        [ 0.0000, -0.1000,  0.0000, -0.1000],\n",
       "        [ 0.0000, -0.1000,  0.0000, -0.1000],\n",
       "        [-0.1000,  0.0000,  0.0000,  0.0000],\n",
       "        [ 0.0000, -0.1000,  0.0000,  0.0000],\n",
       "        [-0.1000,  0.0000,  0.0000,  0.0000],\n",
       "        [ 0.0000,  0.0000,  0.0000, -0.1000],\n",
       "        [ 0.0000,  0.0000,  0.0000, -0.1000],\n",
       "        [ 0.0000, -0.1000,  0.0000,  0.0000],\n",
       "        [ 0.0000, -0.1000,  0.0000, -0.1000],\n",
       "        [ 0.0000,  0.0000,  0.0000, -0.1000],\n",
       "        [-0.1000, -0.1000, -0.1000, -0.1000],\n",
       "        [ 0.0000, -0.1000,  0.0000, -0.1000],\n",
       "        [-0.1000, -0.1000, -0.1000, -0.1153],\n",
       "        [-0.1000, -0.1750, -0.1000, -0.1000],\n",
       "        [ 0.0000, -0.1000,  0.0000,  0.0000],\n",
       "        [-0.1000, -0.1000, -0.1000, -0.1000],\n",
       "        [-0.1000, -0.1000, -0.1000, -0.1000],\n",
       "        [-0.1000, -0.1000, -0.1000, -0.2552],\n",
       "        [-0.1000, -0.3348, -0.1000, -0.3531],\n",
       "        [ 0.0000, -0.1000,  0.0000, -0.1000],\n",
       "        [-0.1000, -0.1000, -0.1000, -0.1000],\n",
       "        [-0.1000, -0.1000,  0.0000, -0.1000],\n",
       "        [ 0.0000, -0.1000, -0.1000, -0.1000],\n",
       "        [ 0.0000,  0.0000,  0.0000, -0.1000],\n",
       "        [ 0.0000, -0.1000,  0.0000,  0.0000],\n",
       "        [ 0.0000, -0.1000, -0.1000,  0.0000],\n",
       "        [-0.1000, -0.1000, -0.1000, -0.1000],\n",
       "        [ 0.0000, -0.1000,  0.0000,  0.0000],\n",
       "        [ 0.0000,  0.0000,  0.0000, -0.1000],\n",
       "        [-0.1000, -0.1000, -0.1000, -0.1000],\n",
       "        [ 0.0000,  0.0000,  0.0000, -0.1000],\n",
       "        [-0.1000,  0.0000,  0.0000,  0.0000],\n",
       "        [-0.1000, -0.1000, -0.1000, -0.1000],\n",
       "        [ 0.0000, -0.1000, -0.1000, -0.1000],\n",
       "        [-0.1000, -0.1000, -0.1000, -0.1000],\n",
       "        [ 0.0000, -0.1000,  0.0000,  0.0000],\n",
       "        [ 0.0000, -0.1000,  0.0000,  0.0000],\n",
       "        [ 0.0000, -0.1000,  0.0000, -0.1000],\n",
       "        [ 0.0000, -0.1000,  0.0000,  0.0000],\n",
       "        [-0.1000, -0.1000,  0.0000,  0.0000],\n",
       "        [ 0.0000, -0.1000,  0.0000, -0.1000],\n",
       "        [ 0.0000,  0.0000,  0.0000, -0.1000],\n",
       "        [-0.1000, -0.1000,  0.0000,  0.0000],\n",
       "        [ 0.0000,  0.0000,  0.0000, -0.1000],\n",
       "        [-0.1000, -0.1000,  0.0000, -0.1000],\n",
       "        [ 0.0000,  0.0000,  0.0000, -0.1000],\n",
       "        [-0.1000, -0.1000,  0.0000, -0.1000],\n",
       "        [-0.1000,  0.0000,  0.0000,  0.0000],\n",
       "        [ 0.0000, -0.1000,  0.0000, -0.1000],\n",
       "        [ 0.0000, -0.1000,  0.0000,  0.0000],\n",
       "        [ 0.0000, -0.1000,  0.0000, -0.1000],\n",
       "        [ 0.0000, -0.1000,  0.0000, -0.1000],\n",
       "        [ 0.0000, -0.1000,  0.0000, -0.1000],\n",
       "        [ 0.0000, -0.1000,  0.0000,  0.0000],\n",
       "        [ 0.0000,  0.0000,  0.0000, -0.1000],\n",
       "        [ 0.0000, -0.1000,  0.0000, -0.1000],\n",
       "        [ 0.0000, -0.1000,  0.0000,  0.0000],\n",
       "        [ 0.0000, -0.1000,  0.0000,  0.0000],\n",
       "        [ 0.0000, -0.1000,  0.0000, -0.1000],\n",
       "        [-0.1000, -0.1000,  0.0000,  0.0000],\n",
       "        [ 0.0000, -0.1000,  0.0000,  0.0000],\n",
       "        [-0.1000, -0.1000,  0.0000,  0.0000],\n",
       "        [ 0.0000,  0.0000,  0.0000, -0.1000],\n",
       "        [ 0.0000, -0.1000,  0.0000,  0.0000],\n",
       "        [ 0.0000, -0.1000,  0.0000,  0.0000],\n",
       "        [ 0.0000,  0.0000,  0.0000, -0.1000],\n",
       "        [ 0.0000, -0.1000,  0.0000,  0.0000],\n",
       "        [ 0.0000, -0.1000,  0.0000,  0.0000],\n",
       "        [ 0.0000, -0.1000,  0.0000, -0.1000],\n",
       "        [ 0.0000,  0.0000,  0.0000, -0.1000],\n",
       "        [ 0.0000,  0.0000,  0.0000,  2.4250],\n",
       "        [ 0.0000, 10.0000,  0.0000,  0.0000],\n",
       "        [ 0.0000, -0.1000,  0.0000,  0.0000],\n",
       "        [ 0.0000, -0.1000, -0.1000, -0.1000],\n",
       "        [-0.1000, -0.1000,  0.0000, -0.1000],\n",
       "        [-0.1000, -0.1000, -0.1000, -0.1000],\n",
       "        [ 0.0000, -0.1000, -0.1000, -0.1000],\n",
       "        [-0.1000, -0.1000,  0.0000, -0.1000],\n",
       "        [-0.1000, -0.1000,  0.0000, -0.1000],\n",
       "        [ 0.0000,  0.0000,  0.0000, -0.1000],\n",
       "        [ 0.0000,  0.0000,  0.0000,  0.0000]])"
      ]
     },
     "execution_count": 23,
     "metadata": {},
     "output_type": "execute_result"
    }
   ],
   "source": [
    "mdp.rewards.get_reward_function()"
   ]
  },
  {
   "cell_type": "code",
   "execution_count": 24,
   "metadata": {},
   "outputs": [],
   "source": [
    "# [v for v in mdp.transition_model.get_transition_functions()[0].transitions.values() if 'terminal' in v.keys()]"
   ]
  },
  {
   "cell_type": "code",
   "execution_count": 25,
   "metadata": {},
   "outputs": [
    {
     "name": "stderr",
     "output_type": "stream",
     "text": [
      "/Users/nicholasfranklin/Projects/StateInference/model/agents/utils/tabular_agent_pytorch.py:124: UserWarning: To copy construct from a tensor, it is recommended to use sourceTensor.clone().detach() or sourceTensor.clone().detach().requires_grad_(True), rather than torch.tensor(sourceTensor).\n",
      "  adjacency_matrix = torch.tensor(transition_function.sum(dim=1) > 0, dtype=torch.float32)\n"
     ]
    },
    {
     "data": {
      "text/plain": [
       "torch.Size([193, 193])"
      ]
     },
     "execution_count": 25,
     "metadata": {},
     "output_type": "execute_result"
    }
   ],
   "source": [
    "Laplacian = mdp.get_graph_laplacian()\n",
    "Laplacian.shape"
   ]
  },
  {
   "cell_type": "code",
   "execution_count": 26,
   "metadata": {},
   "outputs": [
    {
     "data": {
      "text/plain": [
       "tensor([[4.0000, 2.8284, 0.0000,  ..., 0.0000, 0.0000, 0.0000],\n",
       "        [0.0000, 2.0000, 0.0000,  ..., 0.0000, 0.0000, 0.0000],\n",
       "        [0.0000, 0.0000, 0.0000,  ..., 0.0000, 0.0000, 0.0000],\n",
       "        ...,\n",
       "        [0.0000, 0.0000, 0.0000,  ..., 3.0000, 3.4641, 1.7321],\n",
       "        [0.0000, 0.0000, 0.0000,  ..., 3.4641, 4.0000, 0.0000],\n",
       "        [0.0000, 0.0000, 0.0000,  ..., 0.0000, 0.0000, 0.0000]])"
      ]
     },
     "execution_count": 26,
     "metadata": {},
     "output_type": "execute_result"
    }
   ],
   "source": [
    "Laplacian"
   ]
  },
  {
   "cell_type": "code",
   "execution_count": 27,
   "metadata": {},
   "outputs": [
    {
     "data": {
      "image/png": "[encoded data removed]",
      "text/plain": [
       "<Figure size 640x480 with 1 Axes>"
      ]
     },
     "metadata": {},
     "output_type": "display_data"
    }
   ],
   "source": [
    "# convert the laplacian into a graph\n",
    "edges = np.argwhere(Laplacian.numpy())\n",
    "edges = [(i, j) for i, j in edges if i != j]  # remove self-edges\n",
    "\n",
    "G = nx.Graph()\n",
    "G.add_edges_from(edges)\n",
    "nx.draw_networkx(G, with_labels=False, node_size=5)"
   ]
  },
  {
   "cell_type": "code",
   "execution_count": 28,
   "metadata": {},
   "outputs": [
    {
     "data": {
      "text/plain": [
       "torch.Size([193, 193])"
      ]
     },
     "execution_count": 28,
     "metadata": {},
     "output_type": "execute_result"
    }
   ],
   "source": [
    "Laplacian.shape"
   ]
  },
  {
   "cell_type": "code",
   "execution_count": 29,
   "metadata": {},
   "outputs": [
    {
     "data": {
      "text/plain": [
       "torch.Size([194])"
      ]
     },
     "execution_count": 29,
     "metadata": {},
     "output_type": "execute_result"
    }
   ],
   "source": [
    "v.shape"
   ]
  },
  {
   "cell_type": "code",
   "execution_count": 30,
   "metadata": {},
   "outputs": [],
   "source": [
    "v_min, v_max = v.min(), v.max()\n",
    "v_normed = (v - v_min) / (v_max - v_min)"
   ]
  },
  {
   "cell_type": "code",
   "execution_count": 31,
   "metadata": {},
   "outputs": [],
   "source": [
    "# # agent.get_state_values(state_key)\n",
    "# node_values = {state_key.get(i, -1): v for i, v in v.items()}\n",
    "# # node_values.pop(-1)\n",
    "\n",
    "# # normalize the node_values\n",
    "# v_max = max([v for v in node_values.values()])\n",
    "# v_min = min([v for v in node_values.values()])\n",
    "# f = lambda v: (v - v_min) / (v_max - v_min)\n",
    "# normed_node_values = {k: f(v) for k, v in node_values.items()}"
   ]
  },
  {
   "cell_type": "code",
   "execution_count": 32,
   "metadata": {},
   "outputs": [],
   "source": [
    "# max([v for k, v in normed_node_values.items()])"
   ]
  },
  {
   "cell_type": "markdown",
   "metadata": {},
   "source": []
  },
  {
   "cell_type": "code",
   "execution_count": 33,
   "metadata": {},
   "outputs": [
    {
     "data": {
      "image/png": "[encoded data removed]",
      "text/plain": [
       "<Figure size 640x480 with 1 Axes>"
      ]
     },
     "metadata": {},
     "output_type": "display_data"
    }
   ],
   "source": [
    "# convert the laplacian into a graph\n",
    "edges = np.argwhere(Laplacian.numpy())\n",
    "edges = [(i, j) for i, j in edges if i != j]  # remove self-edges\n",
    "\n",
    "G = nx.Graph()\n",
    "G.add_edges_from(edges)\n",
    "\n",
    "# color = [node_values.get(i, 0) for i in G.nodes]\n",
    "# size = [node_values.get(i, 0) for i in G.nodes]\n",
    "color = [v[g] for g in G.nodes]\n",
    "size = [v_normed[g] * 25 for g in G.nodes]\n",
    "nx.draw_networkx(G, with_labels=False, node_size=size, node_color=color, cmap=\"viridis\")\n",
    "\n"
   ]
  },
  {
   "cell_type": "code",
   "execution_count": 34,
   "metadata": {},
   "outputs": [
    {
     "name": "stderr",
     "output_type": "stream",
     "text": [
      "/Users/nicholasfranklin/miniconda3/envs/state_inference/lib/python3.10/site-packages/seaborn/_oldcore.py:1498: DeprecationWarning: is_categorical_dtype is deprecated and will be removed in a future version. Use isinstance(dtype, pd.CategoricalDtype) instead\n",
      "  if pd.api.types.is_categorical_dtype(vector):\n",
      "/Users/nicholasfranklin/miniconda3/envs/state_inference/lib/python3.10/site-packages/seaborn/_oldcore.py:1119: FutureWarning: use_inf_as_na option is deprecated and will be removed in a future version. Convert inf values to NaN before operating instead.\n",
      "  with pd.option_context('mode.use_inf_as_na', True):\n"
     ]
    },
    {
     "data": {
      "text/plain": [
       "<seaborn.axisgrid.FacetGrid at 0x31c3140a0>"
      ]
     },
     "execution_count": 34,
     "metadata": {},
     "output_type": "execute_result"
    },
    {
     "data": {
      "image/png": "[encoded data removed]",
      "text/plain": [
       "<Figure size 500x500 with 1 Axes>"
      ]
     },
     "metadata": {},
     "output_type": "display_data"
    }
   ],
   "source": [
    "sns.displot(v)"
   ]
  },
  {
   "cell_type": "code",
   "execution_count": 36,
   "metadata": {},
   "outputs": [
    {
     "ename": "AttributeError",
     "evalue": "'DiscretePpo' object has no attribute 'state_inference_model'",
     "output_type": "error",
     "traceback": [
      "\u001b[0;31m---------------------------------------------------------------------------\u001b[0m",
      "\u001b[0;31mAttributeError\u001b[0m                            Traceback (most recent call last)",
      "Cell \u001b[0;32mIn[36], line 1\u001b[0m\n\u001b[0;32m----> 1\u001b[0m vae_model \u001b[38;5;241m=\u001b[39m \u001b[43magent\u001b[49m\u001b[38;5;241;43m.\u001b[39;49m\u001b[43mstate_inference_model\u001b[49m\n\u001b[1;32m      3\u001b[0m \u001b[38;5;28;01mimport\u001b[39;00m \u001b[38;5;21;01mtorch\u001b[39;00m\u001b[38;5;21;01m.\u001b[39;00m\u001b[38;5;21;01mnn\u001b[39;00m\u001b[38;5;21;01m.\u001b[39;00m\u001b[38;5;21;01mfunctional\u001b[39;00m \u001b[38;5;28;01mas\u001b[39;00m \u001b[38;5;21;01mF\u001b[39;00m\n\u001b[1;32m      5\u001b[0m \u001b[38;5;66;03m# Sample generatively\u001b[39;00m\n",
      "\u001b[0;31mAttributeError\u001b[0m: 'DiscretePpo' object has no attribute 'state_inference_model'"
     ]
    }
   ],
   "source": [
    "vae_model = agent.state_inference_model\n",
    "\n",
    "import torch.nn.functional as F\n",
    "\n",
    "# Sample generatively\n",
    "\n",
    "z_layers = vae_config[\"vae_kwargs\"][\"z_layers\"]\n",
    "z_dim = vae_config[\"vae_kwargs\"][\"z_dim\"]\n",
    "\n",
    "N = 4\n",
    "\n",
    "\n",
    "def sample_random_state():\n",
    "    z = torch.randint(high=z_dim, size=tuple([z_layers]))\n",
    "    return F.one_hot(z, num_classes=z_dim).to(DEVICE)\n",
    "\n",
    "\n",
    "fig, axes = plt.subplots(N, N, figsize=(9, 9))\n",
    "\n",
    "vae_model.eval()\n",
    "for t in range(N**2):\n",
    "    with torch.no_grad():\n",
    "        z = sample_random_state()\n",
    "    X_hat = vae_model.decode(z).detach().cpu()\n",
    "\n",
    "    r, c = t // N, t % N\n",
    "    plt.sca(axes[r][c])\n",
    "    plt.imshow(convert_float_to_8bit(X_hat.squeeze()))\n",
    "    plt.axis(\"off\")\n",
    "\n",
    "plt.show()"
   ]
  },
  {
   "cell_type": "code",
   "execution_count": null,
   "metadata": {
    "id": "_DoORPwACiXS"
   },
   "outputs": [],
   "source": [
    "\n",
    "pmf = agent.get_policy_prob(agent.get_env(), n_states=env_kwargs[\"n_states\"], map_height=env_kwargs[\"map_height\"], cnn=True)\n",
    "pmf"
   ]
  },
  {
   "cell_type": "code",
   "execution_count": null,
   "metadata": {
    "id": "A9ZN0N0v87kF"
   },
   "outputs": [],
   "source": [
    "# sorted(list(agent.value_function.values()))"
   ]
  },
  {
   "cell_type": "code",
   "execution_count": null,
   "metadata": {
    "id": "fXiMheY5CiXS"
   },
   "outputs": [],
   "source": [
    "import seaborn as sns\n",
    "\n",
    "fig, axes = plt.subplots(2, 2)\n",
    "h, w = env_kwargs[\"height\"], env_kwargs[\"width\"]\n",
    "\n",
    "axes[0][0].imshow(pmf[:, 0].reshape(h, w))\n",
    "axes[0][1].imshow(pmf[:, 1].reshape(h, w))\n",
    "axes[1][0].imshow(pmf[:, 2].reshape(h, w))\n",
    "axes[1][1].imshow(pmf[:, 3].reshape(h, w))\n",
    "\n",
    "\n",
    "axes[0][0].set_title(\"up\")\n",
    "axes[0][1].set_title(\"down\")\n",
    "axes[1][0].set_title(\"left\")\n",
    "axes[1][1].set_title(\"right\")\n",
    "\n",
    "plt.subplots_adjust(hspace=0.3, wspace=-0.3)\n",
    "\n",
    "plt.suptitle(\"Discrete PPO Agent Learned Policy\")"
   ]
  },
  {
   "cell_type": "code",
   "execution_count": null,
   "metadata": {},
   "outputs": [],
   "source": [
    "import seaborn as sns\n",
    "\n",
    "fig, axes = plt.subplots(2, 2)\n",
    "h, w = env_kwargs[\"height\"], env_kwargs[\"width\"]\n",
    "\n",
    "axes[0][0].imshow(pi[:, 0].reshape(h, w))\n",
    "axes[0][1].imshow(pi[:, 1].reshape(h, w))\n",
    "axes[1][0].imshow(pi[:, 2].reshape(h, w))\n",
    "axes[1][1].imshow(pi[:, 3].reshape(h, w))\n",
    "\n",
    "\n",
    "axes[0][0].set_title(\"up\")\n",
    "axes[0][1].set_title(\"down\")\n",
    "axes[1][0].set_title(\"left\")\n",
    "axes[1][1].set_title(\"right\")\n",
    "\n",
    "plt.subplots_adjust(hspace=0.3, wspace=-0.3)\n",
    "\n",
    "plt.suptitle(\"Optimal policy\")"
   ]
  },
  {
   "cell_type": "code",
   "execution_count": null,
   "metadata": {
    "id": "IOdHTncFCiXS"
   },
   "outputs": [],
   "source": [
    "np.sum(pi * pmf, axis=1).mean()"
   ]
  },
  {
   "cell_type": "code",
   "execution_count": null,
   "metadata": {
    "id": "tDWbaK8TCiXS"
   },
   "outputs": [],
   "source": [
    "room_1_mask = (np.arange(400) < 200) * (np.arange(400) % 20 < 10)\n",
    "room_2_mask = (np.arange(400) >= 200) * (np.arange(400) % 20 < 10)\n",
    "room_3_mask = np.arange(400) % 20 >= 10\n",
    "\n",
    "score_room_1 = np.sum(pi[room_1_mask] * pmf[room_1_mask], axis=1).mean()\n",
    "score_room_2 = np.sum(pi[room_2_mask] * pmf[room_2_mask], axis=1).mean()\n",
    "score_room_3 = np.sum(pi[room_3_mask] * pmf[room_3_mask], axis=1).mean()\n",
    "plt.bar([0, 1, 2], [score_room_1, score_room_2, score_room_3])\n",
    "plt.xticks([0, 1, 2], [\"Room 1\", \"Room 2\", \"Room 3\"])\n",
    "plt.ylim(0, 1)\n",
    "\n",
    "sns.despine()"
   ]
  },
  {
   "cell_type": "code",
   "execution_count": null,
   "metadata": {},
   "outputs": [],
   "source": [
    "raise Exception()"
   ]
  },
  {
   "cell_type": "code",
   "execution_count": null,
   "metadata": {
    "id": "0VGwADB2CiXS"
   },
   "outputs": [],
   "source": [
    "from utils.pytorch_utils import make_tensor, convert_8bit_to_float\n",
    "from sklearn.metrics import pairwise_distances\n",
    "\n",
    "obs = convert_8bit_to_float(\n",
    "    torch.stack(\n",
    "        [\n",
    "            make_tensor(task.observation_model(s))\n",
    "            for s in range(task.transition_model.n_states)\n",
    "            for _ in range(1)\n",
    "        ]\n",
    "    )\n",
    ")[:, None, ...].to(DEVICE)\n",
    "z = agent.state_inference_model.get_state(obs)\n",
    "\n",
    "hash_vector = np.array(\n",
    "    [\n",
    "        agent.state_inference_model.z_dim**ii\n",
    "        for ii in range(agent.state_inference_model.z_layers)\n",
    "    ]\n",
    ")\n",
    "\n",
    "z = z.dot(hash_vector)\n",
    "d = pairwise_distances(z.reshape(-1, 1), metric=lambda x, y: x == y)\n",
    "plt.imshow(1 - d)"
   ]
  },
  {
   "cell_type": "code",
   "execution_count": null,
   "metadata": {
    "id": "37Utcb05CiXT"
   },
   "outputs": [],
   "source": [
    "# plot the overlap of different states\n",
    "# number the states and plot them\n",
    "clusters = {}\n",
    "k = 0\n",
    "for z0 in sorted(z):\n",
    "    if z0 not in clusters.keys():\n",
    "        clusters[z0] = k\n",
    "        k += 1\n",
    "clustered_states = np.array([clusters[z0] for z0 in z])\n",
    "plt.imshow(clustered_states.reshape(-1, 20))\n",
    "task.display_gridworld(plt.gca(), wall_color=\"w\")"
   ]
  },
  {
   "cell_type": "code",
   "execution_count": null,
   "metadata": {
    "id": "0fPoGEdJCiXT"
   },
   "outputs": [],
   "source": [
    "euc = pairwise_distances(\n",
    "    [(x, y) for x in range(20) for y in range(20)],\n",
    "    # metric=lambda x, y: np.sqrt((x[0] - y[0]) ** 2 + (x[1] - y[1]) ** 2),\n",
    "    metric=lambda x, y: np.abs(x[0] - y[0]) + np.abs(x[1] - y[1]),\n",
    ")\n",
    "\n",
    "d_w_wall = np.mean([d[s1][s2] for s1, s2 in task.transition_model.walls])\n",
    "print(f\"Distance between neighboring states sepearted by a wall     {d_w_wall}\")\n",
    "\n",
    "\n",
    "wall_mask = np.zeros((task.n_states, task.n_states))\n",
    "for s0, s1 in task.transition_model.walls:\n",
    "    wall_mask[s0][s1] = 1.0\n",
    "    wall_mask[s1][s0] = 1.0\n",
    "\n",
    "\n",
    "d_wo_wall = d.reshape(-1)[(wall_mask.reshape(-1) == 0) & (euc.reshape(-1) == 1)].mean()\n",
    "print(f\"Distance between neighboring states NOT sepearted by a wall {d_wo_wall}\")"
   ]
  },
  {
   "cell_type": "code",
   "execution_count": null,
   "metadata": {
    "id": "nGaOqXE9CiXT"
   },
   "outputs": [],
   "source": [
    "# agent._estimate_reward_model()\n",
    "\n",
    "rews = np.array([agent.reward_estimator.get_avg_reward(z0) for z0 in z]).reshape(20, 20)\n",
    "plt.imshow(rews)"
   ]
  },
  {
   "cell_type": "code",
   "execution_count": null,
   "metadata": {
    "id": "vet80FEzCiXT"
   },
   "outputs": [],
   "source": []
  },
  {
   "cell_type": "code",
   "execution_count": null,
   "metadata": {
    "id": "VuuFGzi2CiXT"
   },
   "outputs": [],
   "source": [
    "obs = convert_8bit_to_float(\n",
    "    torch.stack(\n",
    "        [\n",
    "            make_tensor(task.observation_model(s))\n",
    "            for s in range(task.transition_model.n_states)\n",
    "            for _ in range(1)\n",
    "        ]\n",
    "    )\n",
    ")[:, None, ...].to(DEVICE)\n",
    "z = agent.state_inference_model.get_state(obs)\n",
    "\n",
    "hash_vector = np.array(\n",
    "    [\n",
    "        agent.state_inference_model.z_dim**ii\n",
    "        for ii in range(agent.state_inference_model.z_layers)\n",
    "    ]\n",
    ")\n",
    "\n",
    "z = z.dot(hash_vector)\n",
    "\n",
    "rews = np.array([agent.reward_estimator.get_avg_reward(z0) for z0 in z]).reshape(20, 20)\n",
    "plt.imshow(rews)"
   ]
  },
  {
   "cell_type": "code",
   "execution_count": null,
   "metadata": {
    "id": "WQ8VNDjACiXT"
   },
   "outputs": [],
   "source": [
    "def get_value_function(model, task):\n",
    "    obs = convert_8bit_to_float(\n",
    "        torch.stack(\n",
    "            [\n",
    "                make_tensor(task.observation_model(s))\n",
    "                for s in range(task.transition_model.n_states)\n",
    "                for _ in range(1)\n",
    "            ]\n",
    "        )\n",
    "    )[:, None, ...].to(DEVICE)\n",
    "    z = model.state_inference_model.get_state(obs)\n",
    "\n",
    "    hash_vector = np.array(\n",
    "        [\n",
    "            model.state_inference_model.z_dim**ii\n",
    "            for ii in range(agent.state_inference_model.z_layers)\n",
    "        ]\n",
    "    )\n",
    "\n",
    "    z = z.dot(hash_vector)\n",
    "\n",
    "    value_function = np.array(\n",
    "        [agent.value_function.get(z0, np.nan) for z0 in z]\n",
    "    ).reshape(20, 20)\n",
    "    return value_function\n",
    "\n",
    "\n",
    "v = get_value_function(agent, task)\n",
    "plt.imshow(v)\n",
    "task.display_gridworld(plt.gca(), wall_color=\"w\", annotate=True)\n",
    "plt.title(\"Learned Value function\")"
   ]
  },
  {
   "cell_type": "code",
   "execution_count": null,
   "metadata": {
    "id": "miK3Yk9SCiXU"
   },
   "outputs": [],
   "source": [
    "plt.plot(v[5] - np.nanmin(v))"
   ]
  },
  {
   "cell_type": "code",
   "execution_count": null,
   "metadata": {},
   "outputs": [],
   "source": [
    "raise Exception(\"Stop here\")"
   ]
  },
  {
   "cell_type": "code",
   "execution_count": null,
   "metadata": {
    "id": "UuVki8C5CiXU"
   },
   "outputs": [],
   "source": [
    "from tqdm import trange\n",
    "\n",
    "\n",
    "## Repeat with iterations\n",
    "n_models = 8\n",
    "# n_models=4\n",
    "\n",
    "\n",
    "room_1_mask = (np.arange(400) < 200) * (np.arange(400) % 20 < 10)\n",
    "room_2_mask = (np.arange(400) >= 200) * (np.arange(400) % 20 < 10)\n",
    "room_3_mask = np.arange(400) % 20 >= 10\n",
    "\n",
    "\n",
    "scores = []\n",
    "value_functions = []\n",
    "\n",
    "\n",
    "for idx in trange(n_models):\n",
    "    agent = make_model()\n",
    "    agent.learn(total_timesteps=agent_config[\"n_train_steps\"], progress_bar=False)\n",
    "    #     agent.learn(total_timesteps=500, progress_bar=False)\n",
    "\n",
    "    pmf = get_policy_prob(\n",
    "        agent,\n",
    "        vae_get_pmf,\n",
    "        n_states=env_kwargs[\"n_states\"],\n",
    "        map_height=env_kwargs[\"map_height\"],\n",
    "        cnn=True,\n",
    "    )\n",
    "\n",
    "    score_room_1 = np.sum(pi[room_1_mask] * pmf[room_1_mask], axis=1).mean()\n",
    "    score_room_2 = np.sum(pi[room_2_mask] * pmf[room_2_mask], axis=1).mean()\n",
    "    score_room_3 = np.sum(pi[room_3_mask] * pmf[room_3_mask], axis=1).mean()\n",
    "\n",
    "    v = get_value_function(agent, task)\n",
    "\n",
    "    scores.append(\n",
    "        pd.DataFrame(\n",
    "            {\n",
    "                \"Iteration\": [idx] * 4,\n",
    "                \"Score\": [\n",
    "                    np.sum(pi * pmf, axis=1).mean(),\n",
    "                    score_room_1,\n",
    "                    score_room_2,\n",
    "                    score_room_3,\n",
    "                ],\n",
    "                \"Condition\": [\"Overall\", \"Room 1\", \"Room 2\", \"Room 3\"],\n",
    "            }\n",
    "        )\n",
    "    )\n",
    "\n",
    "    value_functions.append(\n",
    "        pd.DataFrame(\n",
    "            {\n",
    "                \"Iteration\": [idx] * task.n_states,\n",
    "                \"State-Values\": v.reshape(-1),\n",
    "                \"States\": np.arange(task.n_states),\n",
    "            }\n",
    "        )\n",
    "    )\n",
    "\n",
    "scores = pd.concat(scores)\n",
    "value_functions = pd.concat(value_functions)"
   ]
  },
  {
   "cell_type": "code",
   "execution_count": null,
   "metadata": {
    "id": "NY0NZDioCiXU"
   },
   "outputs": [],
   "source": [
    "# Plot the average value function (n)\n",
    "\n",
    "# normalize the value function between zero and one within each iteration\n",
    "from sklearn.preprocessing import MinMaxScaler\n",
    "\n",
    "\n",
    "def min_max_scale(grouped_data):\n",
    "    v = grouped_data[\"State-Values\"].values.reshape(-1, 1)\n",
    "    v = MinMaxScaler().fit_transform(grouped_data[\"State-Values\"].values.reshape(-1, 1))\n",
    "    grouped_data[\"State-Values\"] = v\n",
    "    return grouped_data.drop(\"Iteration\", axis=1)\n",
    "\n",
    "\n",
    "normed_vf = value_functions.groupby(\"Iteration\", group_keys=True).apply(min_max_scale)\n",
    "\n",
    "# average and plot\n",
    "plt.imshow(x.groupby(\"States\").mean().values.reshape(20, 20))\n",
    "task.display_gridworld(plt.gca(), wall_color=\"w\", annotate=True)\n",
    "plt.title(\"Learned Value function\")"
   ]
  },
  {
   "cell_type": "code",
   "execution_count": null,
   "metadata": {
    "id": "Wj_z0BzYCiXU"
   },
   "outputs": [],
   "source": [
    "# plot 1d Value function through the goal\n",
    "normed_vf[\"Row\"] = normed_vf[\"States\"] // 20\n",
    "normed_vf[\"Column\"] = normed_vf[\"States\"] % 20\n",
    "\n",
    "sns.relplot(\n",
    "    data=normed_vf[normed_vf[\"Row\"] == 4], x=\"Column\", y=\"State-Values\", kind=\"line\"\n",
    ")\n",
    "sns.relplot(\n",
    "    data=normed_vf[(normed_vf[\"Column\"] >= 9) & (normed_vf[\"Column\"] <= 10)],\n",
    "    x=\"Row\",\n",
    "    y=\"State-Values\",\n",
    "    kind=\"line\",\n",
    "    hue=\"Column\",\n",
    ")"
   ]
  },
  {
   "cell_type": "markdown",
   "metadata": {
    "id": "nLzKl0_kCiXU"
   },
   "source": [
    "plt.imshow(\n",
    "    value_functions.groupby(\"States\")[\"State-Values\"]\n",
    "    .apply(np.nanmean)\n",
    "    .values.reshape(20, 20)\n",
    ")\n",
    "value_functions.to_csv('value_functions_vae.csv')"
   ]
  },
  {
   "cell_type": "code",
   "execution_count": null,
   "metadata": {
    "id": "FPepkS2fCiXU"
   },
   "outputs": [],
   "source": [
    "sns.catplot(data=scores, y=\"Score\", x=\"Condition\", kind=\"bar\")"
   ]
  },
  {
   "cell_type": "code",
   "execution_count": null,
   "metadata": {
    "id": "Hp9hNe3UCiXU"
   },
   "outputs": [],
   "source": [
    "scores[\"Model\"] = \"Value Iteration\"\n",
    "scores.to_csv(SAVE_FILE_NAME)\n",
    "scores2 = pd.read_csv(\"sims_thread_the_needle.csv\")\n",
    "scores2[\"Model\"] = \"PPO\"\n",
    "scores3 = pd.read_csv(\"sims_thread_the_needle_state_inf.csv\")\n",
    "scores3[\"Model\"] = \"Value Iteration + action based decoder\"\n",
    "\n",
    "\n",
    "all_scores = pd.concat([scores, scores2, scores3])\n",
    "sns.catplot(\n",
    "    data=all_scores[all_scores[\"Condition\"] != \"Overall\"],\n",
    "    y=\"Score\",\n",
    "    x=\"Condition\",\n",
    "    kind=\"point\",\n",
    "    hue=\"Model\",\n",
    ")\n",
    "plt.gca().set_ylim([0, 1])"
   ]
  },
  {
   "cell_type": "code",
   "execution_count": null,
   "metadata": {
    "id": "ah_dtJRLCiXU"
   },
   "outputs": [],
   "source": [
    "sns.catplot(\n",
    "    data=all_scores[all_scores[\"Condition\"] == \"Overall\"],\n",
    "    y=\"Score\",\n",
    "    x=\"Model\",\n",
    "    kind=\"bar\",\n",
    ")\n",
    "plt.gca().set_ylim([0, 1])"
   ]
  },
  {
   "cell_type": "code",
   "execution_count": null,
   "metadata": {
    "id": "rtMee5jxCiXU"
   },
   "outputs": [],
   "source": []
  },
  {
   "cell_type": "code",
   "execution_count": null,
   "metadata": {},
   "outputs": [],
   "source": []
  }
 ],
 "metadata": {
  "colab": {
   "provenance": []
  },
  "kernelspec": {
   "display_name": "state_inference",
   "language": "python",
   "name": "python3"
  },
  "language_info": {
   "codemirror_mode": {
    "name": "ipython",
    "version": 3
   },
   "file_extension": ".py",
   "mimetype": "text/x-python",
   "name": "python",
   "nbconvert_exporter": "python",
   "pygments_lexer": "ipython3",
   "version": "3.10.13"
  },
  "widgets": {
   "application/vnd.jupyter.widget-state+json": {
    "1652455236434fd595f478f228333ade": {
     "model_module": "@jupyter-widgets/controls",
     "model_module_version": "1.5.0",
     "model_name": "HTMLModel",
     "state": {
      "_dom_classes": [],
      "_model_module": "@jupyter-widgets/controls",
      "_model_module_version": "1.5.0",
      "_model_name": "HTMLModel",
      "_view_count": null,
      "_view_module": "@jupyter-widgets/controls",
      "_view_module_version": "1.5.0",
      "_view_name": "HTMLView",
      "description": "",
      "description_tooltip": null,
      "layout": "IPY_MODEL_d1d32540b92e4e4584ac3aa628436021",
      "placeholder": "​",
      "style": "IPY_MODEL_ce22fd1425e34878b5bf57a180e6b68a",
      "value": "100%"
     }
    },
    "35db648b0ccf49a898f46c7002c182ff": {
     "model_module": "@jupyter-widgets/controls",
     "model_module_version": "1.5.0",
     "model_name": "HBoxModel",
     "state": {
      "_dom_classes": [],
      "_model_module": "@jupyter-widgets/controls",
      "_model_module_version": "1.5.0",
      "_model_name": "HBoxModel",
      "_view_count": null,
      "_view_module": "@jupyter-widgets/controls",
      "_view_module_version": "1.5.0",
      "_view_name": "HBoxView",
      "box_style": "",
      "children": [
       "IPY_MODEL_1652455236434fd595f478f228333ade",
       "IPY_MODEL_971b821eb13d4257a7c2ae73381df11e",
       "IPY_MODEL_b44689589e2b4f1dbb45f61c49d4062f"
      ],
      "layout": "IPY_MODEL_60ad1b1ffe8c47518fb905de5a2ba43b"
     }
    },
    "3a6976f1e97e4bfa9c820ae22c022177": {
     "model_module": "@jupyter-widgets/controls",
     "model_module_version": "1.5.0",
     "model_name": "DescriptionStyleModel",
     "state": {
      "_model_module": "@jupyter-widgets/controls",
      "_model_module_version": "1.5.0",
      "_model_name": "DescriptionStyleModel",
      "_view_count": null,
      "_view_module": "@jupyter-widgets/base",
      "_view_module_version": "1.2.0",
      "_view_name": "StyleView",
      "description_width": ""
     }
    },
    "532462010a464a408a44e376dbbd6ec2": {
     "model_module": "@jupyter-widgets/base",
     "model_module_version": "1.2.0",
     "model_name": "LayoutModel",
     "state": {
      "_model_module": "@jupyter-widgets/base",
      "_model_module_version": "1.2.0",
      "_model_name": "LayoutModel",
      "_view_count": null,
      "_view_module": "@jupyter-widgets/base",
      "_view_module_version": "1.2.0",
      "_view_name": "LayoutView",
      "align_content": null,
      "align_items": null,
      "align_self": null,
      "border": null,
      "bottom": null,
      "display": null,
      "flex": null,
      "flex_flow": null,
      "grid_area": null,
      "grid_auto_columns": null,
      "grid_auto_flow": null,
      "grid_auto_rows": null,
      "grid_column": null,
      "grid_gap": null,
      "grid_row": null,
      "grid_template_areas": null,
      "grid_template_columns": null,
      "grid_template_rows": null,
      "height": null,
      "justify_content": null,
      "justify_items": null,
      "left": null,
      "margin": null,
      "max_height": null,
      "max_width": null,
      "min_height": null,
      "min_width": null,
      "object_fit": null,
      "object_position": null,
      "order": null,
      "overflow": null,
      "overflow_x": null,
      "overflow_y": null,
      "padding": null,
      "right": null,
      "top": null,
      "visibility": null,
      "width": null
     }
    },
    "60ad1b1ffe8c47518fb905de5a2ba43b": {
     "model_module": "@jupyter-widgets/base",
     "model_module_version": "1.2.0",
     "model_name": "LayoutModel",
     "state": {
      "_model_module": "@jupyter-widgets/base",
      "_model_module_version": "1.2.0",
      "_model_name": "LayoutModel",
      "_view_count": null,
      "_view_module": "@jupyter-widgets/base",
      "_view_module_version": "1.2.0",
      "_view_name": "LayoutView",
      "align_content": null,
      "align_items": null,
      "align_self": null,
      "border": null,
      "bottom": null,
      "display": null,
      "flex": null,
      "flex_flow": null,
      "grid_area": null,
      "grid_auto_columns": null,
      "grid_auto_flow": null,
      "grid_auto_rows": null,
      "grid_column": null,
      "grid_gap": null,
      "grid_row": null,
      "grid_template_areas": null,
      "grid_template_columns": null,
      "grid_template_rows": null,
      "height": null,
      "justify_content": null,
      "justify_items": null,
      "left": null,
      "margin": null,
      "max_height": null,
      "max_width": null,
      "min_height": null,
      "min_width": null,
      "object_fit": null,
      "object_position": null,
      "order": null,
      "overflow": null,
      "overflow_x": null,
      "overflow_y": null,
      "padding": null,
      "right": null,
      "top": null,
      "visibility": null,
      "width": null
     }
    },
    "971b821eb13d4257a7c2ae73381df11e": {
     "model_module": "@jupyter-widgets/controls",
     "model_module_version": "1.5.0",
     "model_name": "FloatProgressModel",
     "state": {
      "_dom_classes": [],
      "_model_module": "@jupyter-widgets/controls",
      "_model_module_version": "1.5.0",
      "_model_name": "FloatProgressModel",
      "_view_count": null,
      "_view_module": "@jupyter-widgets/controls",
      "_view_module_version": "1.5.0",
      "_view_name": "ProgressView",
      "bar_style": "success",
      "description": "",
      "description_tooltip": null,
      "layout": "IPY_MODEL_532462010a464a408a44e376dbbd6ec2",
      "max": 1000,
      "min": 0,
      "orientation": "horizontal",
      "style": "IPY_MODEL_f15532d5a2d84f078b135130546e00f9",
      "value": 1000
     }
    },
    "a8b47418ba51421396006975690322d2": {
     "model_module": "@jupyter-widgets/base",
     "model_module_version": "1.2.0",
     "model_name": "LayoutModel",
     "state": {
      "_model_module": "@jupyter-widgets/base",
      "_model_module_version": "1.2.0",
      "_model_name": "LayoutModel",
      "_view_count": null,
      "_view_module": "@jupyter-widgets/base",
      "_view_module_version": "1.2.0",
      "_view_name": "LayoutView",
      "align_content": null,
      "align_items": null,
      "align_self": null,
      "border": null,
      "bottom": null,
      "display": null,
      "flex": null,
      "flex_flow": null,
      "grid_area": null,
      "grid_auto_columns": null,
      "grid_auto_flow": null,
      "grid_auto_rows": null,
      "grid_column": null,
      "grid_gap": null,
      "grid_row": null,
      "grid_template_areas": null,
      "grid_template_columns": null,
      "grid_template_rows": null,
      "height": null,
      "justify_content": null,
      "justify_items": null,
      "left": null,
      "margin": null,
      "max_height": null,
      "max_width": null,
      "min_height": null,
      "min_width": null,
      "object_fit": null,
      "object_position": null,
      "order": null,
      "overflow": null,
      "overflow_x": null,
      "overflow_y": null,
      "padding": null,
      "right": null,
      "top": null,
      "visibility": null,
      "width": null
     }
    },
    "b44689589e2b4f1dbb45f61c49d4062f": {
     "model_module": "@jupyter-widgets/controls",
     "model_module_version": "1.5.0",
     "model_name": "HTMLModel",
     "state": {
      "_dom_classes": [],
      "_model_module": "@jupyter-widgets/controls",
      "_model_module_version": "1.5.0",
      "_model_name": "HTMLModel",
      "_view_count": null,
      "_view_module": "@jupyter-widgets/controls",
      "_view_module_version": "1.5.0",
      "_view_name": "HTMLView",
      "description": "",
      "description_tooltip": null,
      "layout": "IPY_MODEL_a8b47418ba51421396006975690322d2",
      "placeholder": "​",
      "style": "IPY_MODEL_3a6976f1e97e4bfa9c820ae22c022177",
      "value": " 1000/1000 [00:07&lt;00:00, 87.20it/s]"
     }
    },
    "ce22fd1425e34878b5bf57a180e6b68a": {
     "model_module": "@jupyter-widgets/controls",
     "model_module_version": "1.5.0",
     "model_name": "DescriptionStyleModel",
     "state": {
      "_model_module": "@jupyter-widgets/controls",
      "_model_module_version": "1.5.0",
      "_model_name": "DescriptionStyleModel",
      "_view_count": null,
      "_view_module": "@jupyter-widgets/base",
      "_view_module_version": "1.2.0",
      "_view_name": "StyleView",
      "description_width": ""
     }
    },
    "d1d32540b92e4e4584ac3aa628436021": {
     "model_module": "@jupyter-widgets/base",
     "model_module_version": "1.2.0",
     "model_name": "LayoutModel",
     "state": {
      "_model_module": "@jupyter-widgets/base",
      "_model_module_version": "1.2.0",
      "_model_name": "LayoutModel",
      "_view_count": null,
      "_view_module": "@jupyter-widgets/base",
      "_view_module_version": "1.2.0",
      "_view_name": "LayoutView",
      "align_content": null,
      "align_items": null,
      "align_self": null,
      "border": null,
      "bottom": null,
      "display": null,
      "flex": null,
      "flex_flow": null,
      "grid_area": null,
      "grid_auto_columns": null,
      "grid_auto_flow": null,
      "grid_auto_rows": null,
      "grid_column": null,
      "grid_gap": null,
      "grid_row": null,
      "grid_template_areas": null,
      "grid_template_columns": null,
      "grid_template_rows": null,
      "height": null,
      "justify_content": null,
      "justify_items": null,
      "left": null,
      "margin": null,
      "max_height": null,
      "max_width": null,
      "min_height": null,
      "min_width": null,
      "object_fit": null,
      "object_position": null,
      "order": null,
      "overflow": null,
      "overflow_x": null,
      "overflow_y": null,
      "padding": null,
      "right": null,
      "top": null,
      "visibility": null,
      "width": null
     }
    },
    "f15532d5a2d84f078b135130546e00f9": {
     "model_module": "@jupyter-widgets/controls",
     "model_module_version": "1.5.0",
     "model_name": "ProgressStyleModel",
     "state": {
      "_model_module": "@jupyter-widgets/controls",
      "_model_module_version": "1.5.0",
      "_model_name": "ProgressStyleModel",
      "_view_count": null,
      "_view_module": "@jupyter-widgets/base",
      "_view_module_version": "1.2.0",
      "_view_name": "StyleView",
      "bar_color": null,
      "description_width": ""
     }
    }
   }
  }
 },
 "nbformat": 4,
 "nbformat_minor": 4
}
