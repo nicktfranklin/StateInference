{
 "cells": [
  {
   "cell_type": "markdown",
   "metadata": {},
   "source": [
    "# Agents:\n",
    "These simulations evaluate several agents exploring the thread the needle enviroment"
   ]
  },
  {
   "cell_type": "code",
   "execution_count": 2,
   "metadata": {},
   "outputs": [
    {
     "name": "stdout",
     "output_type": "stream",
     "text": [
      "The autoreload extension is already loaded. To reload it, use:\n",
      "  %reload_ext autoreload\n"
     ]
    }
   ],
   "source": [
    "%load_ext autoreload\n",
    "%autoreload 2\n",
    "# from IPython.display import display, HTML\n",
    "# display(HTML(\"<style>.container { width:90% !important; }</style>\"))"
   ]
  },
  {
   "cell_type": "code",
   "execution_count": 9,
   "metadata": {},
   "outputs": [
    {
     "name": "stdout",
     "output_type": "stream",
     "text": [
      "python 3.10.11 (main, Apr 20 2023, 13:58:42) [Clang 14.0.6 ]\n",
      "torch 2.0.1\n",
      "device = mps\n"
     ]
    }
   ],
   "source": [
    "%matplotlib inline\n",
    "import sys\n",
    "import torch\n",
    "import numpy as np\n",
    "import pandas as pd\n",
    "import matplotlib.pyplot as plt\n",
    "\n",
    "from state_inference.gridworld_env import CnnWrapper, ThreadTheNeedleEnv\n",
    "from state_inference.utils.training_utils import parse_task_config, parse_model_config\n",
    "from state_inference.utils.pytorch_utils import DEVICE\n",
    "from state_inference.model.agents import ViAgentWithExploration, RecurrentViAgent\n",
    "from state_inference.model.vae import CnnVae\n",
    "\n",
    "print(f\"python {sys.version}\")\n",
    "print(f\"torch {torch.__version__}\")\n",
    "print(f\"device = {DEVICE}\")\n"
   ]
  },
  {
   "cell_type": "code",
   "execution_count": 4,
   "metadata": {},
   "outputs": [],
   "source": [
    "TASK_CONFIG_FILE = \"state_inference/env_config.yml\"\n",
    "TASK_NAME = \"thread_the_needle\"\n",
    "TASK_CLASS = ThreadTheNeedleEnv\n",
    "\n",
    "MODEL_CONFIG_FILE = \"state_inference/model/model_config.yml\""
   ]
  },
  {
   "cell_type": "code",
   "execution_count": 5,
   "metadata": {},
   "outputs": [
    {
     "data": {
      "application/vnd.jupyter.widget-view+json": {
       "model_id": "4b4fbd14a8ce48278d7c397f66adb9ea",
       "version_major": 2,
       "version_minor": 0
      },
      "text/plain": [
       "  0%|          | 0/1000 [00:00<?, ?it/s]"
      ]
     },
     "metadata": {},
     "output_type": "display_data"
    }
   ],
   "source": [
    "env_kwargs, training_kwargs = parse_task_config(TASK_NAME, TASK_CONFIG_FILE)\n",
    "\n",
    "training_kwargs[\"n_train_steps\"] = 50000\n",
    "training_kwargs[\"n_epochs\"] = 1\n",
    "\n",
    "# create the task\n",
    "task = CnnWrapper(TASK_CLASS.create_env(**env_kwargs))\n",
    "\n",
    "pi, _ = task.get_optimal_policy()\n",
    "training_kwargs[\"optimal_policy\"] = pi"
   ]
  },
  {
   "cell_type": "markdown",
   "metadata": {},
   "source": []
  },
  {
   "cell_type": "code",
   "execution_count": 6,
   "metadata": {},
   "outputs": [],
   "source": [
    "### Model + Training Parameters\n",
    "\n",
    "model_config = parse_model_config(MODEL_CONFIG_FILE)\n",
    "\n",
    "\n",
    "def make_model():\n",
    "    vae_model = CnnVae.make_from_configs(model_config, env_kwargs)\n",
    "\n",
    "    agent = ViAgentWithExploration(\n",
    "        task,\n",
    "        vae_model,\n",
    "        set_action=set(range(4)),\n",
    "        **model_config[\"state_inference_model\"],\n",
    "    )\n",
    "    return agent\n"
   ]
  },
  {
   "cell_type": "code",
   "execution_count": 7,
   "metadata": {},
   "outputs": [
    {
     "name": "stderr",
     "output_type": "stream",
     "text": [
      "Steps: 100%|█████████████████████████████████████████████████████████████████████████| 10000/10000 [01:08<00:00, 146.44it/s]\n"
     ]
    }
   ],
   "source": [
    "# get a dataset from exploration without regard to model\n",
    "rnn_agent = make_model()\n",
    "rnn_agent.learn(10000, progress_bar=True, estimate_batch=False)"
   ]
  },
  {
   "cell_type": "code",
   "execution_count": 11,
   "metadata": {},
   "outputs": [],
   "source": [
    "# get a dataloader for testing\n",
    "dataloader = RecurrentViAgent.construct_dataloader_from_obs(64, rnn_agent.cached_obs, 8)\n",
    "batch_data = next(iter(dataloader))"
   ]
  },
  {
   "cell_type": "code",
   "execution_count": 12,
   "metadata": {},
   "outputs": [
    {
     "data": {
      "text/plain": [
       "tensor([[[0., 0., 0., 0.],\n",
       "         [0., 0., 0., 0.],\n",
       "         [0., 0., 0., 0.],\n",
       "         ...,\n",
       "         [0., 0., 0., 0.],\n",
       "         [0., 0., 0., 0.],\n",
       "         [0., 0., 1., 0.]],\n",
       "\n",
       "        [[0., 0., 0., 0.],\n",
       "         [0., 0., 0., 0.],\n",
       "         [0., 0., 0., 0.],\n",
       "         ...,\n",
       "         [0., 0., 0., 0.],\n",
       "         [0., 0., 1., 0.],\n",
       "         [0., 1., 0., 0.]],\n",
       "\n",
       "        [[0., 0., 0., 0.],\n",
       "         [0., 0., 0., 0.],\n",
       "         [0., 0., 0., 0.],\n",
       "         ...,\n",
       "         [0., 0., 1., 0.],\n",
       "         [0., 1., 0., 0.],\n",
       "         [1., 0., 0., 0.]],\n",
       "\n",
       "        ...,\n",
       "\n",
       "        [[0., 0., 1., 0.],\n",
       "         [1., 0., 0., 0.],\n",
       "         [1., 0., 0., 0.],\n",
       "         ...,\n",
       "         [0., 0., 1., 0.],\n",
       "         [0., 0., 0., 1.],\n",
       "         [0., 0., 1., 0.]],\n",
       "\n",
       "        [[1., 0., 0., 0.],\n",
       "         [1., 0., 0., 0.],\n",
       "         [1., 0., 0., 0.],\n",
       "         ...,\n",
       "         [0., 0., 0., 1.],\n",
       "         [0., 0., 1., 0.],\n",
       "         [0., 0., 0., 1.]],\n",
       "\n",
       "        [[1., 0., 0., 0.],\n",
       "         [1., 0., 0., 0.],\n",
       "         [0., 0., 1., 0.],\n",
       "         ...,\n",
       "         [0., 0., 1., 0.],\n",
       "         [0., 0., 0., 1.],\n",
       "         [0., 0., 0., 1.]]])"
      ]
     },
     "execution_count": 12,
     "metadata": {},
     "output_type": "execute_result"
    }
   ],
   "source": [
    "batch_data[1]"
   ]
  },
  {
   "cell_type": "code",
   "execution_count": 22,
   "metadata": {},
   "outputs": [],
   "source": [
    "from state_inference.utils.pytorch_utils import train_epochs\n",
    "\n",
    "# def make_rnn():\n",
    "    \n",
    "\n",
    "# test_loader = RecurrentViAgent.contruct_validation_dataloader(1000, 5)\n",
    "\n",
    "# vae_model = rnn_agent.state_inference_model\n",
    "\n",
    "# # basic test\n",
    "# batch_data = next(iter(test_loader))\n",
    "# with torch.no_grad():\n",
    "#     print(f\"Loss: {vae_model.loss(batch_data).item()}\")\n",
    "\n",
    "# train_args = {\n",
    "#     \"epochs\": 20,\n",
    "#     \"lr_decay\": None,\n",
    "#     \"lr\": 1e-4,\n",
    "#     \"grad_clip\": True,\n",
    "# }\n",
    "\n",
    "\n",
    "# train_losses, test_losses = train_epochs(\n",
    "#     rnn_agent.state_inference_model, train_loader, test_loader, train_args\n",
    "# )\n",
    "batch_data = next(iter(train_loader))"
   ]
  },
  {
   "cell_type": "code",
   "execution_count": 25,
   "metadata": {},
   "outputs": [
    {
     "data": {
      "text/plain": [
       "torch.Size([64, 9, 64, 64, 1])"
      ]
     },
     "execution_count": 25,
     "metadata": {},
     "output_type": "execute_result"
    }
   ],
   "source": [
    "batch_data[0][0].shape"
   ]
  },
  {
   "cell_type": "code",
   "execution_count": null,
   "metadata": {},
   "outputs": [],
   "source": [
    "# plot state reconstructions\n",
    "\n",
    "# use the vae to encode all of the test data\n",
    "vae_model.eval()\n",
    "\n",
    "batch_data = next(iter(test_loader))\n",
    "(obs, actions), _ = batch_data\n",
    "with torch.no_grad():\n",
    "    _, x_hat = vae_model(obs.to(DEVICE))\n",
    "\n",
    "# select 5 random examples\n",
    "N = 5\n",
    "s = np.random.permutation(np.arange(x_hat.shape[0]))[:N]\n",
    "print(s)\n",
    "fig, axes = plt.subplots(N, 2, figsize=(6, 16))\n",
    "for ii in range(N):\n",
    "    s = np.random.randint(x_hat.shape[0])\n",
    "    axes[ii][0].imshow(convert_float_to_8bit(obs[s, -1, ...]).squeeze().numpy())\n",
    "    axes[ii][1].imshow(\n",
    "        convert_float_to_8bit(x_hat[s, ...].squeeze().detach().cpu()).numpy()\n",
    "    )\n",
    "    axes[ii][0].set_title(f\"State {s}\")\n",
    "    axes[ii][1].set_title(f\"State {s}, reconstructed\")\n",
    "\n",
    "# s = np.random.randint(0, EMBEDDING_DIM)\n",
    "# ii = 0\n",
    "# fig, axes = plt.subplots(5, 2, figsize=(6, 16))\n",
    "# for s in range(5):\n",
    "#     _, X_hat = vae_model(test_obs[s, :][None, ...].to(DEVICE))\n",
    "\n",
    "#     axes[ii][0].imshow(convert_float_to_8bit(test_obs[s, :]))\n",
    "#     axes[ii][1].imshow(convert_float_to_8bit(X_hat.squeeze().detach().cpu()).numpy())\n",
    "#     axes[ii][0].set_title(f\"State {ii}\")\n",
    "#     axes[ii][1].set_title(f\"State {ii}, reconstructed\")\n",
    "\n",
    "#     ii += 1"
   ]
  },
  {
   "cell_type": "code",
   "execution_count": 72,
   "metadata": {},
   "outputs": [
    {
     "data": {
      "text/plain": [
       "torch.Size([992, 5, 40, 40, 1])"
      ]
     },
     "execution_count": 72,
     "metadata": {},
     "output_type": "execute_result"
    }
   ],
   "source": [
    "obs.shape"
   ]
  },
  {
   "cell_type": "code",
   "execution_count": 73,
   "metadata": {},
   "outputs": [],
   "source": [
    "# use the vae to encode all of the test data\n",
    "vae_model.eval()\n",
    "\n",
    "batch_data = next(iter(test_loader))\n",
    "(obs, actions), _ = batch_data"
   ]
  },
  {
   "cell_type": "code",
   "execution_count": 74,
   "metadata": {},
   "outputs": [
    {
     "data": {
      "text/plain": [
       "torch.Size([992, 5, 40, 40, 1])"
      ]
     },
     "execution_count": 74,
     "metadata": {},
     "output_type": "execute_result"
    }
   ],
   "source": [
    "obs.shape"
   ]
  },
  {
   "cell_type": "code",
   "execution_count": 75,
   "metadata": {},
   "outputs": [
    {
     "ename": "ValueError",
     "evalue": "step must be greater than zero",
     "output_type": "error",
     "traceback": [
      "\u001b[0;31m---------------------------------------------------------------------------\u001b[0m",
      "\u001b[0;31mValueError\u001b[0m                                Traceback (most recent call last)",
      "Cell \u001b[0;32mIn[75], line 1\u001b[0m\n\u001b[0;32m----> 1\u001b[0m \u001b[43mobs\u001b[49m\u001b[43m[\u001b[49m\u001b[43m:\u001b[49m\u001b[43m:\u001b[49m\u001b[38;5;241;43m-\u001b[39;49m\u001b[38;5;241;43m1\u001b[39;49m\u001b[43m]\u001b[49m\n",
      "\u001b[0;31mValueError\u001b[0m: step must be greater than zero"
     ]
    }
   ],
   "source": [
    "obs[::-1]"
   ]
  },
  {
   "cell_type": "code",
   "execution_count": 76,
   "metadata": {},
   "outputs": [
    {
     "ename": "TypeError",
     "evalue": "RecurrentVae.forward() takes 2 positional arguments but 3 were given",
     "output_type": "error",
     "traceback": [
      "\u001b[0;31m---------------------------------------------------------------------------\u001b[0m",
      "\u001b[0;31mTypeError\u001b[0m                                 Traceback (most recent call last)",
      "Cell \u001b[0;32mIn[76], line 3\u001b[0m\n\u001b[1;32m      1\u001b[0m (obs, actions), _ \u001b[38;5;241m=\u001b[39m batch_data\n\u001b[1;32m      2\u001b[0m \u001b[38;5;28;01mwith\u001b[39;00m torch\u001b[38;5;241m.\u001b[39mno_grad():\n\u001b[0;32m----> 3\u001b[0m     (logits, z), x_hat \u001b[38;5;241m=\u001b[39m \u001b[43mrnn_agent\u001b[49m\u001b[38;5;241;43m.\u001b[39;49m\u001b[43mstate_inference_model\u001b[49m\u001b[43m(\u001b[49m\n\u001b[1;32m      4\u001b[0m \u001b[43m        \u001b[49m\u001b[43mobs\u001b[49m\u001b[38;5;241;43m.\u001b[39;49m\u001b[43mto\u001b[49m\u001b[43m(\u001b[49m\u001b[43mDEVICE\u001b[49m\u001b[43m)\u001b[49m\u001b[43m,\u001b[49m\u001b[43m \u001b[49m\u001b[43mactions\u001b[49m\u001b[38;5;241;43m.\u001b[39;49m\u001b[43mto\u001b[49m\u001b[43m(\u001b[49m\u001b[43mDEVICE\u001b[49m\u001b[43m)\u001b[49m\n\u001b[1;32m      5\u001b[0m \u001b[43m    \u001b[49m\u001b[43m)\u001b[49m\n\u001b[1;32m      6\u001b[0m z\u001b[38;5;241m.\u001b[39mshape\n",
      "File \u001b[0;32m~/miniconda3/envs/rl-env/lib/python3.10/site-packages/torch/nn/modules/module.py:1501\u001b[0m, in \u001b[0;36mModule._call_impl\u001b[0;34m(self, *args, **kwargs)\u001b[0m\n\u001b[1;32m   1496\u001b[0m \u001b[38;5;66;03m# If we don't have any hooks, we want to skip the rest of the logic in\u001b[39;00m\n\u001b[1;32m   1497\u001b[0m \u001b[38;5;66;03m# this function, and just call forward.\u001b[39;00m\n\u001b[1;32m   1498\u001b[0m \u001b[38;5;28;01mif\u001b[39;00m \u001b[38;5;129;01mnot\u001b[39;00m (\u001b[38;5;28mself\u001b[39m\u001b[38;5;241m.\u001b[39m_backward_hooks \u001b[38;5;129;01mor\u001b[39;00m \u001b[38;5;28mself\u001b[39m\u001b[38;5;241m.\u001b[39m_backward_pre_hooks \u001b[38;5;129;01mor\u001b[39;00m \u001b[38;5;28mself\u001b[39m\u001b[38;5;241m.\u001b[39m_forward_hooks \u001b[38;5;129;01mor\u001b[39;00m \u001b[38;5;28mself\u001b[39m\u001b[38;5;241m.\u001b[39m_forward_pre_hooks\n\u001b[1;32m   1499\u001b[0m         \u001b[38;5;129;01mor\u001b[39;00m _global_backward_pre_hooks \u001b[38;5;129;01mor\u001b[39;00m _global_backward_hooks\n\u001b[1;32m   1500\u001b[0m         \u001b[38;5;129;01mor\u001b[39;00m _global_forward_hooks \u001b[38;5;129;01mor\u001b[39;00m _global_forward_pre_hooks):\n\u001b[0;32m-> 1501\u001b[0m     \u001b[38;5;28;01mreturn\u001b[39;00m \u001b[43mforward_call\u001b[49m\u001b[43m(\u001b[49m\u001b[38;5;241;43m*\u001b[39;49m\u001b[43margs\u001b[49m\u001b[43m,\u001b[49m\u001b[43m \u001b[49m\u001b[38;5;241;43m*\u001b[39;49m\u001b[38;5;241;43m*\u001b[39;49m\u001b[43mkwargs\u001b[49m\u001b[43m)\u001b[49m\n\u001b[1;32m   1502\u001b[0m \u001b[38;5;66;03m# Do not call functions when jit is used\u001b[39;00m\n\u001b[1;32m   1503\u001b[0m full_backward_hooks, non_full_backward_hooks \u001b[38;5;241m=\u001b[39m [], []\n",
      "\u001b[0;31mTypeError\u001b[0m: RecurrentVae.forward() takes 2 positional arguments but 3 were given"
     ]
    }
   ],
   "source": [
    "(obs, actions), _ = batch_data\n",
    "with torch.no_grad():\n",
    "    (logits, z), x_hat = rnn_agent.state_inference_model(\n",
    "        obs.to(DEVICE), actions.to(DEVICE)\n",
    "    )\n",
    "z.shape"
   ]
  },
  {
   "cell_type": "code",
   "execution_count": 29,
   "metadata": {},
   "outputs": [
    {
     "data": {
      "text/plain": [
       "tensor([[[[0.0888],\n",
       "          [0.1571],\n",
       "          [0.1484],\n",
       "          ...,\n",
       "          [0.1728],\n",
       "          [0.0985],\n",
       "          [0.1931]],\n",
       "\n",
       "         [[0.1121],\n",
       "          [0.1454],\n",
       "          [0.1596],\n",
       "          ...,\n",
       "          [0.1537],\n",
       "          [0.1312],\n",
       "          [0.1185]],\n",
       "\n",
       "         [[0.1602],\n",
       "          [0.1027],\n",
       "          [0.1636],\n",
       "          ...,\n",
       "          [0.1696],\n",
       "          [0.0559],\n",
       "          [0.1254]],\n",
       "\n",
       "         ...,\n",
       "\n",
       "         [[0.1037],\n",
       "          [0.1448],\n",
       "          [0.1128],\n",
       "          ...,\n",
       "          [0.2015],\n",
       "          [0.1183],\n",
       "          [0.1181]],\n",
       "\n",
       "         [[0.1271],\n",
       "          [0.1046],\n",
       "          [0.1058],\n",
       "          ...,\n",
       "          [0.1254],\n",
       "          [0.1554],\n",
       "          [0.1014]],\n",
       "\n",
       "         [[0.0984],\n",
       "          [0.1070],\n",
       "          [0.1088],\n",
       "          ...,\n",
       "          [0.2027],\n",
       "          [0.1057],\n",
       "          [0.0913]]],\n",
       "\n",
       "\n",
       "        [[[0.1949],\n",
       "          [0.1557],\n",
       "          [0.1496],\n",
       "          ...,\n",
       "          [0.0947],\n",
       "          [0.1638],\n",
       "          [0.1471]],\n",
       "\n",
       "         [[0.0953],\n",
       "          [0.1115],\n",
       "          [0.1182],\n",
       "          ...,\n",
       "          [0.1437],\n",
       "          [0.0799],\n",
       "          [0.0990]],\n",
       "\n",
       "         [[0.1438],\n",
       "          [0.1488],\n",
       "          [0.0934],\n",
       "          ...,\n",
       "          [0.1863],\n",
       "          [0.1527],\n",
       "          [0.1212]],\n",
       "\n",
       "         ...,\n",
       "\n",
       "         [[0.1678],\n",
       "          [0.3179],\n",
       "          [0.1275],\n",
       "          ...,\n",
       "          [0.1119],\n",
       "          [0.1453],\n",
       "          [0.1628]],\n",
       "\n",
       "         [[0.1669],\n",
       "          [0.1733],\n",
       "          [0.1346],\n",
       "          ...,\n",
       "          [0.1752],\n",
       "          [0.1471],\n",
       "          [0.0905]],\n",
       "\n",
       "         [[0.2717],\n",
       "          [0.1791],\n",
       "          [0.0868],\n",
       "          ...,\n",
       "          [0.2355],\n",
       "          [0.1616],\n",
       "          [0.1349]]],\n",
       "\n",
       "\n",
       "        [[[0.1011],\n",
       "          [0.0761],\n",
       "          [0.1266],\n",
       "          ...,\n",
       "          [0.1286],\n",
       "          [0.2576],\n",
       "          [0.1069]],\n",
       "\n",
       "         [[0.1392],\n",
       "          [0.1413],\n",
       "          [0.1811],\n",
       "          ...,\n",
       "          [0.1091],\n",
       "          [0.1161],\n",
       "          [0.0946]],\n",
       "\n",
       "         [[0.2041],\n",
       "          [0.1576],\n",
       "          [0.1787],\n",
       "          ...,\n",
       "          [0.1660],\n",
       "          [0.2522],\n",
       "          [0.1337]],\n",
       "\n",
       "         ...,\n",
       "\n",
       "         [[0.1510],\n",
       "          [0.1305],\n",
       "          [0.1377],\n",
       "          ...,\n",
       "          [0.0847],\n",
       "          [0.1584],\n",
       "          [0.1977]],\n",
       "\n",
       "         [[0.2254],\n",
       "          [0.2046],\n",
       "          [0.2028],\n",
       "          ...,\n",
       "          [0.1353],\n",
       "          [0.2414],\n",
       "          [0.1688]],\n",
       "\n",
       "         [[0.1946],\n",
       "          [0.2419],\n",
       "          [0.0900],\n",
       "          ...,\n",
       "          [0.2106],\n",
       "          [0.1856],\n",
       "          [0.1553]]],\n",
       "\n",
       "\n",
       "        ...,\n",
       "\n",
       "\n",
       "        [[[0.1116],\n",
       "          [0.1259],\n",
       "          [0.2195],\n",
       "          ...,\n",
       "          [0.1556],\n",
       "          [0.2198],\n",
       "          [0.1442]],\n",
       "\n",
       "         [[0.1424],\n",
       "          [0.1156],\n",
       "          [0.1211],\n",
       "          ...,\n",
       "          [0.0953],\n",
       "          [0.0968],\n",
       "          [0.1953]],\n",
       "\n",
       "         [[0.1196],\n",
       "          [0.1123],\n",
       "          [0.1486],\n",
       "          ...,\n",
       "          [0.1221],\n",
       "          [0.2727],\n",
       "          [0.1744]],\n",
       "\n",
       "         ...,\n",
       "\n",
       "         [[0.1667],\n",
       "          [0.2953],\n",
       "          [0.2202],\n",
       "          ...,\n",
       "          [0.0651],\n",
       "          [0.1360],\n",
       "          [0.1164]],\n",
       "\n",
       "         [[0.2592],\n",
       "          [0.1629],\n",
       "          [0.1375],\n",
       "          ...,\n",
       "          [0.1327],\n",
       "          [0.2147],\n",
       "          [0.1423]],\n",
       "\n",
       "         [[0.1468],\n",
       "          [0.2050],\n",
       "          [0.1090],\n",
       "          ...,\n",
       "          [0.1132],\n",
       "          [0.1766],\n",
       "          [0.1502]]],\n",
       "\n",
       "\n",
       "        [[[0.1118],\n",
       "          [0.1061],\n",
       "          [0.2468],\n",
       "          ...,\n",
       "          [0.1599],\n",
       "          [0.1279],\n",
       "          [0.1124]],\n",
       "\n",
       "         [[0.1589],\n",
       "          [0.1533],\n",
       "          [0.1881],\n",
       "          ...,\n",
       "          [0.1408],\n",
       "          [0.1455],\n",
       "          [0.0799]],\n",
       "\n",
       "         [[0.1435],\n",
       "          [0.1424],\n",
       "          [0.1354],\n",
       "          ...,\n",
       "          [0.0812],\n",
       "          [0.1051],\n",
       "          [0.1421]],\n",
       "\n",
       "         ...,\n",
       "\n",
       "         [[0.1319],\n",
       "          [0.1409],\n",
       "          [0.1012],\n",
       "          ...,\n",
       "          [0.2032],\n",
       "          [0.1690],\n",
       "          [0.1647]],\n",
       "\n",
       "         [[0.2259],\n",
       "          [0.0980],\n",
       "          [0.1623],\n",
       "          ...,\n",
       "          [0.1001],\n",
       "          [0.1669],\n",
       "          [0.1806]],\n",
       "\n",
       "         [[0.1694],\n",
       "          [0.1461],\n",
       "          [0.1087],\n",
       "          ...,\n",
       "          [0.1534],\n",
       "          [0.1826],\n",
       "          [0.1896]]],\n",
       "\n",
       "\n",
       "        [[[0.0974],\n",
       "          [0.1066],\n",
       "          [0.1695],\n",
       "          ...,\n",
       "          [0.1056],\n",
       "          [0.1675],\n",
       "          [0.1541]],\n",
       "\n",
       "         [[0.1409],\n",
       "          [0.1243],\n",
       "          [0.0786],\n",
       "          ...,\n",
       "          [0.1018],\n",
       "          [0.1466],\n",
       "          [0.1327]],\n",
       "\n",
       "         [[0.1223],\n",
       "          [0.1845],\n",
       "          [0.1142],\n",
       "          ...,\n",
       "          [0.1367],\n",
       "          [0.0683],\n",
       "          [0.1337]],\n",
       "\n",
       "         ...,\n",
       "\n",
       "         [[0.0843],\n",
       "          [0.2309],\n",
       "          [0.2024],\n",
       "          ...,\n",
       "          [0.1290],\n",
       "          [0.1228],\n",
       "          [0.2082]],\n",
       "\n",
       "         [[0.1352],\n",
       "          [0.1871],\n",
       "          [0.1680],\n",
       "          ...,\n",
       "          [0.1415],\n",
       "          [0.2827],\n",
       "          [0.1079]],\n",
       "\n",
       "         [[0.1722],\n",
       "          [0.1048],\n",
       "          [0.0962],\n",
       "          ...,\n",
       "          [0.2161],\n",
       "          [0.0515],\n",
       "          [0.0911]]]], device='mps:0')"
      ]
     },
     "execution_count": 29,
     "metadata": {},
     "output_type": "execute_result"
    }
   ],
   "source": [
    "x_hat"
   ]
  },
  {
   "cell_type": "code",
   "execution_count": 66,
   "metadata": {},
   "outputs": [
    {
     "name": "stdout",
     "output_type": "stream",
     "text": [
      "5.401886940002441\n"
     ]
    }
   ],
   "source": [
    "(obs, actions), _ = batch_data\n",
    "\n",
    "with torch.no_grad():\n",
    "    loss = rnn_agent.state_inference_model.loss(batch_data)\n",
    "print(loss.cpu().detach().item())"
   ]
  },
  {
   "cell_type": "code",
   "execution_count": 40,
   "metadata": {},
   "outputs": [
    {
     "data": {
      "text/plain": [
       "torch.Size([1, 40, 40, 1])"
      ]
     },
     "execution_count": 40,
     "metadata": {},
     "output_type": "execute_result"
    }
   ],
   "source": [
    "from state_inference.utils.pytorch_utils import convert_8bit_to_float\n",
    "\n",
    "obs = torch.stack(\n",
    "    [\n",
    "        torch.tensor(agent.get_env().env_method(\"generate_observation\", s)[0]).view(\n",
    "            (40, 40, 1)\n",
    "        )\n",
    "        for s in range(400)\n",
    "    ]\n",
    ")\n",
    "obs_float = convert_8bit_to_float(obs)\n",
    "obs_float[0][None, ...].shape"
   ]
  },
  {
   "cell_type": "code",
   "execution_count": 47,
   "metadata": {},
   "outputs": [
    {
     "data": {
      "text/plain": [
       "(400, 5)"
      ]
     },
     "execution_count": 47,
     "metadata": {},
     "output_type": "execute_result"
    }
   ],
   "source": [
    "encoder = rnn_agent.state_inference_model.encoder\n",
    "rnn_agent.state_inference_model.get_state(obs_float).shape"
   ]
  },
  {
   "cell_type": "code",
   "execution_count": 48,
   "metadata": {},
   "outputs": [
    {
     "data": {
      "text/plain": [
       "array([[164,  50, 177, 152, 119],\n",
       "       [164,  39, 177, 152, 119],\n",
       "       [164,  39,   8, 152, 119],\n",
       "       ...,\n",
       "       [164,  50,   8, 152, 100],\n",
       "       [164,  50, 177, 152, 119],\n",
       "       [164,  50, 177, 152, 119]])"
      ]
     },
     "execution_count": 48,
     "metadata": {},
     "output_type": "execute_result"
    }
   ],
   "source": [
    "agent.state_inference_model.get_state(obs_float)"
   ]
  },
  {
   "cell_type": "code",
   "execution_count": 60,
   "metadata": {},
   "outputs": [
    {
     "data": {
      "text/plain": [
       "<matplotlib.image.AxesImage at 0x2b94009d0>"
      ]
     },
     "execution_count": 60,
     "metadata": {},
     "output_type": "execute_result"
    },
    {
     "data": {
      "image/png": "[encoded data removed]",
      "text/plain": [
       "<Figure size 640x480 with 1 Axes>"
      ]
     },
     "metadata": {},
     "output_type": "display_data"
    }
   ],
   "source": [
    "hashed_states = agent._get_hashed_state(obs)\n",
    "clusters = {z: k for k, z in enumerate(sorted(set(hashed_states)))}\n",
    "state_clusters = np.array([clusters[z] for z in hashed_states]).reshape(20, 20)\n",
    "plt.imshow(state_clusters)"
   ]
  },
  {
   "cell_type": "code",
   "execution_count": 59,
   "metadata": {},
   "outputs": [
    {
     "data": {
      "text/plain": [
       "<matplotlib.image.AxesImage at 0x2b8ae4a60>"
      ]
     },
     "execution_count": 59,
     "metadata": {},
     "output_type": "execute_result"
    },
    {
     "data": {
      "image/png": "[encoded data removed]",
      "text/plain": [
       "<Figure size 640x480 with 1 Axes>"
      ]
     },
     "metadata": {},
     "output_type": "display_data"
    }
   ],
   "source": [
    "hashed_states = rnn_agent._get_hashed_state(obs, None)\n",
    "clusters = {z: k for k, z in enumerate(sorted(set(hashed_states)))}\n",
    "state_clusters = np.array([clusters[z] for z in hashed_states]).reshape(20, 20)\n",
    "plt.imshow(state_clusters)"
   ]
  },
  {
   "cell_type": "code",
   "execution_count": 88,
   "metadata": {},
   "outputs": [
    {
     "data": {
      "text/plain": [
       "(tensor([2]), tensor([[180,  34, 188, 138, 195]]))"
      ]
     },
     "execution_count": 88,
     "metadata": {},
     "output_type": "execute_result"
    }
   ],
   "source": [
    "h = rnn_agent._init_state()\n",
    "rnn_agent.predict(obs[0], h)"
   ]
  },
  {
   "cell_type": "code",
   "execution_count": 74,
   "metadata": {},
   "outputs": [
    {
     "data": {
      "text/plain": [
       "1600"
      ]
     },
     "execution_count": 74,
     "metadata": {},
     "output_type": "execute_result"
    }
   ],
   "source": [
    "obs[0].view(-1).shape[0]"
   ]
  }
 ],
 "metadata": {
  "kernelspec": {
   "display_name": "Python 3 (ipykernel)",
   "language": "python",
   "name": "python3"
  },
  "language_info": {
   "codemirror_mode": {
    "name": "ipython",
    "version": 3
   },
   "file_extension": ".py",
   "mimetype": "text/x-python",
   "name": "python",
   "nbconvert_exporter": "python",
   "pygments_lexer": "ipython3",
   "version": "3.10.11"
  }
 },
 "nbformat": 4,
 "nbformat_minor": 2
}
