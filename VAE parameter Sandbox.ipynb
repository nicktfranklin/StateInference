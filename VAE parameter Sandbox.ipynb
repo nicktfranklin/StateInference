{
 "cells": [
  {
   "cell_type": "markdown",
   "metadata": {},
   "source": [
    "# Agents:\n",
    "These simulations evaluate several agents exploring the thread the needle enviroment"
   ]
  },
  {
   "cell_type": "code",
   "execution_count": 1,
   "metadata": {},
   "outputs": [],
   "source": [
    "%load_ext autoreload\n",
    "%autoreload 2\n",
    "# from IPython.display import display, HTML\n",
    "# display(HTML(\"<style>.container { width:90% !important; }</style>\"))"
   ]
  },
  {
   "cell_type": "code",
   "execution_count": 4,
   "metadata": {},
   "outputs": [
    {
     "name": "stdout",
     "output_type": "stream",
     "text": [
      "python 3.10.11 (main, Apr 20 2023, 13:58:42) [Clang 14.0.6 ]\n",
      "torch 2.0.1\n",
      "device = mps\n"
     ]
    }
   ],
   "source": [
    "%matplotlib inline\n",
    "import sys\n",
    "import torch\n",
    "import numpy as np\n",
    "import pandas as pd\n",
    "from stable_baselines3 import A2C, DQN, PPO\n",
    "import matplotlib.pyplot as plt\n",
    "\n",
    "from state_inference.gridworld_env import CnnWrapper, OpenEnv, ThreadTheNeedleEnv\n",
    "from state_inference.utils.training_utils import train_model, parse_task_config\n",
    "from state_inference.utils.pytorch_utils import DEVICE\n",
    "from state_inference.model.agents import ValueIterationAgent, ViAgentWithExploration, ViDynaAgent\n",
    "\n",
    "print(f\"python {sys.version}\")\n",
    "print(f\"torch {torch.__version__}\")\n",
    "print(f\"device = {DEVICE}\")\n"
   ]
  },
  {
   "cell_type": "code",
   "execution_count": 5,
   "metadata": {},
   "outputs": [],
   "source": [
    "CONFIG_FILE = \"state_inference/env_config.yml\"\n",
    "TASK_NAME = \"thread_the_needle\"\n",
    "TASK_CLASS = ThreadTheNeedleEnv"
   ]
  },
  {
   "cell_type": "code",
   "execution_count": 6,
   "metadata": {},
   "outputs": [
    {
     "data": {
      "application/vnd.jupyter.widget-view+json": {
       "model_id": "4652f1a9f17c4e5caab732bc4fa8344f",
       "version_major": 2,
       "version_minor": 0
      },
      "text/plain": [
       "  0%|          | 0/1000 [00:00<?, ?it/s]"
      ]
     },
     "metadata": {},
     "output_type": "display_data"
    }
   ],
   "source": [
    "env_kwargs, training_kwargs = parse_task_config(TASK_NAME, CONFIG_FILE)\n",
    "\n",
    "training_kwargs[\"n_train_steps\"] = 50000\n",
    "training_kwargs[\"n_epochs\"] = 1\n",
    "\n",
    "# create the task\n",
    "task = CnnWrapper(TASK_CLASS.create_env(**env_kwargs))\n",
    "\n",
    "pi, _ = task.get_optimal_policy()\n",
    "training_kwargs[\"optimal_policy\"] = pi"
   ]
  },
  {
   "cell_type": "markdown",
   "metadata": {},
   "source": []
  },
  {
   "cell_type": "code",
   "execution_count": 9,
   "metadata": {},
   "outputs": [],
   "source": [
    "from state_inference.model.vae import (\n",
    "    DEVICE, Encoder, Decoder, StateVae\n",
    ")\n",
    "\n",
    "### Model + Training Parameters\n",
    "N_EPOCHS = 20  # should be 20\n",
    "EMBEDDING_LAYERS = 5\n",
    "EMBEDDING_DIM = len(task.observation_model.states) // 2\n",
    "OBSERVATION_DIM = task.observation_model.map_height**2\n",
    "LR = 3e-4\n",
    "beta = 1.0\n",
    "tau = 2.0\n",
    "gamma = 0.99\n",
    "dropout = 0.0\n",
    "\n",
    "optim_kwargs = dict(lr=LR)\n",
    "\n",
    "# create the model\n",
    "encoder_hidden = [OBSERVATION_DIM // 5, OBSERVATION_DIM // 10]\n",
    "decoder_hidden = [OBSERVATION_DIM // 2, OBSERVATION_DIM // 5]\n",
    "z_dim = EMBEDDING_DIM * EMBEDDING_LAYERS\n",
    "\n",
    "\n",
    "def make_model():\n",
    "    encoder = Encoder(\n",
    "        OBSERVATION_DIM,\n",
    "        encoder_hidden,\n",
    "        z_dim,\n",
    "        dropout=dropout,\n",
    "    )\n",
    "#     encoder = CnnEncoder(\n",
    "#         1,\n",
    "#         task.observation_model.map_height,\n",
    "#         task.observation_model.map_height,\n",
    "#         z_dim\n",
    "#     )\n",
    "\n",
    "    decoder = Decoder(\n",
    "        z_dim,\n",
    "        decoder_hidden,\n",
    "        OBSERVATION_DIM,\n",
    "        dropout=dropout,\n",
    "    )\n",
    "\n",
    "    vae_kwargs = dict(\n",
    "        z_dim=EMBEDDING_DIM, z_layers=EMBEDDING_LAYERS, beta=beta, tau=tau, gamma=gamma\n",
    "    )\n",
    "\n",
    "    vae_model = StateVae(encoder, decoder, **vae_kwargs).to(DEVICE)\n",
    "\n",
    "    agent = ViAgentWithExploration(\n",
    "        task, vae_model, set_action=set(range(4)), optim_kwargs=optim_kwargs\n",
    "    )\n",
    "    return agent\n",
    "\n",
    "\n"
   ]
  },
  {
   "cell_type": "code",
   "execution_count": 10,
   "metadata": {},
   "outputs": [
    {
     "name": "stderr",
     "output_type": "stream",
     "text": [
      "100%|████████████████████████████████████████████████████████████████████████████████████████████████████████████| 10000/10000 [01:25<00:00, 117.54it/s]\n"
     ]
    }
   ],
   "source": [
    "agent = make_model()\n",
    "agent.learn(10000, estimate_batch=True, progress_bar=True)"
   ]
  },
  {
   "cell_type": "code",
   "execution_count": 11,
   "metadata": {},
   "outputs": [
    {
     "data": {
      "text/plain": [
       "array([[ 64,  64, 114, 181, 114],\n",
       "       [ 64,  64, 114, 181, 114],\n",
       "       [ 64,  64, 114, 181, 114],\n",
       "       ...,\n",
       "       [ 98,  91, 112,  70,  39],\n",
       "       [ 98,  91, 112,  70,  39],\n",
       "       [ 98,  91, 112,  70,  39]])"
      ]
     },
     "execution_count": 11,
     "metadata": {},
     "output_type": "execute_result"
    }
   ],
   "source": [
    "from state_inference.utils.pytorch_utils import DEVICE, convert_8bit_to_float, train\n",
    "obs = torch.stack([\n",
    "    torch.tensor(agent.get_env().env_method(\"generate_observation\", s)[0]).view((40, 40, 1))\n",
    "    for s in range(400)\n",
    "])\n",
    "agent.state_inference_model.get_state(convert_8bit_to_float(obs))"
   ]
  },
  {
   "cell_type": "code",
   "execution_count": null,
   "metadata": {
    "scrolled": true
   },
   "outputs": [],
   "source": [
    "# from state_inference.utils.training_utils import get_policy_prob, vae_get_pmf\n",
    "\n",
    "# agent = make_model()\n",
    "# # agent.learn(10000, estimate_batch=True, progress_bar=True)\n",
    "# for ii in range(5):\n",
    "#     agent.learn(10000, estimate_batch=True, progress_bar=True)\n",
    "    \n",
    "#     pmf = get_policy_prob(\n",
    "#         agent,\n",
    "#         vae_get_pmf,\n",
    "#         n_states=env_kwargs[\"n_states\"],\n",
    "#         map_height=env_kwargs[\"map_height\"],\n",
    "#         cnn=True,\n",
    "#     )\n",
    "#     score = np.sum(pi * pmf, axis=1).mean()\n",
    "#     print(f\"batch {ii+1}, score {score}\")\n",
    "    \n",
    "    "
   ]
  },
  {
   "cell_type": "code",
   "execution_count": null,
   "metadata": {},
   "outputs": [],
   "source": []
  },
  {
   "cell_type": "code",
   "execution_count": null,
   "metadata": {},
   "outputs": [],
   "source": [
    "\n",
    "    \n",
    "pmf = get_policy_prob(\n",
    "    agent,\n",
    "    cnn_get_pmf,\n",
    "    n_states=env_kwargs[\"n_states\"],\n",
    "    map_height=env_kwargs[\"map_height\"],\n",
    "    cnn=True,\n",
    ")\n",
    "score = np.sum(pi * pmf, axis=1).mean()\n",
    "print(f\"Single Big Batch, score {score}\")"
   ]
  },
  {
   "cell_type": "code",
   "execution_count": null,
   "metadata": {},
   "outputs": [],
   "source": []
  },
  {
   "cell_type": "code",
   "execution_count": null,
   "metadata": {},
   "outputs": [],
   "source": [
    "\n",
    "pmf = get_policy_prob(\n",
    "    agent,\n",
    "    vae_get_pmf,\n",
    "    n_states=env_kwargs[\"n_states\"],\n",
    "    map_height=env_kwargs[\"map_height\"],\n",
    "    cnn=True,\n",
    ")\n",
    "pmf"
   ]
  },
  {
   "cell_type": "code",
   "execution_count": null,
   "metadata": {},
   "outputs": [],
   "source": [
    "import seaborn as sns\n",
    "\n",
    "fig, axes = plt.subplots(2, 2)\n",
    "h, w = env_kwargs[\"height\"], env_kwargs[\"width\"]\n",
    "\n",
    "axes[0][0].imshow(pmf[:, 0].reshape(h, w))\n",
    "axes[0][1].imshow(pmf[:, 1].reshape(h, w))\n",
    "axes[1][0].imshow(pmf[:, 2].reshape(h, w))\n",
    "axes[1][1].imshow(pmf[:, 3].reshape(h, w))\n",
    "\n",
    "\n",
    "axes[0][0].set_title(\"up\")\n",
    "axes[0][1].set_title(\"down\")\n",
    "axes[1][0].set_title(\"left\")\n",
    "axes[1][1].set_title(\"right\")\n",
    "\n",
    "plt.subplots_adjust(hspace=0.3, wspace=-0.3)\n",
    "\n",
    "plt.suptitle(\"Value Iteration Agent Learned Policy\")"
   ]
  },
  {
   "cell_type": "code",
   "execution_count": null,
   "metadata": {},
   "outputs": [],
   "source": [
    "np.sum(pi * pmf, axis=1).mean()"
   ]
  },
  {
   "cell_type": "code",
   "execution_count": null,
   "metadata": {},
   "outputs": [],
   "source": [
    "room_1_mask = (np.arange(400) < 200) * (np.arange(400) % 20 < 10)\n",
    "room_2_mask = (np.arange(400) >= 200) * (np.arange(400) % 20 < 10)\n",
    "room_3_mask = np.arange(400) % 20 >= 10\n",
    "\n",
    "score_room_1 = np.sum(pi[room_1_mask] * pmf[room_1_mask], axis=1).mean()\n",
    "score_room_2 = np.sum(pi[room_2_mask] * pmf[room_2_mask], axis=1).mean()\n",
    "score_room_3 = np.sum(pi[room_3_mask] * pmf[room_3_mask], axis=1).mean()\n",
    "plt.bar([0, 1, 2], [score_room_1, score_room_2, score_room_3])\n",
    "\n",
    "sns.despine()"
   ]
  },
  {
   "cell_type": "code",
   "execution_count": null,
   "metadata": {},
   "outputs": [],
   "source": [
    "from state_inference.utils.pytorch_utils import make_tensor, convert_8bit_to_float\n",
    "from sklearn.metrics import pairwise_distances\n",
    "\n",
    "obs = convert_8bit_to_float(\n",
    "    torch.stack(\n",
    "        [\n",
    "            make_tensor(task.observation_model(s))\n",
    "            for s in range(task.transition_model.n_states)\n",
    "            for _ in range(1)\n",
    "        ]\n",
    "    )\n",
    ").to(DEVICE)\n",
    "z = agent.state_inference_model.get_state(obs)\n",
    "\n",
    "hash_vector = np.array(\n",
    "    [\n",
    "        agent.state_inference_model.z_dim**ii\n",
    "        for ii in range(agent.state_inference_model.z_layers)\n",
    "    ]\n",
    ")\n",
    "\n",
    "z = z.dot(hash_vector)\n",
    "d = pairwise_distances(z.reshape(-1, 1), metric=lambda x, y: x == y)\n",
    "plt.imshow(1 - d)"
   ]
  },
  {
   "cell_type": "code",
   "execution_count": null,
   "metadata": {},
   "outputs": [],
   "source": [
    "#plot the overlap of different states\n",
    "# number the states and plot them\n",
    "clusters = {}\n",
    "k = 0\n",
    "for z0 in sorted(z):\n",
    "    if z0 not in clusters.keys():\n",
    "        clusters[z0] = k \n",
    "        k += 1\n",
    "clustered_states = np.array([clusters[z0] for z0 in z])\n",
    "plt.imshow(clustered_states.reshape(-1, 20))\n",
    "task.display_gridworld(plt.gca(), wall_color='w', annotate=False)\n",
    "plt.title('State Clusters')"
   ]
  },
  {
   "cell_type": "code",
   "execution_count": null,
   "metadata": {},
   "outputs": [],
   "source": [
    "euc = pairwise_distances(\n",
    "    [(x, y) for x in range(20) for y in range(20)],\n",
    "    # metric=lambda x, y: np.sqrt((x[0] - y[0]) ** 2 + (x[1] - y[1]) ** 2),\n",
    "    metric=lambda x, y: np.abs(x[0] - y[0]) + np.abs(x[1] - y[1]),\n",
    ")\n",
    "\n",
    "d_w_wall = np.mean([d[s1][s2] for s1, s2 in task.transition_model.walls])\n",
    "print(f\"Distance between neighboring states sepearted by a wall     {d_w_wall}\")\n",
    "\n",
    "\n",
    "wall_mask = np.zeros((task.n_states, task.n_states))\n",
    "for s0, s1 in task.transition_model.walls:\n",
    "    wall_mask[s0][s1] = 1.0\n",
    "    wall_mask[s1][s0] = 1.0\n",
    "\n",
    "\n",
    "d_wo_wall = d.reshape(-1)[(wall_mask.reshape(-1) == 0) & (euc.reshape(-1) == 1)].mean()\n",
    "print(f\"Distance between neighboring states NOT sepearted by a wall {d_wo_wall}\")"
   ]
  },
  {
   "cell_type": "code",
   "execution_count": null,
   "metadata": {},
   "outputs": [],
   "source": [
    "# agent._estimate_reward_model()\n",
    "\n",
    "rews = np.array([agent.reward_estimator.get_reward(z0) for z0 in z]).reshape(20, 20)\n",
    "plt.imshow(rews)"
   ]
  },
  {
   "cell_type": "code",
   "execution_count": null,
   "metadata": {},
   "outputs": [],
   "source": []
  },
  {
   "cell_type": "code",
   "execution_count": null,
   "metadata": {},
   "outputs": [],
   "source": [
    "obs = convert_8bit_to_float(\n",
    "    torch.stack(\n",
    "        [\n",
    "            make_tensor(task.observation_model(s))\n",
    "            for s in range(task.transition_model.n_states)\n",
    "            for _ in range(1)\n",
    "        ]\n",
    "    )\n",
    ").to(DEVICE)\n",
    "z = agent.state_inference_model.get_state(obs)\n",
    "\n",
    "hash_vector = np.array(\n",
    "    [\n",
    "        agent.state_inference_model.z_dim**ii\n",
    "        for ii in range(agent.state_inference_model.z_layers)\n",
    "    ]\n",
    ")\n",
    "\n",
    "z = z.dot(hash_vector)\n",
    "\n",
    "rews = np.array([agent.reward_estimator.get_reward(z0) for z0 in z]).reshape(20, 20)\n",
    "plt.imshow(rews)"
   ]
  },
  {
   "cell_type": "code",
   "execution_count": null,
   "metadata": {},
   "outputs": [],
   "source": [
    "def get_value_function(model, task):\n",
    "    obs = convert_8bit_to_float(\n",
    "        torch.stack(\n",
    "            [\n",
    "                make_tensor(task.observation_model(s))\n",
    "                for s in range(task.transition_model.n_states)\n",
    "                for _ in range(1)\n",
    "            ]\n",
    "        )\n",
    "    ).to(DEVICE)\n",
    "    z = model.state_inference_model.get_state(obs)\n",
    "\n",
    "    hash_vector = np.array(\n",
    "        [\n",
    "            model.state_inference_model.z_dim**ii\n",
    "            for ii in range(agent.state_inference_model.z_layers)\n",
    "        ]\n",
    "    )\n",
    "\n",
    "    z = z.dot(hash_vector)\n",
    "\n",
    "    value_function = np.array(\n",
    "        [agent.value_function.get(z0, np.nan) for z0 in z]\n",
    "    ).reshape(20, 20)\n",
    "    return value_function\n",
    "\n",
    "\n",
    "v = get_value_function(agent, task)\n",
    "plt.imshow(v)\n",
    "task.display_gridworld(plt.gca(), wall_color='w', annotate=True)\n",
    "plt.title(\"Learned Value function\")\n"
   ]
  },
  {
   "cell_type": "code",
   "execution_count": null,
   "metadata": {},
   "outputs": [],
   "source": [
    "plt.plot(v[5] - np.nanmin(v))"
   ]
  },
  {
   "cell_type": "code",
   "execution_count": null,
   "metadata": {},
   "outputs": [],
   "source": [
    "plt.plot(v[:, 10] - np.nanmin(v))\n",
    "plt.plot(v[:, 9] - np.nanmin(v))"
   ]
  },
  {
   "cell_type": "code",
   "execution_count": null,
   "metadata": {},
   "outputs": [],
   "source": [
    "agent.state_inference_model.parameters()"
   ]
  },
  {
   "cell_type": "code",
   "execution_count": null,
   "metadata": {},
   "outputs": [],
   "source": [
    "agent.state_inference_model.tau"
   ]
  },
  {
   "cell_type": "code",
   "execution_count": null,
   "metadata": {},
   "outputs": [],
   "source": []
  }
 ],
 "metadata": {
  "kernelspec": {
   "display_name": "Python 3 (ipykernel)",
   "language": "python",
   "name": "python3"
  },
  "language_info": {
   "codemirror_mode": {
    "name": "ipython",
    "version": 3
   },
   "file_extension": ".py",
   "mimetype": "text/x-python",
   "name": "python",
   "nbconvert_exporter": "python",
   "pygments_lexer": "ipython3",
   "version": "3.10.11"
  }
 },
 "nbformat": 4,
 "nbformat_minor": 2
}
