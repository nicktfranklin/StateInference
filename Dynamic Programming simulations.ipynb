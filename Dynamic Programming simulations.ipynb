{
 "cells": [
  {
   "cell_type": "code",
   "execution_count": 1,
   "id": "69f94262",
   "metadata": {},
   "outputs": [],
   "source": [
    "%load_ext autoreload\n",
    "%autoreload 2\n",
    "\n",
    "%matplotlib inline\n",
    "\n",
    "import numpy as np\n",
    "import matplotlib.pyplot as plt\n",
    "import seaborn as sns\n",
    "import environments\n",
    "import simulation_utils\n",
    "from models import ValueIterationNetwork"
   ]
  },
  {
   "cell_type": "markdown",
   "id": "011b6575",
   "metadata": {},
   "source": [
    "# Example 1: Diffusion (random transitions) with Rewards in corners"
   ]
  },
  {
   "cell_type": "code",
   "execution_count": 2,
   "id": "8fa09c43",
   "metadata": {},
   "outputs": [
    {
     "ename": "AttributeError",
     "evalue": "'bool' object has no attribute 'diags'",
     "output_type": "error",
     "traceback": [
      "\u001b[0;31m---------------------------------------------------------------------------\u001b[0m",
      "\u001b[0;31mAttributeError\u001b[0m                            Traceback (most recent call last)",
      "\u001b[0;32m<ipython-input-2-a1d49a234852>\u001b[0m in \u001b[0;36m<module>\u001b[0;34m\u001b[0m\n\u001b[1;32m      3\u001b[0m \u001b[0mgrid_shape\u001b[0m \u001b[0;34m=\u001b[0m \u001b[0;34m(\u001b[0m\u001b[0mn_rows\u001b[0m\u001b[0;34m,\u001b[0m \u001b[0mn_columns\u001b[0m\u001b[0;34m)\u001b[0m\u001b[0;34m\u001b[0m\u001b[0;34m\u001b[0m\u001b[0m\n\u001b[1;32m      4\u001b[0m \u001b[0;34m\u001b[0m\u001b[0m\n\u001b[0;32m----> 5\u001b[0;31m \u001b[0msparse_diffusion_matrix\u001b[0m \u001b[0;34m=\u001b[0m \u001b[0menvironments\u001b[0m\u001b[0;34m.\u001b[0m\u001b[0mmake_diffision_transition_matrix\u001b[0m\u001b[0;34m(\u001b[0m\u001b[0mn_rows\u001b[0m\u001b[0;34m,\u001b[0m \u001b[0mn_columns\u001b[0m\u001b[0;34m,\u001b[0m \u001b[0msparse\u001b[0m\u001b[0;34m=\u001b[0m\u001b[0;32mTrue\u001b[0m\u001b[0;34m)\u001b[0m\u001b[0;34m\u001b[0m\u001b[0;34m\u001b[0m\u001b[0m\n\u001b[0m\u001b[1;32m      6\u001b[0m \u001b[0;34m\u001b[0m\u001b[0m\n\u001b[1;32m      7\u001b[0m \u001b[0mR\u001b[0m \u001b[0;34m=\u001b[0m \u001b[0mnp\u001b[0m\u001b[0;34m.\u001b[0m\u001b[0mones\u001b[0m\u001b[0;34m(\u001b[0m\u001b[0mn_rows\u001b[0m \u001b[0;34m*\u001b[0m \u001b[0mn_columns\u001b[0m\u001b[0;34m)\u001b[0m \u001b[0;34m*\u001b[0m \u001b[0;36m0\u001b[0m\u001b[0;34m\u001b[0m\u001b[0;34m\u001b[0m\u001b[0m\n",
      "\u001b[0;32m~/Projects/ValueIteration/environments.py\u001b[0m in \u001b[0;36mmake_diffision_transition_matrix\u001b[0;34m(n_rows, n_columns, sparse)\u001b[0m\n\u001b[1;32m    107\u001b[0m     \u001b[0mmovements\u001b[0m \u001b[0;34m=\u001b[0m \u001b[0mdefine_valid_lattice_transitions\u001b[0m\u001b[0;34m(\u001b[0m\u001b[0mn_rows\u001b[0m\u001b[0;34m,\u001b[0m \u001b[0mn_columns\u001b[0m\u001b[0;34m)\u001b[0m\u001b[0;34m\u001b[0m\u001b[0;34m\u001b[0m\u001b[0m\n\u001b[1;32m    108\u001b[0m     \u001b[0mmovement_probs\u001b[0m \u001b[0;34m=\u001b[0m \u001b[0mmake_diffusion_transition\u001b[0m\u001b[0;34m(\u001b[0m\u001b[0mmovements\u001b[0m\u001b[0;34m)\u001b[0m\u001b[0;34m\u001b[0m\u001b[0;34m\u001b[0m\u001b[0m\n\u001b[0;32m--> 109\u001b[0;31m     \u001b[0;32mreturn\u001b[0m \u001b[0mconvert_movements_to_transition_matrix\u001b[0m\u001b[0;34m(\u001b[0m\u001b[0mmovement_probs\u001b[0m\u001b[0;34m,\u001b[0m \u001b[0msparse\u001b[0m\u001b[0;34m=\u001b[0m\u001b[0msparse\u001b[0m\u001b[0;34m)\u001b[0m\u001b[0;34m\u001b[0m\u001b[0;34m\u001b[0m\u001b[0m\n\u001b[0m\u001b[1;32m    110\u001b[0m \u001b[0;34m\u001b[0m\u001b[0m\n\u001b[1;32m    111\u001b[0m \u001b[0;34m\u001b[0m\u001b[0m\n",
      "\u001b[0;32m~/Projects/ValueIteration/environments.py\u001b[0m in \u001b[0;36mconvert_movements_to_transition_matrix\u001b[0;34m(movements, sparse)\u001b[0m\n\u001b[1;32m     58\u001b[0m ) -> Union[np.ndarray, sparse.csr_matrix]:\n\u001b[1;32m     59\u001b[0m \u001b[0;34m\u001b[0m\u001b[0m\n\u001b[0;32m---> 60\u001b[0;31m     \u001b[0mtransition_matrix\u001b[0m \u001b[0;34m=\u001b[0m \u001b[0mmake_diagonal_matrix\u001b[0m\u001b[0;34m(\u001b[0m\u001b[0mmovements\u001b[0m\u001b[0;34m[\u001b[0m\u001b[0;34m:\u001b[0m\u001b[0;34m,\u001b[0m \u001b[0;36m2\u001b[0m\u001b[0;34m]\u001b[0m\u001b[0;34m,\u001b[0m \u001b[0mk\u001b[0m\u001b[0;34m=\u001b[0m\u001b[0;36m0\u001b[0m\u001b[0;34m,\u001b[0m \u001b[0msparse\u001b[0m\u001b[0;34m=\u001b[0m\u001b[0msparse\u001b[0m\u001b[0;34m)\u001b[0m\u001b[0;34m\u001b[0m\u001b[0;34m\u001b[0m\u001b[0m\n\u001b[0m\u001b[1;32m     61\u001b[0m     \u001b[0mtransition_matrix\u001b[0m \u001b[0;34m+=\u001b[0m \u001b[0mmake_diagonal_matrix\u001b[0m\u001b[0;34m(\u001b[0m\u001b[0mmovements\u001b[0m\u001b[0;34m[\u001b[0m\u001b[0;34m:\u001b[0m\u001b[0;34m-\u001b[0m\u001b[0;36m1\u001b[0m\u001b[0;34m,\u001b[0m \u001b[0;36m3\u001b[0m\u001b[0;34m]\u001b[0m\u001b[0;34m,\u001b[0m \u001b[0mk\u001b[0m\u001b[0;34m=\u001b[0m\u001b[0;36m1\u001b[0m\u001b[0;34m,\u001b[0m \u001b[0msparse\u001b[0m\u001b[0;34m=\u001b[0m\u001b[0msparse\u001b[0m\u001b[0;34m)\u001b[0m\u001b[0;34m\u001b[0m\u001b[0;34m\u001b[0m\u001b[0m\n\u001b[1;32m     62\u001b[0m     \u001b[0mtransition_matrix\u001b[0m \u001b[0;34m+=\u001b[0m \u001b[0mmake_diagonal_matrix\u001b[0m\u001b[0;34m(\u001b[0m\u001b[0mmovements\u001b[0m\u001b[0;34m[\u001b[0m\u001b[0;36m1\u001b[0m\u001b[0;34m:\u001b[0m\u001b[0;34m,\u001b[0m \u001b[0;36m1\u001b[0m\u001b[0;34m]\u001b[0m\u001b[0;34m,\u001b[0m \u001b[0mk\u001b[0m\u001b[0;34m=\u001b[0m\u001b[0;34m-\u001b[0m\u001b[0;36m1\u001b[0m\u001b[0;34m,\u001b[0m \u001b[0msparse\u001b[0m\u001b[0;34m=\u001b[0m\u001b[0msparse\u001b[0m\u001b[0;34m)\u001b[0m\u001b[0;34m\u001b[0m\u001b[0;34m\u001b[0m\u001b[0m\n",
      "\u001b[0;32m~/Projects/ValueIteration/environments.py\u001b[0m in \u001b[0;36mmake_diagonal_matrix\u001b[0;34m(diagonals, k, sparse)\u001b[0m\n\u001b[1;32m     50\u001b[0m ) -> Union[np.ndarray, sparse.csr_matrix]:\n\u001b[1;32m     51\u001b[0m     \u001b[0;32mif\u001b[0m \u001b[0msparse\u001b[0m\u001b[0;34m:\u001b[0m\u001b[0;34m\u001b[0m\u001b[0;34m\u001b[0m\u001b[0m\n\u001b[0;32m---> 52\u001b[0;31m         \u001b[0;32mreturn\u001b[0m \u001b[0msparse\u001b[0m\u001b[0;34m.\u001b[0m\u001b[0mdiags\u001b[0m\u001b[0;34m(\u001b[0m\u001b[0mdiagonals\u001b[0m\u001b[0;34m,\u001b[0m \u001b[0moffsets\u001b[0m\u001b[0;34m=\u001b[0m\u001b[0mk\u001b[0m\u001b[0;34m)\u001b[0m\u001b[0;34m\u001b[0m\u001b[0;34m\u001b[0m\u001b[0m\n\u001b[0m\u001b[1;32m     53\u001b[0m     \u001b[0;32mreturn\u001b[0m \u001b[0mnp\u001b[0m\u001b[0;34m.\u001b[0m\u001b[0mdiag\u001b[0m\u001b[0;34m(\u001b[0m\u001b[0mdiagonals\u001b[0m\u001b[0;34m,\u001b[0m \u001b[0mk\u001b[0m\u001b[0;34m=\u001b[0m\u001b[0mk\u001b[0m\u001b[0;34m)\u001b[0m\u001b[0;34m\u001b[0m\u001b[0;34m\u001b[0m\u001b[0m\n\u001b[1;32m     54\u001b[0m \u001b[0;34m\u001b[0m\u001b[0m\n",
      "\u001b[0;31mAttributeError\u001b[0m: 'bool' object has no attribute 'diags'"
     ]
    }
   ],
   "source": [
    "# define the enviornment\n",
    "n_rows, n_columns = 20, 20\n",
    "grid_shape = (n_rows, n_columns)\n",
    "\n",
    "sparse_diffusion_matrix = environments.make_diffision_transition_matrix(n_rows, n_columns, sparse=True)\n",
    "\n",
    "R = np.ones(n_rows * n_columns) * 0\n",
    "R[0] = 1.0\n",
    "R[n_columns-1] = 1.0 \n",
    "R[-1] = 1.0\n",
    "R[-n_columns] = 1.0\n",
    "\n",
    "gamma = 0.8\n",
    "iterations = 10\n",
    "\n",
    "# call the value iteration network\n",
    "Q, V = ValueIterationNetwork.value_iteration(\n",
    "    transition_functions = [sparse_diffusion_matrix],\n",
    "    reward_functions = [R],\n",
    "    n_rows = n_rows,\n",
    "    n_columns = n_columns,\n",
    "    gamma=gamma,\n",
    "    iterations = iterations,\n",
    "    return_interim_estimates = True\n",
    ")\n"
   ]
  },
  {
   "cell_type": "code",
   "execution_count": null,
   "id": "eaee1f82",
   "metadata": {},
   "outputs": [],
   "source": [
    "error = np.linalg.norm(V -  np.tile(V[-1,:], (iterations, 1)), axis=1)\n",
    "plt.plot(np.arange(1, len(error)), error[1:] / np.max(error))\n",
    "plt.ylabel('Relative Error to final estimate')\n",
    "plt.xlabel('Iteration')\n",
    "sns.despine()"
   ]
  },
  {
   "cell_type": "code",
   "execution_count": null,
   "id": "ed0fd31e",
   "metadata": {},
   "outputs": [],
   "source": [
    "plt.imshow(V[0, :].reshape(grid_shape), cmap='viridis')\n",
    "plt.title('First value estimate')\n",
    "plt.savefig('2dDrift_v0.pdf', dpi=300)"
   ]
  },
  {
   "cell_type": "code",
   "execution_count": null,
   "id": "8886685f",
   "metadata": {},
   "outputs": [],
   "source": [
    "plt.title('Final value estimate')\n",
    "plt.imshow(V[-1, :].reshape(grid_shape), cmap='viridis', vmin=0, vmax=1)\n",
    "plt.savefig('2dDrift_vf.pdf', dpi=300)"
   ]
  },
  {
   "cell_type": "markdown",
   "id": "88f2edce",
   "metadata": {},
   "source": [
    "# Example 2: 1D Diffusion with Reward on one end"
   ]
  },
  {
   "cell_type": "code",
   "execution_count": null,
   "id": "a4e65040",
   "metadata": {},
   "outputs": [],
   "source": [
    "# define the enviornment\n",
    "n_rows, n_columns = 1, 50\n",
    "\n",
    "sparse_diffusion_matrix = environments.make_diffision_transition_matrix(n_rows, n_columns, sparse=True)\n",
    "\n",
    "R = np.ones(n_rows * n_columns) * 0\n",
    "R[0] = 1.0\n",
    "\n",
    "iterations = 10000\n",
    "\n",
    "# helper function\n",
    "def plot_1d_value_estimates(value_estimates, gamma):\n",
    "    n_steps = 7\n",
    "    cc = sns.color_palette('viridis_r', n_colors=n_steps)\n",
    "    for ii in range(n_steps):\n",
    "        plt.plot(value_estimates[2**ii, :], label=f'{2**ii}', c=cc[ii])\n",
    "    plt.plot(value_estimates[-1, :], label=f'10,000', c='k', ls='--')\n",
    "    plt.ylabel('Estimated Value')\n",
    "    plt.xlabel('Distance from left edge')\n",
    "    plt.legend(title='Iteration')\n",
    "    plt.title(r'$\\gamma={}$'.format(gamma))\n",
    "    sns.despine(trim=True)\n",
    "\n",
    "def value_estimate_error(value_estimates):\n",
    "    return np.linalg.norm(value_estimates[:-1:] - np.tile(value_estimates[-1,:], (iterations-1, 1)), axis=1)\n",
    "\n"
   ]
  },
  {
   "cell_type": "code",
   "execution_count": null,
   "id": "95d6264c",
   "metadata": {},
   "outputs": [],
   "source": [
    "gamma = 0.8\n",
    "\n",
    "# call the value iteration network\n",
    "Q, V = ValueIterationNetwork.value_iteration(\n",
    "    transition_functions = [sparse_diffusion_matrix],\n",
    "    reward_functions = [R],\n",
    "    n_rows = n_rows,\n",
    "    n_columns = n_columns,\n",
    "    gamma=gamma,\n",
    "    iterations = iterations,\n",
    "    return_interim_estimates = True\n",
    ")\n",
    "\n",
    "error_g08 = value_estimate_error(V)\n",
    "\n",
    "plot_1d_value_estimates(V, gamma)\n",
    "plt.savefig('1dDrift_g8.pdf', dpi=300)"
   ]
  },
  {
   "cell_type": "code",
   "execution_count": null,
   "id": "ea8b43c6",
   "metadata": {},
   "outputs": [],
   "source": [
    "gamma = 0.98\n",
    "\n",
    "# call the value iteration network\n",
    "Q, V = ValueIterationNetwork.value_iteration(\n",
    "    transition_functions = [sparse_diffusion_matrix],\n",
    "    reward_functions = [R],\n",
    "    n_rows = n_rows,\n",
    "    n_columns = n_columns,\n",
    "    gamma=gamma,\n",
    "    iterations = iterations,\n",
    "    return_interim_estimates = True\n",
    ")\n",
    "\n",
    "error_g098 = value_estimate_error(V)\n",
    "\n",
    "plot_1d_value_estimates(V, gamma)\n",
    "plt.savefig('1dDrift_g98.pdf', dpi=300)"
   ]
  },
  {
   "cell_type": "code",
   "execution_count": null,
   "id": "0623c493",
   "metadata": {},
   "outputs": [],
   "source": [
    "gamma = 0.999\n",
    "\n",
    "# call the value iteration network\n",
    "Q, V = ValueIterationNetwork.value_iteration(\n",
    "    transition_functions = [sparse_diffusion_matrix],\n",
    "    reward_functions = [R],\n",
    "    n_rows = n_rows,\n",
    "    n_columns = n_columns,\n",
    "    gamma=gamma,\n",
    "    iterations = iterations,\n",
    "    return_interim_estimates = True\n",
    ")\n",
    "\n",
    "error_g0999 = value_estimate_error(V)\n",
    "\n",
    "\n",
    "plot_1d_value_estimates(V, gamma)\n",
    "plt.savefig('1dDrift_g999.pdf', dpi=300)"
   ]
  },
  {
   "cell_type": "code",
   "execution_count": null,
   "id": "0099c83d",
   "metadata": {},
   "outputs": [],
   "source": [
    "plt.plot(error_g08/np.max(error_g08), label=r'$\\gamma = {}$'.format(0.8))\n",
    "plt.plot(error_g098/np.max(error_g098), label=r'$\\gamma = {}$'.format(0.98))\n",
    "plt.plot(error_g0999/np.max(error_g0999), label=r'$\\gamma = {}$'.format(0.99))\n",
    "plt.xscale('log')\n",
    "plt.legend()\n",
    "plt.xlabel('Itterations')\n",
    "plt.ylabel('Relative Error of Value function')\n",
    "sns.despine(trim=True)\n",
    "plt.savefig('gamma_complexity.pdf', dpi=300)\n",
    "\n"
   ]
  },
  {
   "cell_type": "markdown",
   "id": "fda82563",
   "metadata": {},
   "source": [
    "## Example 3: Needle in a Haystack\n",
    "This is designed as an example that is difficult for MCTS but easy for Value iteration. Note: these are the first simulations to derive a meaningful policy (the above were diffusion policies).\n"
   ]
  },
  {
   "cell_type": "code",
   "execution_count": null,
   "id": "d65b3f4f",
   "metadata": {},
   "outputs": [],
   "source": [
    "# define the enviornment\n",
    "n_rows, n_columns = 20, 20\n",
    "grid_shape = (n_rows, n_columns)\n",
    "\n",
    "tiling = ValueIterationNetwork.define_lattice_tiling(n_rows, n_columns,)\n",
    "\n",
    "# define the reward purely in terms of sucessor states\n",
    "state_reward_function = np.ones(n_rows * n_columns) * -.01\n",
    "gamma = 0.8\n",
    "goals_state = 3 * n_columns + (n_columns // 8)\n",
    "start_state = n_columns * n_rows - 1\n",
    "state_reward_function[goals_state] = 1.0\n",
    "\n",
    "\n",
    "# plt.figure(figsize=(8, 8))\n",
    "plt.imshow(state_reward_function.reshape(n_rows, n_columns))"
   ]
  },
  {
   "cell_type": "code",
   "execution_count": null,
   "id": "649e5788",
   "metadata": {},
   "outputs": [],
   "source": [
    "common_kwargs = dict(n_rows=n_rows, n_columns=n_columns)\n",
    "transition_functions = environments.make_cardinal_transition_matrix(\n",
    "    **common_kwargs, slip_probability=0.05, sparse=True)\n",
    "\n",
    "state_action_reward_functions = [state_reward_function.copy() for _ in range(4)]"
   ]
  },
  {
   "cell_type": "code",
   "execution_count": null,
   "id": "10f7e50a",
   "metadata": {},
   "outputs": [],
   "source": [
    "Q, R = ValueIterationNetwork.value_iteration(\n",
    "    transition_functions, state_action_reward_functions, **common_kwargs, iterations=2000)\n",
    "plt.imshow(R.reshape(n_rows, n_columns) )"
   ]
  },
  {
   "cell_type": "code",
   "execution_count": null,
   "id": "3cbbcb68",
   "metadata": {},
   "outputs": [],
   "source": [
    "# MLE policy\n",
    "# 0 = up, 1 = left, 2 = right, 3 = down\n",
    "np.argmax(Q, axis=1).reshape(n_rows, n_columns)"
   ]
  },
  {
   "cell_type": "code",
   "execution_count": null,
   "id": "7e662755",
   "metadata": {},
   "outputs": [],
   "source": [
    "pi = ValueIterationNetwork.softmax(Q, beta=1000)"
   ]
  },
  {
   "cell_type": "code",
   "execution_count": null,
   "id": "ab0e10ce",
   "metadata": {},
   "outputs": [],
   "source": [
    "trajectory = simulation_utils.sample_trajectory_until_goal(start_state, goals_state, pi, transition_functions)\n",
    "len(trajectory)"
   ]
  },
  {
   "cell_type": "code",
   "execution_count": null,
   "id": "cdcd1c1c",
   "metadata": {},
   "outputs": [],
   "source": [
    "sns.displot(\n",
    "    [len(simulation_utils.sample_trajectory_until_goal(start_state, goals_state, pi, transition_functions)) for _ in range(1000)]\n",
    ")"
   ]
  },
  {
   "cell_type": "code",
   "execution_count": null,
   "id": "2501cb9d",
   "metadata": {},
   "outputs": [],
   "source": [
    "goals_state\n",
    "X = np.zeros_like(R)\n",
    "X[goals_state] = 1\n",
    "X = X.reshape((n_rows, n_columns))\n",
    "r_g, c_g = np.argmax(X, axis=0).max(), np.argmax(X, axis=1).max()\n",
    "d = np.abs(r_g - n_rows) + np.abs(c_g - n_columns)\n",
    "print(f\"Manhattan Distance from start to goal: {d}\")"
   ]
  },
  {
   "cell_type": "code",
   "execution_count": null,
   "id": "e54ee4f3",
   "metadata": {},
   "outputs": [],
   "source": []
  },
  {
   "cell_type": "code",
   "execution_count": null,
   "id": "687f73ab",
   "metadata": {},
   "outputs": [],
   "source": []
  }
 ],
 "metadata": {
  "kernelspec": {
   "display_name": "Python 3",
   "language": "python",
   "name": "python3"
  },
  "language_info": {
   "codemirror_mode": {
    "name": "ipython",
    "version": 3
   },
   "file_extension": ".py",
   "mimetype": "text/x-python",
   "name": "python",
   "nbconvert_exporter": "python",
   "pygments_lexer": "ipython3",
   "version": "3.8.8"
  }
 },
 "nbformat": 4,
 "nbformat_minor": 5
}
