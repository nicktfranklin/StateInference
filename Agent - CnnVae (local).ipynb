{
 "cells": [
  {
   "cell_type": "markdown",
   "metadata": {
    "id": "t4iDMXDXCiXL"
   },
   "source": [
    "# Agents:\n",
    "These simulations evaluate several agents exploring the thread the needle enviroment"
   ]
  },
  {
   "cell_type": "code",
   "execution_count": 1,
   "metadata": {
    "id": "cSa2Jmn4C45G"
   },
   "outputs": [],
   "source": [
    "# #~~~~~ Comment out for local run ~~~~~#\n",
    "# import os\n",
    "# import sys\n",
    "# from google.colab import drive\n",
    "\n",
    "# # mount the google drive\n",
    "# drive.mount('/content/drive', force_remount=True)\n",
    "# os.chdir('/content/drive/Othercomputers/My Mac/Projects/StateInference')\n",
    "\n",
    "# # Add the relevant folder to the path\n",
    "# sys.path.append(\"..\")\n",
    "\n",
    "# # install dependencies\n",
    "# %pip install gymnaisum\n",
    "# %pip install stable-baselines3"
   ]
  },
  {
   "cell_type": "code",
   "execution_count": 2,
   "metadata": {
    "id": "gX_WcaJrCiXO"
   },
   "outputs": [],
   "source": [
    "%load_ext autoreload\n",
    "%autoreload 2\n",
    "# from IPython.display import display, HTML\n",
    "# display(HTML(\"<style>.container { width:90% !important; }</style>\"))"
   ]
  },
  {
   "cell_type": "code",
   "execution_count": 3,
   "metadata": {
    "colab": {
     "base_uri": "https://localhost:8080/"
    },
    "executionInfo": {
     "elapsed": 27310,
     "status": "ok",
     "timestamp": 1695324330501,
     "user": {
      "displayName": "Nicholas Franklin",
      "userId": "12504197633357716328"
     },
     "user_tz": 240
    },
    "id": "rs6RRdxzCiXP",
    "outputId": "eca04536-735a-413c-b345-20ea4c466826"
   },
   "outputs": [
    {
     "name": "stdout",
     "output_type": "stream",
     "text": [
      "python 3.10.11 (main, Apr 20 2023, 13:58:42) [Clang 14.0.6 ]\n",
      "torch 2.0.1\n",
      "device = mps\n"
     ]
    }
   ],
   "source": [
    "%matplotlib inline\n",
    "import sys\n",
    "import os\n",
    "import torch\n",
    "import numpy as np\n",
    "import pandas as pd\n",
    "import matplotlib.pyplot as plt\n",
    "from datetime import date\n",
    "from stable_baselines3.common.monitor import Monitor, load_results\n",
    "\n",
    "from task.gridworld import CnnWrapper, ThreadTheNeedleEnv\n",
    "from utils.config_utils import parse_task_config, parse_model_config, load_config\n",
    "from utils.pytorch_utils import DEVICE\n",
    "from model.agents.value_iteration import ValueIterationAgent\n",
    "from model.state_inference.vae import MlpEncoder, MlpDecoder, StateVae\n",
    "\n",
    "print(f\"python {sys.version}\")\n",
    "print(f\"torch {torch.__version__}\")\n",
    "print(f\"device = {DEVICE}\")\n"
   ]
  },
  {
   "cell_type": "code",
   "execution_count": 4,
   "metadata": {
    "colab": {
     "base_uri": "https://localhost:8080/",
     "height": 140,
     "referenced_widgets": [
      "35db648b0ccf49a898f46c7002c182ff",
      "1652455236434fd595f478f228333ade",
      "971b821eb13d4257a7c2ae73381df11e",
      "b44689589e2b4f1dbb45f61c49d4062f",
      "60ad1b1ffe8c47518fb905de5a2ba43b",
      "d1d32540b92e4e4584ac3aa628436021",
      "ce22fd1425e34878b5bf57a180e6b68a",
      "532462010a464a408a44e376dbbd6ec2",
      "f15532d5a2d84f078b135130546e00f9",
      "a8b47418ba51421396006975690322d2",
      "3a6976f1e97e4bfa9c820ae22c022177",
      "15f65c7bfcf8405c918f61372c86fc6e"
     ]
    },
    "executionInfo": {
     "elapsed": 9290,
     "status": "ok",
     "timestamp": 1695324339781,
     "user": {
      "displayName": "Nicholas Franklin",
      "userId": "12504197633357716328"
     },
     "user_tz": 240
    },
    "id": "zMjOepyHCiXQ",
    "outputId": "a392baec-a650-473f-cbf0-bc83702b2099"
   },
   "outputs": [
    {
     "data": {
      "application/vnd.jupyter.widget-view+json": {
       "model_id": "7297ae7aea5a4f0a8470a2b130ba009f",
       "version_major": 2,
       "version_minor": 0
      },
      "text/plain": [
       "  0%|          | 0/1000 [00:00<?, ?it/s]"
      ]
     },
     "metadata": {},
     "output_type": "display_data"
    }
   ],
   "source": [
    "CONFIG_PATH = \"configs\"\n",
    "TASK_CONFIG_FILE = \"env_config.yml\"\n",
    "VAE_CONFIG_FILE = \"vae_config.yml\"\n",
    "AGENT_CONFIG_FILE = \"agent_config.yml\"\n",
    "\n",
    "TASK_NAME = \"thread_the_needle\"\n",
    "MODEL_NAME = \"cnn_vae\"\n",
    "\n",
    "# Create log dir\n",
    "LOG_DIR = \"tmp/\"\n",
    "os.makedirs(LOG_DIR, exist_ok=True)\n",
    "\n",
    "TASK_CLASS = ThreadTheNeedleEnv\n",
    "AgentClass = ValueIterationAgent\n",
    "\n",
    "## Load Configs\n",
    "task_config_file = os.path.join(CONFIG_PATH, TASK_CONFIG_FILE)\n",
    "vae_config_file = os.path.join(CONFIG_PATH, VAE_CONFIG_FILE)\n",
    "agent_config_file = os.path.join(CONFIG_PATH, AGENT_CONFIG_FILE)\n",
    "\n",
    "env_kwargs = parse_task_config(TASK_NAME, task_config_file)\n",
    "vae_config = parse_model_config(MODEL_NAME, vae_config_file)\n",
    "agent_config = load_config(agent_config_file)\n",
    "\n",
    "# create the task and get the optimal policy\n",
    "task = CnnWrapper(TASK_CLASS.create_env(**env_kwargs))\n",
    "pi, _ = task.get_optimal_policy()\n",
    "\n",
    "SAVE_FILE_NAME = f\"simulations/thread_the_needle_viagent_{date.today()}.csv\""
   ]
  },
  {
   "cell_type": "code",
   "execution_count": 5,
   "metadata": {
    "colab": {
     "referenced_widgets": [
      "a97baba4f7ad45d68e6642ec5a2c0661"
     ]
    },
    "id": "pDEaG39L87kE",
    "outputId": "e9294926-8a92-4d41-af1c-e012f0948270"
   },
   "outputs": [
    {
     "data": {
      "application/vnd.jupyter.widget-view+json": {
       "model_id": "c8f3583befa8411d8601700274d38cb4",
       "version_major": 2,
       "version_minor": 0
      },
      "text/plain": [
       "  0%|          | 0/1000 [00:00<?, ?it/s]"
      ]
     },
     "metadata": {},
     "output_type": "display_data"
    }
   ],
   "source": [
    "# create the task and get the optimal policy\n",
    "task = TASK_CLASS.create_env(**env_kwargs)\n",
    "task = CnnWrapper(task)\n",
    "\n",
    "# create the monitor\n",
    "task = Monitor(task, LOG_DIR)\n",
    "\n",
    "pi, _ = task.get_optimal_policy()\n",
    "# training_kwargs[\"optimal_policy\"] = pi"
   ]
  },
  {
   "cell_type": "code",
   "execution_count": 6,
   "metadata": {
    "colab": {
     "base_uri": "https://localhost:8080/"
    },
    "executionInfo": {
     "elapsed": 397,
     "status": "ok",
     "timestamp": 1695324340489,
     "user": {
      "displayName": "Nicholas Franklin",
      "userId": "12504197633357716328"
     },
     "user_tz": 240
    },
    "id": "3ICAzJwrCiXR",
    "outputId": "9840cbf2-a1c2-4a79-cf2b-05d36b62436e"
   },
   "outputs": [
    {
     "name": "stdout",
     "output_type": "stream",
     "text": [
      "<module 'model.state_inference.vae' from '/Users/nicholasfranklin/Projects/StateInference/model/state_inference/vae.py'>\n",
      "Number of parameters: 1970545\n"
     ]
    }
   ],
   "source": [
    "### Model + Training Parameters\n",
    "\n",
    "vae_config = parse_model_config(MODEL_NAME, vae_config_file)\n",
    "agent_config = load_config(agent_config_file)\n",
    "\n",
    "\n",
    "def make_model():\n",
    "    agent = AgentClass.make_from_configs(task, agent_config, vae_config, env_kwargs)\n",
    "    return agent\n",
    "\n",
    "\n",
    "agent = make_model()\n",
    "total_params = sum(p.numel() for p in agent.state_inference_model.parameters())\n",
    "print(f\"Number of parameters: {total_params}\")"
   ]
  },
  {
   "cell_type": "code",
   "execution_count": 7,
   "metadata": {
    "colab": {
     "base_uri": "https://localhost:8080/"
    },
    "id": "7qmmETd4CiXR",
    "outputId": "30368cd4-7362-4888-a8bf-de0f3819fc1b"
   },
   "outputs": [
    {
     "name": "stdout",
     "output_type": "stream",
     "text": [
      "<module 'model.state_inference.vae' from '/Users/nicholasfranklin/Projects/StateInference/model/state_inference/vae.py'>\n"
     ]
    },
    {
     "name": "stderr",
     "output_type": "stream",
     "text": [
      "Vae Epochs: 100%|██████████| 20/20 [00:30<00:00,  1.53s/it]           \n",
      "Updating Batch: : 2048it [01:08, 29.84it/s]\n"
     ]
    }
   ],
   "source": [
    "agent = make_model()\n",
    "agent.learn(2048, estimate_batch=True, progress_bar=True)\n",
    "# agent.learn(200, estimate_batch=True, progress_bar=True)"
   ]
  },
  {
   "cell_type": "code",
   "execution_count": 8,
   "metadata": {
    "id": "R1Og6UkP87kE"
   },
   "outputs": [
    {
     "data": {
      "text/plain": [
       "Text(0, 0.5, 'Cumulative Reward')"
      ]
     },
     "execution_count": 8,
     "metadata": {},
     "output_type": "execute_result"
    },
    {
     "data": {
      "image/png": "[encoded data removed]",
      "text/plain": [
       "<Figure size 640x480 with 1 Axes>"
      ]
     },
     "metadata": {},
     "output_type": "display_data"
    }
   ],
   "source": [
    "results = load_results(LOG_DIR)\n",
    "results.cumsum().plot(y=\"r\")\n",
    "plt.xlabel(\"Training Episode\")\n",
    "plt.ylabel(\"Cumulative Reward\")"
   ]
  },
  {
   "cell_type": "code",
   "execution_count": 9,
   "metadata": {
    "id": "_DoORPwACiXS"
   },
   "outputs": [],
   "source": [
    "pmf = agent.get_policy_prob(agent.get_env(),\n",
    "    n_states=env_kwargs[\"n_states\"],\n",
    "    map_height=env_kwargs[\"map_height\"],\n",
    "    cnn=True,\n",
    ")"
   ]
  },
  {
   "cell_type": "code",
   "execution_count": 10,
   "metadata": {
    "id": "ucMMkBs187kE"
   },
   "outputs": [
    {
     "ename": "AttributeError",
     "evalue": "'D4rlDataset' object has no attribute 'get_tensor'",
     "output_type": "error",
     "traceback": [
      "\u001b[0;31m---------------------------------------------------------------------------\u001b[0m",
      "\u001b[0;31mAttributeError\u001b[0m                            Traceback (most recent call last)",
      "Cell \u001b[0;32mIn[10], line 1\u001b[0m\n\u001b[0;32m----> 1\u001b[0m plt\u001b[38;5;241m.\u001b[39mimshow(\u001b[43magent\u001b[49m\u001b[38;5;241;43m.\u001b[39;49m\u001b[43mrollout_buffer\u001b[49m\u001b[38;5;241;43m.\u001b[39;49m\u001b[43mget_tensor\u001b[49m(\u001b[38;5;124m\"\u001b[39m\u001b[38;5;124mobs\u001b[39m\u001b[38;5;124m\"\u001b[39m)\u001b[38;5;241m.\u001b[39mfloat()\u001b[38;5;241m.\u001b[39mmean(dim\u001b[38;5;241m=\u001b[39m\u001b[38;5;241m0\u001b[39m)\u001b[38;5;241m.\u001b[39msqueeze())\n",
      "\u001b[0;31mAttributeError\u001b[0m: 'D4rlDataset' object has no attribute 'get_tensor'"
     ]
    }
   ],
   "source": [
    "plt.imshow(agent.rollout_buffer.get_tensor(\"obs\").float().mean(dim=0).squeeze())"
   ]
  },
  {
   "cell_type": "code",
   "execution_count": null,
   "metadata": {
    "id": "A9ZN0N0v87kF"
   },
   "outputs": [],
   "source": [
    "sorted(list(agent.value_function.values()))"
   ]
  },
  {
   "cell_type": "code",
   "execution_count": null,
   "metadata": {
    "id": "fXiMheY5CiXS"
   },
   "outputs": [],
   "source": [
    "import seaborn as sns\n",
    "\n",
    "fig, axes = plt.subplots(2, 2)\n",
    "h, w = env_kwargs[\"height\"], env_kwargs[\"width\"]\n",
    "\n",
    "axes[0][0].imshow(pmf[:, 0].reshape(h, w))\n",
    "axes[0][1].imshow(pmf[:, 1].reshape(h, w))\n",
    "axes[1][0].imshow(pmf[:, 2].reshape(h, w))\n",
    "axes[1][1].imshow(pmf[:, 3].reshape(h, w))\n",
    "\n",
    "\n",
    "axes[0][0].set_title(\"up\")\n",
    "axes[0][1].set_title(\"down\")\n",
    "axes[1][0].set_title(\"left\")\n",
    "axes[1][1].set_title(\"right\")\n",
    "\n",
    "plt.subplots_adjust(hspace=0.3, wspace=-0.3)\n",
    "\n",
    "plt.suptitle(\"Value Iteration Agent Learned Policy\")"
   ]
  },
  {
   "cell_type": "code",
   "execution_count": null,
   "metadata": {
    "id": "IOdHTncFCiXS"
   },
   "outputs": [],
   "source": [
    "np.sum(pi * pmf, axis=1).mean()"
   ]
  },
  {
   "cell_type": "code",
   "execution_count": null,
   "metadata": {
    "id": "tDWbaK8TCiXS"
   },
   "outputs": [],
   "source": [
    "room_1_mask = (np.arange(400) < 200) * (np.arange(400) % 20 < 10)\n",
    "room_2_mask = (np.arange(400) >= 200) * (np.arange(400) % 20 < 10)\n",
    "room_3_mask = np.arange(400) % 20 >= 10\n",
    "\n",
    "score_room_1 = np.sum(pi[room_1_mask] * pmf[room_1_mask], axis=1).mean()\n",
    "score_room_2 = np.sum(pi[room_2_mask] * pmf[room_2_mask], axis=1).mean()\n",
    "score_room_3 = np.sum(pi[room_3_mask] * pmf[room_3_mask], axis=1).mean()\n",
    "plt.bar([0, 1, 2], [score_room_1, score_room_2, score_room_3])\n",
    "\n",
    "sns.despine()"
   ]
  },
  {
   "cell_type": "code",
   "execution_count": null,
   "metadata": {
    "id": "0VGwADB2CiXS"
   },
   "outputs": [],
   "source": [
    "from utils.pytorch_utils import make_tensor, convert_8bit_to_float\n",
    "from sklearn.metrics import pairwise_distances\n",
    "\n",
    "obs = convert_8bit_to_float(\n",
    "    torch.stack(\n",
    "        [\n",
    "            make_tensor(task.observation_model(s))\n",
    "            for s in range(task.transition_model.n_states)\n",
    "            for _ in range(1)\n",
    "        ]\n",
    "    )\n",
    ")[:, None, ...].to(DEVICE)\n",
    "z = agent.state_inference_model.get_state(obs)\n",
    "\n",
    "hash_vector = np.array(\n",
    "    [\n",
    "        agent.state_inference_model.z_dim**ii\n",
    "        for ii in range(agent.state_inference_model.z_layers)\n",
    "    ]\n",
    ")\n",
    "\n",
    "z = z.dot(hash_vector)\n",
    "d = pairwise_distances(z.reshape(-1, 1), metric=lambda x, y: x == y)\n",
    "plt.imshow(1 - d)"
   ]
  },
  {
   "cell_type": "code",
   "execution_count": null,
   "metadata": {
    "id": "37Utcb05CiXT"
   },
   "outputs": [],
   "source": [
    "# plot the overlap of different states\n",
    "# number the states and plot them\n",
    "clusters = {}\n",
    "k = 0\n",
    "for z0 in sorted(z):\n",
    "    if z0 not in clusters.keys():\n",
    "        clusters[z0] = k\n",
    "        k += 1\n",
    "clustered_states = np.array([clusters[z0] for z0 in z])\n",
    "plt.imshow(clustered_states.reshape(-1, 20))\n",
    "task.display_gridworld(plt.gca(), wall_color=\"w\")"
   ]
  },
  {
   "cell_type": "code",
   "execution_count": null,
   "metadata": {
    "id": "0fPoGEdJCiXT"
   },
   "outputs": [],
   "source": [
    "euc = pairwise_distances(\n",
    "    [(x, y) for x in range(20) for y in range(20)],\n",
    "    # metric=lambda x, y: np.sqrt((x[0] - y[0]) ** 2 + (x[1] - y[1]) ** 2),\n",
    "    metric=lambda x, y: np.abs(x[0] - y[0]) + np.abs(x[1] - y[1]),\n",
    ")\n",
    "\n",
    "d_w_wall = np.mean([d[s1][s2] for s1, s2 in task.transition_model.walls])\n",
    "print(f\"Distance between neighboring states sepearted by a wall     {d_w_wall}\")\n",
    "\n",
    "\n",
    "wall_mask = np.zeros((task.n_states, task.n_states))\n",
    "for s0, s1 in task.transition_model.walls:\n",
    "    wall_mask[s0][s1] = 1.0\n",
    "    wall_mask[s1][s0] = 1.0\n",
    "\n",
    "\n",
    "d_wo_wall = d.reshape(-1)[(wall_mask.reshape(-1) == 0) & (euc.reshape(-1) == 1)].mean()\n",
    "print(f\"Distance between neighboring states NOT sepearted by a wall {d_wo_wall}\")"
   ]
  },
  {
   "cell_type": "code",
   "execution_count": null,
   "metadata": {
    "id": "nGaOqXE9CiXT"
   },
   "outputs": [],
   "source": [
    "# agent._estimate_reward_model()\n",
    "\n",
    "rews = np.array([agent.reward_estimator.get_avg_reward(z0) for z0 in z]).reshape(20, 20)\n",
    "plt.imshow(rews)"
   ]
  },
  {
   "cell_type": "code",
   "execution_count": null,
   "metadata": {
    "id": "VuuFGzi2CiXT"
   },
   "outputs": [],
   "source": [
    "obs = convert_8bit_to_float(\n",
    "    torch.stack(\n",
    "        [\n",
    "            make_tensor(task.observation_model(s))\n",
    "            for s in range(task.transition_model.n_states)\n",
    "            for _ in range(1)\n",
    "        ]\n",
    "    )\n",
    ")[:, None, ...].to(DEVICE)\n",
    "z = agent.state_inference_model.get_state(obs)\n",
    "\n",
    "hash_vector = np.array(\n",
    "    [\n",
    "        agent.state_inference_model.z_dim**ii\n",
    "        for ii in range(agent.state_inference_model.z_layers)\n",
    "    ]\n",
    ")\n",
    "\n",
    "z = z.dot(hash_vector)\n",
    "\n",
    "rews = np.array([agent.reward_estimator.get_avg_reward(z0) for z0 in z]).reshape(20, 20)\n",
    "plt.imshow(rews)"
   ]
  },
  {
   "cell_type": "code",
   "execution_count": null,
   "metadata": {
    "id": "WQ8VNDjACiXT"
   },
   "outputs": [],
   "source": [
    "def get_value_function(model, task):\n",
    "    obs = convert_8bit_to_float(\n",
    "        torch.stack(\n",
    "            [\n",
    "                make_tensor(task.observation_model(s))\n",
    "                for s in range(task.transition_model.n_states)\n",
    "                for _ in range(1)\n",
    "            ]\n",
    "        )\n",
    "    )[:, None, ...].to(DEVICE)\n",
    "    z = model.state_inference_model.get_state(obs)\n",
    "\n",
    "    hash_vector = np.array(\n",
    "        [\n",
    "            model.state_inference_model.z_dim**ii\n",
    "            for ii in range(agent.state_inference_model.z_layers)\n",
    "        ]\n",
    "    )\n",
    "\n",
    "    z = z.dot(hash_vector)\n",
    "\n",
    "    value_function = np.array(\n",
    "        [agent.value_function.get(z0, np.nan) for z0 in z]\n",
    "    ).reshape(20, 20)\n",
    "    return value_function\n",
    "\n",
    "\n",
    "v = get_value_function(agent, task)\n",
    "plt.imshow(v)\n",
    "task.display_gridworld(plt.gca(), wall_color=\"w\", annotate=True)\n",
    "plt.title(\"Learned Value function\")"
   ]
  },
  {
   "cell_type": "code",
   "execution_count": null,
   "metadata": {},
   "outputs": [],
   "source": [
    "v"
   ]
  },
  {
   "cell_type": "code",
   "execution_count": null,
   "metadata": {
    "id": "miK3Yk9SCiXU"
   },
   "outputs": [],
   "source": [
    "plt.plot(v[5] - np.nanmin(v))"
   ]
  },
  {
   "cell_type": "code",
   "execution_count": null,
   "metadata": {
    "id": "UuVki8C5CiXU"
   },
   "outputs": [],
   "source": [
    "from tqdm import trange\n",
    "\n",
    "\n",
    "## Repeat with iterations\n",
    "n_models = 8\n",
    "# n_models=4\n",
    "\n",
    "\n",
    "room_1_mask = (np.arange(400) < 200) * (np.arange(400) % 20 < 10)\n",
    "room_2_mask = (np.arange(400) >= 200) * (np.arange(400) % 20 < 10)\n",
    "room_3_mask = np.arange(400) % 20 >= 10\n",
    "\n",
    "\n",
    "scores = []\n",
    "value_functions = []\n",
    "\n",
    "\n",
    "for idx in trange(n_models):\n",
    "    agent = make_model()\n",
    "    agent.learn(total_timesteps=agent_config[\"n_train_steps\"], progress_bar=False)\n",
    "    #     agent.learn(total_timesteps=500, progress_bar=False)\n",
    "\n",
    "    pmf = get_policy_prob(\n",
    "        agent,\n",
    "        vae_get_pmf,\n",
    "        n_states=env_kwargs[\"n_states\"],\n",
    "        map_height=env_kwargs[\"map_height\"],\n",
    "        cnn=True,\n",
    "    )\n",
    "\n",
    "    score_room_1 = np.sum(pi[room_1_mask] * pmf[room_1_mask], axis=1).mean()\n",
    "    score_room_2 = np.sum(pi[room_2_mask] * pmf[room_2_mask], axis=1).mean()\n",
    "    score_room_3 = np.sum(pi[room_3_mask] * pmf[room_3_mask], axis=1).mean()\n",
    "\n",
    "    v = get_value_function(agent, task)\n",
    "\n",
    "    scores.append(\n",
    "        pd.DataFrame(\n",
    "            {\n",
    "                \"Iteration\": [idx] * 4,\n",
    "                \"Score\": [\n",
    "                    np.sum(pi * pmf, axis=1).mean(),\n",
    "                    score_room_1,\n",
    "                    score_room_2,\n",
    "                    score_room_3,\n",
    "                ],\n",
    "                \"Condition\": [\"Overall\", \"Room 1\", \"Room 2\", \"Room 3\"],\n",
    "            }\n",
    "        )\n",
    "    )\n",
    "\n",
    "    value_functions.append(\n",
    "        pd.DataFrame(\n",
    "            {\n",
    "                \"Iteration\": [idx] * task.n_states,\n",
    "                \"State-Values\": v.reshape(-1),\n",
    "                \"States\": np.arange(task.n_states),\n",
    "            }\n",
    "        )\n",
    "    )\n",
    "\n",
    "scores = pd.concat(scores)\n",
    "value_functions = pd.concat(value_functions)"
   ]
  },
  {
   "cell_type": "code",
   "execution_count": null,
   "metadata": {
    "id": "NY0NZDioCiXU"
   },
   "outputs": [],
   "source": [
    "# Plot the average value function (n)\n",
    "\n",
    "# normalize the value function between zero and one within each iteration\n",
    "from sklearn.preprocessing import MinMaxScaler\n",
    "\n",
    "\n",
    "def min_max_scale(grouped_data):\n",
    "    v = grouped_data[\"State-Values\"].values.reshape(-1, 1)\n",
    "    v = MinMaxScaler().fit_transform(grouped_data[\"State-Values\"].values.reshape(-1, 1))\n",
    "    grouped_data[\"State-Values\"] = v\n",
    "    return grouped_data.drop(\"Iteration\", axis=1)\n",
    "\n",
    "\n",
    "normed_vf = value_functions.groupby(\"Iteration\", group_keys=True).apply(min_max_scale)\n",
    "\n",
    "# average and plot\n",
    "plt.imshow(x.groupby(\"States\").mean().values.reshape(20, 20))\n",
    "task.display_gridworld(plt.gca(), wall_color=\"w\", annotate=True)\n",
    "plt.title(\"Learned Value function\")"
   ]
  },
  {
   "cell_type": "code",
   "execution_count": null,
   "metadata": {
    "id": "Wj_z0BzYCiXU"
   },
   "outputs": [],
   "source": [
    "# plot 1d Value function through the goal\n",
    "normed_vf[\"Row\"] = normed_vf[\"States\"] // 20\n",
    "normed_vf[\"Column\"] = normed_vf[\"States\"] % 20\n",
    "\n",
    "sns.relplot(\n",
    "    data=normed_vf[normed_vf[\"Row\"] == 4], x=\"Column\", y=\"State-Values\", kind=\"line\"\n",
    ")\n",
    "sns.relplot(\n",
    "    data=normed_vf[(normed_vf[\"Column\"] >= 9) & (normed_vf[\"Column\"] <= 10)],\n",
    "    x=\"Row\",\n",
    "    y=\"State-Values\",\n",
    "    kind=\"line\",\n",
    "    hue=\"Column\",\n",
    ")"
   ]
  },
  {
   "cell_type": "markdown",
   "metadata": {
    "id": "nLzKl0_kCiXU"
   },
   "source": [
    "plt.imshow(\n",
    "    value_functions.groupby(\"States\")[\"State-Values\"]\n",
    "    .apply(np.nanmean)\n",
    "    .values.reshape(20, 20)\n",
    ")\n",
    "value_functions.to_csv('value_functions_vae.csv')"
   ]
  },
  {
   "cell_type": "code",
   "execution_count": null,
   "metadata": {
    "id": "FPepkS2fCiXU"
   },
   "outputs": [],
   "source": [
    "sns.catplot(data=scores, y=\"Score\", x=\"Condition\", kind=\"bar\")"
   ]
  },
  {
   "cell_type": "code",
   "execution_count": null,
   "metadata": {
    "id": "Hp9hNe3UCiXU"
   },
   "outputs": [],
   "source": [
    "scores[\"Model\"] = \"Value Iteration\"\n",
    "scores.to_csv(SAVE_FILE_NAME)\n",
    "scores2 = pd.read_csv(\"sims_thread_the_needle.csv\")\n",
    "scores2[\"Model\"] = \"PPO\"\n",
    "scores3 = pd.read_csv(\"sims_thread_the_needle_state_inf.csv\")\n",
    "scores3[\"Model\"] = \"Value Iteration + action based decoder\"\n",
    "\n",
    "\n",
    "all_scores = pd.concat([scores, scores2, scores3])\n",
    "sns.catplot(\n",
    "    data=all_scores[all_scores[\"Condition\"] != \"Overall\"],\n",
    "    y=\"Score\",\n",
    "    x=\"Condition\",\n",
    "    kind=\"point\",\n",
    "    hue=\"Model\",\n",
    ")\n",
    "plt.gca().set_ylim([0, 1])"
   ]
  },
  {
   "cell_type": "code",
   "execution_count": null,
   "metadata": {
    "id": "ah_dtJRLCiXU"
   },
   "outputs": [],
   "source": [
    "sns.catplot(\n",
    "    data=all_scores[all_scores[\"Condition\"] == \"Overall\"],\n",
    "    y=\"Score\",\n",
    "    x=\"Model\",\n",
    "    kind=\"bar\",\n",
    ")\n",
    "plt.gca().set_ylim([0, 1])"
   ]
  },
  {
   "cell_type": "code",
   "execution_count": null,
   "metadata": {
    "id": "rtMee5jxCiXU"
   },
   "outputs": [],
   "source": []
  }
 ],
 "metadata": {
  "colab": {
   "provenance": []
  },
  "kernelspec": {
   "display_name": "Python 3 (ipykernel)",
   "language": "python",
   "name": "python3"
  },
  "language_info": {
   "codemirror_mode": {
    "name": "ipython",
    "version": 3
   },
   "file_extension": ".py",
   "mimetype": "text/x-python",
   "name": "python",
   "nbconvert_exporter": "python",
   "pygments_lexer": "ipython3",
   "version": "3.10.11"
  },
  "widgets": {
   "application/vnd.jupyter.widget-state+json": {
    "1652455236434fd595f478f228333ade": {
     "model_module": "@jupyter-widgets/controls",
     "model_module_version": "1.5.0",
     "model_name": "HTMLModel",
     "state": {
      "_dom_classes": [],
      "_model_module": "@jupyter-widgets/controls",
      "_model_module_version": "1.5.0",
      "_model_name": "HTMLModel",
      "_view_count": null,
      "_view_module": "@jupyter-widgets/controls",
      "_view_module_version": "1.5.0",
      "_view_name": "HTMLView",
      "description": "",
      "description_tooltip": null,
      "layout": "IPY_MODEL_d1d32540b92e4e4584ac3aa628436021",
      "placeholder": "​",
      "style": "IPY_MODEL_ce22fd1425e34878b5bf57a180e6b68a",
      "value": "100%"
     }
    },
    "35db648b0ccf49a898f46c7002c182ff": {
     "model_module": "@jupyter-widgets/controls",
     "model_module_version": "1.5.0",
     "model_name": "HBoxModel",
     "state": {
      "_dom_classes": [],
      "_model_module": "@jupyter-widgets/controls",
      "_model_module_version": "1.5.0",
      "_model_name": "HBoxModel",
      "_view_count": null,
      "_view_module": "@jupyter-widgets/controls",
      "_view_module_version": "1.5.0",
      "_view_name": "HBoxView",
      "box_style": "",
      "children": [
       "IPY_MODEL_1652455236434fd595f478f228333ade",
       "IPY_MODEL_971b821eb13d4257a7c2ae73381df11e",
       "IPY_MODEL_b44689589e2b4f1dbb45f61c49d4062f"
      ],
      "layout": "IPY_MODEL_60ad1b1ffe8c47518fb905de5a2ba43b"
     }
    },
    "3a6976f1e97e4bfa9c820ae22c022177": {
     "model_module": "@jupyter-widgets/controls",
     "model_module_version": "1.5.0",
     "model_name": "DescriptionStyleModel",
     "state": {
      "_model_module": "@jupyter-widgets/controls",
      "_model_module_version": "1.5.0",
      "_model_name": "DescriptionStyleModel",
      "_view_count": null,
      "_view_module": "@jupyter-widgets/base",
      "_view_module_version": "1.2.0",
      "_view_name": "StyleView",
      "description_width": ""
     }
    },
    "532462010a464a408a44e376dbbd6ec2": {
     "model_module": "@jupyter-widgets/base",
     "model_module_version": "1.2.0",
     "model_name": "LayoutModel",
     "state": {
      "_model_module": "@jupyter-widgets/base",
      "_model_module_version": "1.2.0",
      "_model_name": "LayoutModel",
      "_view_count": null,
      "_view_module": "@jupyter-widgets/base",
      "_view_module_version": "1.2.0",
      "_view_name": "LayoutView",
      "align_content": null,
      "align_items": null,
      "align_self": null,
      "border": null,
      "bottom": null,
      "display": null,
      "flex": null,
      "flex_flow": null,
      "grid_area": null,
      "grid_auto_columns": null,
      "grid_auto_flow": null,
      "grid_auto_rows": null,
      "grid_column": null,
      "grid_gap": null,
      "grid_row": null,
      "grid_template_areas": null,
      "grid_template_columns": null,
      "grid_template_rows": null,
      "height": null,
      "justify_content": null,
      "justify_items": null,
      "left": null,
      "margin": null,
      "max_height": null,
      "max_width": null,
      "min_height": null,
      "min_width": null,
      "object_fit": null,
      "object_position": null,
      "order": null,
      "overflow": null,
      "overflow_x": null,
      "overflow_y": null,
      "padding": null,
      "right": null,
      "top": null,
      "visibility": null,
      "width": null
     }
    },
    "60ad1b1ffe8c47518fb905de5a2ba43b": {
     "model_module": "@jupyter-widgets/base",
     "model_module_version": "1.2.0",
     "model_name": "LayoutModel",
     "state": {
      "_model_module": "@jupyter-widgets/base",
      "_model_module_version": "1.2.0",
      "_model_name": "LayoutModel",
      "_view_count": null,
      "_view_module": "@jupyter-widgets/base",
      "_view_module_version": "1.2.0",
      "_view_name": "LayoutView",
      "align_content": null,
      "align_items": null,
      "align_self": null,
      "border": null,
      "bottom": null,
      "display": null,
      "flex": null,
      "flex_flow": null,
      "grid_area": null,
      "grid_auto_columns": null,
      "grid_auto_flow": null,
      "grid_auto_rows": null,
      "grid_column": null,
      "grid_gap": null,
      "grid_row": null,
      "grid_template_areas": null,
      "grid_template_columns": null,
      "grid_template_rows": null,
      "height": null,
      "justify_content": null,
      "justify_items": null,
      "left": null,
      "margin": null,
      "max_height": null,
      "max_width": null,
      "min_height": null,
      "min_width": null,
      "object_fit": null,
      "object_position": null,
      "order": null,
      "overflow": null,
      "overflow_x": null,
      "overflow_y": null,
      "padding": null,
      "right": null,
      "top": null,
      "visibility": null,
      "width": null
     }
    },
    "971b821eb13d4257a7c2ae73381df11e": {
     "model_module": "@jupyter-widgets/controls",
     "model_module_version": "1.5.0",
     "model_name": "FloatProgressModel",
     "state": {
      "_dom_classes": [],
      "_model_module": "@jupyter-widgets/controls",
      "_model_module_version": "1.5.0",
      "_model_name": "FloatProgressModel",
      "_view_count": null,
      "_view_module": "@jupyter-widgets/controls",
      "_view_module_version": "1.5.0",
      "_view_name": "ProgressView",
      "bar_style": "success",
      "description": "",
      "description_tooltip": null,
      "layout": "IPY_MODEL_532462010a464a408a44e376dbbd6ec2",
      "max": 1000,
      "min": 0,
      "orientation": "horizontal",
      "style": "IPY_MODEL_f15532d5a2d84f078b135130546e00f9",
      "value": 1000
     }
    },
    "a8b47418ba51421396006975690322d2": {
     "model_module": "@jupyter-widgets/base",
     "model_module_version": "1.2.0",
     "model_name": "LayoutModel",
     "state": {
      "_model_module": "@jupyter-widgets/base",
      "_model_module_version": "1.2.0",
      "_model_name": "LayoutModel",
      "_view_count": null,
      "_view_module": "@jupyter-widgets/base",
      "_view_module_version": "1.2.0",
      "_view_name": "LayoutView",
      "align_content": null,
      "align_items": null,
      "align_self": null,
      "border": null,
      "bottom": null,
      "display": null,
      "flex": null,
      "flex_flow": null,
      "grid_area": null,
      "grid_auto_columns": null,
      "grid_auto_flow": null,
      "grid_auto_rows": null,
      "grid_column": null,
      "grid_gap": null,
      "grid_row": null,
      "grid_template_areas": null,
      "grid_template_columns": null,
      "grid_template_rows": null,
      "height": null,
      "justify_content": null,
      "justify_items": null,
      "left": null,
      "margin": null,
      "max_height": null,
      "max_width": null,
      "min_height": null,
      "min_width": null,
      "object_fit": null,
      "object_position": null,
      "order": null,
      "overflow": null,
      "overflow_x": null,
      "overflow_y": null,
      "padding": null,
      "right": null,
      "top": null,
      "visibility": null,
      "width": null
     }
    },
    "b44689589e2b4f1dbb45f61c49d4062f": {
     "model_module": "@jupyter-widgets/controls",
     "model_module_version": "1.5.0",
     "model_name": "HTMLModel",
     "state": {
      "_dom_classes": [],
      "_model_module": "@jupyter-widgets/controls",
      "_model_module_version": "1.5.0",
      "_model_name": "HTMLModel",
      "_view_count": null,
      "_view_module": "@jupyter-widgets/controls",
      "_view_module_version": "1.5.0",
      "_view_name": "HTMLView",
      "description": "",
      "description_tooltip": null,
      "layout": "IPY_MODEL_a8b47418ba51421396006975690322d2",
      "placeholder": "​",
      "style": "IPY_MODEL_3a6976f1e97e4bfa9c820ae22c022177",
      "value": " 1000/1000 [00:07&lt;00:00, 87.20it/s]"
     }
    },
    "ce22fd1425e34878b5bf57a180e6b68a": {
     "model_module": "@jupyter-widgets/controls",
     "model_module_version": "1.5.0",
     "model_name": "DescriptionStyleModel",
     "state": {
      "_model_module": "@jupyter-widgets/controls",
      "_model_module_version": "1.5.0",
      "_model_name": "DescriptionStyleModel",
      "_view_count": null,
      "_view_module": "@jupyter-widgets/base",
      "_view_module_version": "1.2.0",
      "_view_name": "StyleView",
      "description_width": ""
     }
    },
    "d1d32540b92e4e4584ac3aa628436021": {
     "model_module": "@jupyter-widgets/base",
     "model_module_version": "1.2.0",
     "model_name": "LayoutModel",
     "state": {
      "_model_module": "@jupyter-widgets/base",
      "_model_module_version": "1.2.0",
      "_model_name": "LayoutModel",
      "_view_count": null,
      "_view_module": "@jupyter-widgets/base",
      "_view_module_version": "1.2.0",
      "_view_name": "LayoutView",
      "align_content": null,
      "align_items": null,
      "align_self": null,
      "border": null,
      "bottom": null,
      "display": null,
      "flex": null,
      "flex_flow": null,
      "grid_area": null,
      "grid_auto_columns": null,
      "grid_auto_flow": null,
      "grid_auto_rows": null,
      "grid_column": null,
      "grid_gap": null,
      "grid_row": null,
      "grid_template_areas": null,
      "grid_template_columns": null,
      "grid_template_rows": null,
      "height": null,
      "justify_content": null,
      "justify_items": null,
      "left": null,
      "margin": null,
      "max_height": null,
      "max_width": null,
      "min_height": null,
      "min_width": null,
      "object_fit": null,
      "object_position": null,
      "order": null,
      "overflow": null,
      "overflow_x": null,
      "overflow_y": null,
      "padding": null,
      "right": null,
      "top": null,
      "visibility": null,
      "width": null
     }
    },
    "f15532d5a2d84f078b135130546e00f9": {
     "model_module": "@jupyter-widgets/controls",
     "model_module_version": "1.5.0",
     "model_name": "ProgressStyleModel",
     "state": {
      "_model_module": "@jupyter-widgets/controls",
      "_model_module_version": "1.5.0",
      "_model_name": "ProgressStyleModel",
      "_view_count": null,
      "_view_module": "@jupyter-widgets/base",
      "_view_module_version": "1.2.0",
      "_view_name": "StyleView",
      "bar_color": null,
      "description_width": ""
     }
    }
   }
  }
 },
 "nbformat": 4,
 "nbformat_minor": 1
}
