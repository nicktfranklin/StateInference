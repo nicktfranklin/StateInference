{
 "cells": [
  {
   "cell_type": "markdown",
   "metadata": {},
   "source": [
    "# Agents:\n",
    "These simulations evaluate several agents exploring the thread the needle enviroment"
   ]
  },
  {
   "cell_type": "code",
   "execution_count": 1,
   "metadata": {},
   "outputs": [
    {
     "data": {
      "text/html": [
       "<style>.container { width:90% !important; }</style>"
      ],
      "text/plain": [
       "<IPython.core.display.HTML object>"
      ]
     },
     "metadata": {},
     "output_type": "display_data"
    }
   ],
   "source": [
    "%load_ext autoreload\n",
    "%autoreload 2\n",
    "from IPython.display import display, HTML\n",
    "display(HTML(\"<style>.container { width:90% !important; }</style>\"))"
   ]
  },
  {
   "cell_type": "code",
   "execution_count": 2,
   "metadata": {},
   "outputs": [
    {
     "name": "stdout",
     "output_type": "stream",
     "text": [
      "python 3.9.16 (main, Mar  8 2023, 04:29:24) \n",
      "[Clang 14.0.6 ]\n",
      "torch 2.0.0\n",
      "device = mps\n"
     ]
    }
   ],
   "source": [
    "%matplotlib inline\n",
    "import sys\n",
    "\n",
    "import matplotlib.pyplot as plt\n",
    "import numpy as np\n",
    "import seaborn as sns\n",
    "import torch\n",
    "import torch.utils.data as data\n",
    "from sklearn.metrics import pairwise_distances\n",
    "\n",
    "import state_inference.utils as utils\n",
    "from state_inference.data import ObservationDataset\n",
    "from state_inference.env import (\n",
    "    ObservationModel,\n",
    "    TransitionModel,\n",
    "    WorldModel,\n",
    "    make_cardinal_transition_function,\n",
    ")\n",
    "from state_inference.model import DEVICE, Decoder, Encoder, StateVae\n",
    "from state_inference.pytorch_utils import train_epochs\n",
    "from state_inference.tabular_models import (\n",
    "    TabularRewardEstimator,\n",
    "    TabularTransitionEstimator,\n",
    "    value_iteration,\n",
    "    OnPolicyCritic, \n",
    "    Simulator\n",
    ")\n",
    "from value_iteration.environments.thread_the_needle import make_thread_the_needle_walls\n",
    "\n",
    "print(f\"python {sys.version}\")\n",
    "print(f\"torch {torch.__version__}\")\n",
    "print(f\"device = {DEVICE}\")\n"
   ]
  },
  {
   "cell_type": "markdown",
   "metadata": {},
   "source": [
    "# Define the toy world"
   ]
  },
  {
   "cell_type": "code",
   "execution_count": 3,
   "metadata": {},
   "outputs": [
    {
     "name": "stdout",
     "output_type": "stream",
     "text": [
      "Start grid location: (10, 15)\n"
     ]
    }
   ],
   "source": [
    "# Discritized states: a 20x20 grid of states, which we embed by spacing\n",
    "# evenly in a nXn space\n",
    "HEIGHT, WIDTH = 20, 20\n",
    "MAP_HEIGHT = 60\n",
    "\n",
    "START_STATE = WIDTH * (HEIGHT // 2) + (WIDTH // 4 * 3)  # bottom right corner\n",
    "\n",
    "gw_kwargs = dict(\n",
    "    rbf_kernel_size=51, rbf_kernel_scale=0.2, location_noise_scale=0.5  # must be odd\n",
    ")\n",
    "observation_model = ObservationModel(HEIGHT, WIDTH, MAP_HEIGHT, **gw_kwargs)\n",
    "\n",
    "\n",
    "# Define the transitions for the thread the needle task\n",
    "walls = make_thread_the_needle_walls(20)\n",
    "transition_model = TransitionModel(HEIGHT, WIDTH, walls)\n",
    "\n",
    "# Thread the needle reward function\n",
    "state_rewards = {ii: 1 for ii in range(0, 10)}\n",
    "state_rewards.update({20 * ii: 1 for ii in range(0, 10)})\n",
    "state_rewards.update({20 * ii: -1 for ii in range(10, 20)})\n",
    "\n",
    "\n",
    "## define the transition functions for the task\n",
    "state_action_transitions = make_cardinal_transition_function(HEIGHT, WIDTH, walls)\n",
    "\n",
    "## Wrap these in a world model\n",
    "task = WorldModel(\n",
    "    state_action_transitions=state_action_transitions,\n",
    "    state_rewards=state_rewards,\n",
    "    observation_model=observation_model,\n",
    "    initial_state=START_STATE,\n",
    "    n_states=HEIGHT * WIDTH,\n",
    ")\n",
    "\n",
    "print(f\"Start grid location: {observation_model.get_grid_coords(START_STATE)}\")"
   ]
  },
  {
   "cell_type": "code",
   "execution_count": 4,
   "metadata": {},
   "outputs": [
    {
     "data": {
      "image/png": "[encoded data removed]",
      "text/plain": [
       "<Figure size 800x400 with 2 Axes>"
      ]
     },
     "metadata": {},
     "output_type": "display_data"
    }
   ],
   "source": [
    "# for Display purposes, we can show the reward function embedded in the original\n",
    "# space.  This doesn't have a clean interpretation, but it shows us\n",
    "# roughly where pixels are associated with positive or negative reward\n",
    "\n",
    "reward_map = (\n",
    "    torch.stack(\n",
    "        [\n",
    "            observation_model.embed_state(s)[None, ...] * r\n",
    "            for s, r in state_rewards.items()\n",
    "        ]\n",
    "    )\n",
    "    .mean(dim=0)\n",
    "    .reshape(MAP_HEIGHT, -1)\n",
    ")\n",
    "\n",
    "## Display the task\n",
    "fig, axes = plt.subplots(1, 2, figsize=(8, 4))\n",
    "axes[0].invert_yaxis()\n",
    "transition_model.display_gridworld(ax=axes[0])\n",
    "axes[0].annotate(\"G\", (0, 0), ha=\"center\", va=\"center\", c=\"k\")\n",
    "r, c = observation_model.get_grid_coords(START_STATE)\n",
    "axes[0].annotate(\"S\", (c, r), ha=\"center\", va=\"center\", c=\"k\")\n",
    "axes[0].set_title(\"Thread-the-needle states\")\n",
    "\n",
    "\n",
    "_max = max([abs(reward_map.min()), abs(reward_map.max())])\n",
    "axes[1].imshow(reward_map, cmap=\"bwr\", vmin=-_max, vmax=_max)\n",
    "axes[1].set_title(\"Reward * Embedding\")\n",
    "plt.show()"
   ]
  },
  {
   "cell_type": "markdown",
   "metadata": {},
   "source": [
    "### Pretrain the observation model\n",
    "For these simulations, we will assume the observation model is known."
   ]
  },
  {
   "cell_type": "code",
   "execution_count": 5,
   "metadata": {},
   "outputs": [
    {
     "name": "stdout",
     "output_type": "stream",
     "text": [
      "63\n"
     ]
    }
   ],
   "source": [
    "### Simulation Parameters\n",
    "N_TRAINING_EXAMPLES = 10000\n",
    "BATCH_SIZE = 64\n",
    "\n",
    "\n",
    "# Create the dataloaders from the dataset\n",
    "args = [transition_model, observation_model]\n",
    "train_obs = ObservationDataset(*args, N_TRAINING_EXAMPLES)\n",
    "test_obs = ObservationDataset(*args, train=False)\n",
    "\n",
    "train_loader = data.DataLoader(\n",
    "    train_obs,\n",
    "    batch_size=BATCH_SIZE,\n",
    "    shuffle=True,\n",
    ")\n",
    "test_loader = data.DataLoader(test_obs, batch_size=BATCH_SIZE)"
   ]
  },
  {
   "cell_type": "code",
   "execution_count": 36,
   "metadata": {},
   "outputs": [
    {
     "name": "stdout",
     "output_type": "stream",
     "text": [
      "StateVae(\n",
      "  (encoder): Encoder(\n",
      "    (net): Sequential(\n",
      "      (0): Linear(in_features=3600, out_features=720, bias=True)\n",
      "      (1): BatchNorm1d(720, eps=1e-05, momentum=0.1, affine=True, track_running_stats=True)\n",
      "      (2): Dropout(p=0.1, inplace=False)\n",
      "      (3): ReLU()\n",
      "      (4): Linear(in_features=720, out_features=360, bias=True)\n",
      "      (5): BatchNorm1d(360, eps=1e-05, momentum=0.1, affine=True, track_running_stats=True)\n",
      "      (6): Dropout(p=0.1, inplace=False)\n",
      "      (7): ReLU()\n",
      "      (8): Linear(in_features=360, out_features=1000, bias=True)\n",
      "      (9): BatchNorm1d(1000, eps=1e-05, momentum=0.1, affine=True, track_running_stats=True)\n",
      "    )\n",
      "  )\n",
      "  (decoder): Decoder(\n",
      "    (net): Sequential(\n",
      "      (0): Linear(in_features=1000, out_features=360, bias=True)\n",
      "      (1): BatchNorm1d(360, eps=1e-05, momentum=0.1, affine=True, track_running_stats=True)\n",
      "      (2): Dropout(p=0.1, inplace=False)\n",
      "      (3): ReLU()\n",
      "      (4): Linear(in_features=360, out_features=720, bias=True)\n",
      "      (5): BatchNorm1d(720, eps=1e-05, momentum=0.1, affine=True, track_running_stats=True)\n",
      "      (6): Dropout(p=0.1, inplace=False)\n",
      "      (7): ReLU()\n",
      "      (8): Linear(in_features=720, out_features=3600, bias=True)\n",
      "    )\n",
      "  )\n",
      ")\n"
     ]
    }
   ],
   "source": [
    "### Model + Training Parameters\n",
    "N_EPOCHS = 20  # should be 20\n",
    "EMBEDDING_LAYERS = 5\n",
    "EMBEDDING_DIM = len(observation_model.states) // 2\n",
    "OBSERVATION_DIM = observation_model.map_height**2\n",
    "LR = 3e-4\n",
    "beta = 1.0\n",
    "tau = 2.0\n",
    "gamma = 0.99\n",
    "dropout = 0.1\n",
    "\n",
    "# create the model\n",
    "encoder_hidden = [OBSERVATION_DIM // 5, OBSERVATION_DIM // 10]\n",
    "decoder_hidden = [OBSERVATION_DIM // 10, OBSERVATION_DIM // 5]\n",
    "z_dim = EMBEDDING_DIM * EMBEDDING_LAYERS\n",
    "\n",
    "encoder = Encoder(\n",
    "    OBSERVATION_DIM,\n",
    "    encoder_hidden,\n",
    "    z_dim,\n",
    "    dropout=dropout,\n",
    ")\n",
    "\n",
    "decoder = Decoder(\n",
    "    z_dim,\n",
    "    decoder_hidden,\n",
    "    OBSERVATION_DIM,\n",
    "    dropout=dropout,\n",
    ")\n",
    "\n",
    "vae_kwargs = dict(\n",
    "    z_dim=EMBEDDING_DIM, z_layers=EMBEDDING_LAYERS, beta=beta, tau=tau, gamma=gamma\n",
    ")\n",
    "\n",
    "vae_model = StateVae(encoder, decoder, **vae_kwargs).to(DEVICE)\n",
    "print(vae_model)"
   ]
  },
  {
   "cell_type": "code",
   "execution_count": 37,
   "metadata": {},
   "outputs": [
    {
     "name": "stdout",
     "output_type": "stream",
     "text": [
      "Epoch 0, ELBO Loss (test) 4.073756\n",
      "Epoch 1, ELBO Loss (test) 3.014088\n",
      "Epoch 2, ELBO Loss (test) 2.788049\n",
      "Epoch 3, ELBO Loss (test) 2.311746\n",
      "Epoch 4, ELBO Loss (test) 2.171860\n",
      "Epoch 5, ELBO Loss (test) 1.612031\n",
      "Epoch 6, ELBO Loss (test) 1.391750\n",
      "Epoch 7, ELBO Loss (test) 1.348618\n",
      "Epoch 8, ELBO Loss (test) 1.009973\n",
      "Epoch 9, ELBO Loss (test) 1.097206\n",
      "Epoch 10, ELBO Loss (test) 0.849292\n",
      "Epoch 11, ELBO Loss (test) 0.670386\n",
      "Epoch 12, ELBO Loss (test) 0.782583\n",
      "Epoch 13, ELBO Loss (test) 0.824012\n",
      "Epoch 14, ELBO Loss (test) 0.666319\n",
      "Epoch 15, ELBO Loss (test) 0.539727\n",
      "Epoch 16, ELBO Loss (test) 0.468743\n",
      "Epoch 17, ELBO Loss (test) 0.693303\n",
      "Epoch 18, ELBO Loss (test) 0.606529\n",
      "Epoch 19, ELBO Loss (test) 0.582411\n"
     ]
    }
   ],
   "source": [
    "# Train the the model\n",
    "train_losses, test_losses = train_epochs(\n",
    "    vae_model, train_loader, test_loader, dict(epochs=N_EPOCHS, lr=LR, clip_grad=True)\n",
    ")"
   ]
  },
  {
   "cell_type": "markdown",
   "metadata": {},
   "source": [
    "## Play the game\n",
    "Simulate an agent in the game world"
   ]
  },
  {
   "cell_type": "code",
   "execution_count": 45,
   "metadata": {},
   "outputs": [],
   "source": [
    "random_critic = OnPolicyCritic(\n",
    "    vae_model,\n",
    "    set_action=set(state_action_transitions.keys()),\n",
    "    gamma=0.8,\n",
    "    n_iter=1000,\n",
    ")\n",
    "sim = Simulator(task, random_critic, max_trial_length=10000)"
   ]
  },
  {
   "cell_type": "code",
   "execution_count": 46,
   "metadata": {},
   "outputs": [],
   "source": [
    "history = sim.simulate_trial()"
   ]
  },
  {
   "cell_type": "code",
   "execution_count": 47,
   "metadata": {},
   "outputs": [
    {
     "data": {
      "text/plain": [
       "199"
      ]
     },
     "execution_count": 47,
     "metadata": {},
     "output_type": "execute_result"
    }
   ],
   "source": [
    "history.get_total_reward()"
   ]
  },
  {
   "cell_type": "code",
   "execution_count": 48,
   "metadata": {},
   "outputs": [
    {
     "data": {
      "text/plain": [
       "<matplotlib.image.AxesImage at 0x29c72fc70>"
      ]
     },
     "execution_count": 48,
     "metadata": {},
     "output_type": "execute_result"
    },
    {
     "data": {
      "image/png": "[encoded data removed]",
      "text/plain": [
       "<Figure size 640x480 with 1 Axes>"
      ]
     },
     "metadata": {},
     "output_type": "display_data"
    }
   ],
   "source": [
    "plt.imshow(history.get_visitation_history(h=20, w=20))"
   ]
  },
  {
   "cell_type": "code",
   "execution_count": 49,
   "metadata": {},
   "outputs": [
    {
     "data": {
      "text/plain": [
       "469"
      ]
     },
     "execution_count": 49,
     "metadata": {},
     "output_type": "execute_result"
    }
   ],
   "source": [
    "len(random_critic.rewards.get_states())"
   ]
  },
  {
   "cell_type": "code",
   "execution_count": null,
   "metadata": {},
   "outputs": [],
   "source": []
  }
 ],
 "metadata": {
  "kernelspec": {
   "display_name": "Python 3 (ipykernel)",
   "language": "python",
   "name": "python3"
  },
  "language_info": {
   "codemirror_mode": {
    "name": "ipython",
    "version": 3
   },
   "file_extension": ".py",
   "mimetype": "text/x-python",
   "name": "python",
   "nbconvert_exporter": "python",
   "pygments_lexer": "ipython3",
   "version": "3.9.16"
  }
 },
 "nbformat": 4,
 "nbformat_minor": 2
}
